{
 "cells": [
  {
   "cell_type": "markdown",
   "metadata": {},
   "source": [
    "# Creating a Sentiment Analysis Web App\n",
    "## Using PyTorch and SageMaker\n",
    "\n",
    "_Deep Learning Nanodegree Program | Deployment_\n",
    "\n",
    "---\n",
    "\n",
    "Now that we have a basic understanding of how SageMaker works we will try to use it to construct a complete project from end to end. Our goal will be to have a simple web page which a user can use to enter a movie review. The web page will then send the review off to our deployed model which will predict the sentiment of the entered review.\n",
    "\n",
    "## Instructions\n",
    "\n",
    "Some template code has already been provided for you, and you will need to implement additional functionality to successfully complete this notebook. You will not need to modify the included code beyond what is requested. Sections that begin with '**TODO**' in the header indicate that you need to complete or implement some portion within them. Instructions will be provided for each section and the specifics of the implementation are marked in the code block with a `# TODO: ...` comment. Please be sure to read the instructions carefully!\n",
    "\n",
    "In addition to implementing code, there will be questions for you to answer which relate to the task and your implementation. Each section where you will answer a question is preceded by a '**Question:**' header. Carefully read each question and provide your answer below the '**Answer:**' header by editing the Markdown cell.\n",
    "\n",
    "> **Note**: Code and Markdown cells can be executed using the **Shift+Enter** keyboard shortcut. In addition, a cell can be edited by typically clicking it (double-click for Markdown cells) or by pressing **Enter** while it is highlighted.\n",
    "\n",
    "## General Outline\n",
    "\n",
    "Recall the general outline for SageMaker projects using a notebook instance.\n",
    "\n",
    "1. Download or otherwise retrieve the data.\n",
    "2. Process / Prepare the data.\n",
    "3. Upload the processed data to S3.\n",
    "4. Train a chosen model.\n",
    "5. Test the trained model (typically using a batch transform job).\n",
    "6. Deploy the trained model.\n",
    "7. Use the deployed model.\n",
    "\n",
    "For this project, you will be following the steps in the general outline with some modifications. \n",
    "\n",
    "First, you will not be testing the model in its own step. You will still be testing the model, however, you will do it by deploying your model and then using the deployed model by sending the test data to it. One of the reasons for doing this is so that you can make sure that your deployed model is working correctly before moving forward.\n",
    "\n",
    "In addition, you will deploy and use your trained model a second time. In the second iteration you will customize the way that your trained model is deployed by including some of your own code. In addition, your newly deployed model will be used in the sentiment analysis web app."
   ]
  },
  {
   "cell_type": "markdown",
   "metadata": {},
   "source": [
    "## Step 1: Downloading the data\n",
    "\n",
    "As in the XGBoost in SageMaker notebook, we will be using the [IMDb dataset](http://ai.stanford.edu/~amaas/data/sentiment/)\n",
    "\n",
    "> Maas, Andrew L., et al. [Learning Word Vectors for Sentiment Analysis](http://ai.stanford.edu/~amaas/data/sentiment/). In _Proceedings of the 49th Annual Meeting of the Association for Computational Linguistics: Human Language Technologies_. Association for Computational Linguistics, 2011."
   ]
  },
  {
   "cell_type": "code",
   "execution_count": 1,
   "metadata": {},
   "outputs": [
    {
     "name": "stdout",
     "output_type": "stream",
     "text": [
      "mkdir: cannot create directory ‘../data’: File exists\n",
      "--2020-04-14 19:49:18--  http://ai.stanford.edu/~amaas/data/sentiment/aclImdb_v1.tar.gz\n",
      "Resolving ai.stanford.edu (ai.stanford.edu)... 171.64.68.10\n",
      "Connecting to ai.stanford.edu (ai.stanford.edu)|171.64.68.10|:80... connected.\n",
      "HTTP request sent, awaiting response... 200 OK\n",
      "Length: 84125825 (80M) [application/x-gzip]\n",
      "Saving to: ‘../data/aclImdb_v1.tar.gz’\n",
      "\n",
      "../data/aclImdb_v1. 100%[===================>]  80.23M  9.55MB/s    in 11s     \n",
      "\n",
      "2020-04-14 19:49:30 (7.49 MB/s) - ‘../data/aclImdb_v1.tar.gz’ saved [84125825/84125825]\n",
      "\n"
     ]
    }
   ],
   "source": [
    "%mkdir ../data\n",
    "!wget -O ../data/aclImdb_v1.tar.gz http://ai.stanford.edu/~amaas/data/sentiment/aclImdb_v1.tar.gz\n",
    "!tar -zxf ../data/aclImdb_v1.tar.gz -C ../data"
   ]
  },
  {
   "cell_type": "markdown",
   "metadata": {},
   "source": [
    "## Step 2: Preparing and Processing the data\n",
    "\n",
    "Also, as in the XGBoost notebook, we will be doing some initial data processing. The first few steps are the same as in the XGBoost example. To begin with, we will read in each of the reviews and combine them into a single input structure. Then, we will split the dataset into a training set and a testing set."
   ]
  },
  {
   "cell_type": "code",
   "execution_count": 2,
   "metadata": {},
   "outputs": [],
   "source": [
    "import os\n",
    "import glob\n",
    "from collections import Counter\n",
    "\n",
    "def read_imdb_data(data_dir='../data/aclImdb'):\n",
    "    data = {}\n",
    "    labels = {}\n",
    "    \n",
    "    for data_type in ['train', 'test']:\n",
    "        data[data_type] = {}\n",
    "        labels[data_type] = {}\n",
    "        \n",
    "        for sentiment in ['pos', 'neg']:\n",
    "            data[data_type][sentiment] = []\n",
    "            labels[data_type][sentiment] = []\n",
    "            \n",
    "            path = os.path.join(data_dir, data_type, sentiment, '*.txt')\n",
    "            files = glob.glob(path)\n",
    "            \n",
    "            for f in files:\n",
    "                with open(f) as review:\n",
    "                    data[data_type][sentiment].append(review.read())\n",
    "                    # Here we represent a positive review by '1' and a negative review by '0'\n",
    "                    labels[data_type][sentiment].append(1 if sentiment == 'pos' else 0)\n",
    "                    \n",
    "            assert len(data[data_type][sentiment]) == len(labels[data_type][sentiment]), \\\n",
    "                    \"{}/{} data size does not match labels size\".format(data_type, sentiment)\n",
    "                \n",
    "    return data, labels"
   ]
  },
  {
   "cell_type": "code",
   "execution_count": 3,
   "metadata": {},
   "outputs": [
    {
     "name": "stdout",
     "output_type": "stream",
     "text": [
      "IMDB reviews: train = 12500 pos / 12500 neg, test = 12500 pos / 12500 neg\n"
     ]
    }
   ],
   "source": [
    "data, labels = read_imdb_data()\n",
    "print(\"IMDB reviews: train = {} pos / {} neg, test = {} pos / {} neg\".format(\n",
    "            len(data['train']['pos']), len(data['train']['neg']),\n",
    "            len(data['test']['pos']), len(data['test']['neg'])))"
   ]
  },
  {
   "cell_type": "markdown",
   "metadata": {},
   "source": [
    "Now that we've read the raw training and testing data from the downloaded dataset, we will combine the positive and negative reviews and shuffle the resulting records."
   ]
  },
  {
   "cell_type": "code",
   "execution_count": 4,
   "metadata": {},
   "outputs": [],
   "source": [
    "from sklearn.utils import shuffle\n",
    "\n",
    "def prepare_imdb_data(data, labels):\n",
    "    \"\"\"Prepare training and test sets from IMDb movie reviews.\"\"\"\n",
    "    \n",
    "    #Combine positive and negative reviews and labels\n",
    "    data_train = data['train']['pos'] + data['train']['neg']\n",
    "    data_test = data['test']['pos'] + data['test']['neg']\n",
    "    labels_train = labels['train']['pos'] + labels['train']['neg']\n",
    "    labels_test = labels['test']['pos'] + labels['test']['neg']\n",
    "    \n",
    "    #Shuffle reviews and corresponding labels within training and test sets\n",
    "    data_train, labels_train = shuffle(data_train, labels_train)\n",
    "    data_test, labels_test = shuffle(data_test, labels_test)\n",
    "    \n",
    "    # Return a unified training data, test data, training labels, test labets\n",
    "    return data_train, data_test, labels_train, labels_test"
   ]
  },
  {
   "cell_type": "code",
   "execution_count": 5,
   "metadata": {},
   "outputs": [
    {
     "name": "stdout",
     "output_type": "stream",
     "text": [
      "IMDb reviews (combined): train = 25000, test = 25000\n"
     ]
    }
   ],
   "source": [
    "train_X, test_X, train_y, test_y = prepare_imdb_data(data, labels)\n",
    "print(\"IMDb reviews (combined): train = {}, test = {}\".format(len(train_X), len(test_X)))"
   ]
  },
  {
   "cell_type": "markdown",
   "metadata": {},
   "source": [
    "Now that we have our training and testing sets unified and prepared, we should do a quick check and see an example of the data our model will be trained on. This is generally a good idea as it allows you to see how each of the further processing steps affects the reviews and it also ensures that the data has been loaded correctly."
   ]
  },
  {
   "cell_type": "code",
   "execution_count": 7,
   "metadata": {},
   "outputs": [
    {
     "name": "stdout",
     "output_type": "stream",
     "text": [
      "Scary.. Yes Scary!! Jam-packed with nudity (from fat people to skinny people), Maslin Beach takes place on a nudist beach in S.A.<br /><br />I first saw this film two years ago - it's safe to say it made a bizarre topic of discussion at school the next day. This film was horrible! Hardly a romantic comedy - just a showcase of nudity! This movie hit its lowpoint with one of the new-age characters staring down between a girls legs.<br /><br />Girl: You're not going to find God in there! Guy: Nah, But I think I found heaven.<br /><br />Steer clear of this one, unless you want to hear amateur actors discuss topics such as farting, adultery and the process of superlguing one's genitals together. AVOID!\n",
      "0\n"
     ]
    }
   ],
   "source": [
    "print(train_X[100])\n",
    "print(train_y[100])"
   ]
  },
  {
   "cell_type": "markdown",
   "metadata": {},
   "source": [
    "The first step in processing the reviews is to make sure that any html tags that appear should be removed. In addition we wish to tokenize our input, that way words such as *entertained* and *entertaining* are considered the same with regard to sentiment analysis."
   ]
  },
  {
   "cell_type": "code",
   "execution_count": 8,
   "metadata": {},
   "outputs": [],
   "source": [
    "import nltk\n",
    "from nltk.corpus import stopwords\n",
    "from nltk.stem.porter import *\n",
    "\n",
    "import re\n",
    "from bs4 import BeautifulSoup\n",
    "\n",
    "def review_to_words(review):\n",
    "    nltk.download(\"stopwords\", quiet=True)\n",
    "    stemmer = PorterStemmer()\n",
    "    \n",
    "    text = BeautifulSoup(review, \"html.parser\").get_text() # Remove HTML tags\n",
    "    text = re.sub(r\"[^a-zA-Z0-9]\", \" \", text.lower()) # Convert to lower case\n",
    "    words = text.split() # Split string into words\n",
    "    words = [w for w in words if w not in stopwords.words(\"english\")] # Remove stopwords\n",
    "    words = [PorterStemmer().stem(w) for w in words] # stem\n",
    "    \n",
    "    return words"
   ]
  },
  {
   "cell_type": "markdown",
   "metadata": {},
   "source": [
    "The `review_to_words` method defined above uses `BeautifulSoup` to remove any html tags that appear and uses the `nltk` package to tokenize the reviews. As a check to ensure we know how everything is working, try applying `review_to_words` to one of the reviews in the training set."
   ]
  },
  {
   "cell_type": "code",
   "execution_count": 9,
   "metadata": {},
   "outputs": [
    {
     "name": "stdout",
     "output_type": "stream",
     "text": [
      "['scari', 'ye', 'scari', 'jam', 'pack', 'nuditi', 'fat', 'peopl', 'skinni', 'peopl', 'maslin', 'beach', 'take', 'place', 'nudist', 'beach', 'first', 'saw', 'film', 'two', 'year', 'ago', 'safe', 'say', 'made', 'bizarr', 'topic', 'discuss', 'school', 'next', 'day', 'film', 'horribl', 'hardli', 'romant', 'comedi', 'showcas', 'nuditi', 'movi', 'hit', 'lowpoint', 'one', 'new', 'age', 'charact', 'stare', 'girl', 'leg', 'girl', 'go', 'find', 'god', 'guy', 'nah', 'think', 'found', 'heaven', 'steer', 'clear', 'one', 'unless', 'want', 'hear', 'amateur', 'actor', 'discuss', 'topic', 'fart', 'adulteri', 'process', 'superlgu', 'one', 'genit', 'togeth', 'avoid']\n"
     ]
    }
   ],
   "source": [
    "# TODO: Apply review_to_words to a review (train_X[100] or any other review)\n",
    "print(review_to_words(train_X[100]))"
   ]
  },
  {
   "cell_type": "markdown",
   "metadata": {},
   "source": [
    "**Question:** Above we mentioned that `review_to_words` method removes html formatting and allows us to tokenize the words found in a review, for example, converting *entertained* and *entertaining* into *entertain* so that they are treated as though they are the same word. What else, if anything, does this method do to the input?"
   ]
  },
  {
   "cell_type": "markdown",
   "metadata": {},
   "source": [
    "**Answer:**\n",
    "This method removes punctuation as well as returning a matrix from a string input"
   ]
  },
  {
   "cell_type": "markdown",
   "metadata": {},
   "source": [
    "The method below applies the `review_to_words` method to each of the reviews in the training and testing datasets. In addition it caches the results. This is because performing this processing step can take a long time. This way if you are unable to complete the notebook in the current session, you can come back without needing to process the data a second time."
   ]
  },
  {
   "cell_type": "code",
   "execution_count": 10,
   "metadata": {},
   "outputs": [],
   "source": [
    "import pickle\n",
    "\n",
    "cache_dir = os.path.join(\"../cache\", \"sentiment_analysis\")  # where to store cache files\n",
    "os.makedirs(cache_dir, exist_ok=True)  # ensure cache directory exists\n",
    "\n",
    "def preprocess_data(data_train, data_test, labels_train, labels_test,\n",
    "                    cache_dir=cache_dir, cache_file=\"preprocessed_data.pkl\"):\n",
    "    \"\"\"Convert each review to words; read from cache if available.\"\"\"\n",
    "\n",
    "    # If cache_file is not None, try to read from it first\n",
    "    cache_data = None\n",
    "    if cache_file is not None:\n",
    "        try:\n",
    "            with open(os.path.join(cache_dir, cache_file), \"rb\") as f:\n",
    "                cache_data = pickle.load(f)\n",
    "            print(\"Read preprocessed data from cache file:\", cache_file)\n",
    "        except:\n",
    "            pass  # unable to read from cache, but that's okay\n",
    "    \n",
    "    # If cache is missing, then do the heavy lifting\n",
    "    if cache_data is None:\n",
    "        # Preprocess training and test data to obtain words for each review\n",
    "        #words_train = list(map(review_to_words, data_train))\n",
    "        #words_test = list(map(review_to_words, data_test))\n",
    "        words_train = [review_to_words(review) for review in data_train]\n",
    "        words_test = [review_to_words(review) for review in data_test]\n",
    "        \n",
    "        # Write to cache file for future runs\n",
    "        if cache_file is not None:\n",
    "            cache_data = dict(words_train=words_train, words_test=words_test,\n",
    "                              labels_train=labels_train, labels_test=labels_test)\n",
    "            with open(os.path.join(cache_dir, cache_file), \"wb\") as f:\n",
    "                pickle.dump(cache_data, f)\n",
    "            print(\"Wrote preprocessed data to cache file:\", cache_file)\n",
    "    else:\n",
    "        # Unpack data loaded from cache file\n",
    "        words_train, words_test, labels_train, labels_test = (cache_data['words_train'],\n",
    "                cache_data['words_test'], cache_data['labels_train'], cache_data['labels_test'])\n",
    "    \n",
    "    return words_train, words_test, labels_train, labels_test"
   ]
  },
  {
   "cell_type": "code",
   "execution_count": 11,
   "metadata": {},
   "outputs": [
    {
     "name": "stdout",
     "output_type": "stream",
     "text": [
      "Read preprocessed data from cache file: preprocessed_data.pkl\n"
     ]
    }
   ],
   "source": [
    "# Preprocess data\n",
    "train_X, test_X, train_y, test_y = preprocess_data(train_X, test_X, train_y, test_y)"
   ]
  },
  {
   "cell_type": "markdown",
   "metadata": {},
   "source": [
    "## Transform the data\n",
    "\n",
    "In the XGBoost notebook we transformed the data from its word representation to a bag-of-words feature representation. For the model we are going to construct in this notebook we will construct a feature representation which is very similar. To start, we will represent each word as an integer. Of course, some of the words that appear in the reviews occur very infrequently and so likely don't contain much information for the purposes of sentiment analysis. The way we will deal with this problem is that we will fix the size of our working vocabulary and we will only include the words that appear most frequently. We will then combine all of the infrequent words into a single category and, in our case, we will label it as `1`.\n",
    "\n",
    "Since we will be using a recurrent neural network, it will be convenient if the length of each review is the same. To do this, we will fix a size for our reviews and then pad short reviews with the category 'no word' (which we will label `0`) and truncate long reviews."
   ]
  },
  {
   "cell_type": "markdown",
   "metadata": {},
   "source": [
    "### (TODO) Create a word dictionary\n",
    "\n",
    "To begin with, we need to construct a way to map words that appear in the reviews to integers. Here we fix the size of our vocabulary (including the 'no word' and 'infrequent' categories) to be `5000` but you may wish to change this to see how it affects the model.\n",
    "\n",
    "> **TODO:** Complete the implementation for the `build_dict()` method below. Note that even though the vocab_size is set to `5000`, we only want to construct a mapping for the most frequently appearing `4998` words. This is because we want to reserve the special labels `0` for 'no word' and `1` for 'infrequent word'."
   ]
  },
  {
   "cell_type": "code",
   "execution_count": 12,
   "metadata": {},
   "outputs": [],
   "source": [
    "import numpy as np\n",
    "from collections import Counter\n",
    "\n",
    "def build_dict(data, vocab_size = 5000):\n",
    "    \"\"\"Construct and return a dictionary mapping each of the most frequently appearing words to a unique integer.\"\"\"\n",
    "    \n",
    "    # TODO: Determine how often each word appears in `data`. Note that `data` is a list of sentences and that a\n",
    "    #       sentence is a list of words.\n",
    "    \n",
    "    data_list = [item for sublist in data for item in sublist]\n",
    "    \n",
    "    word_count = Counter(data_list) # A dict storing the words that appear in the reviews along with how often they occur\n",
    "    \n",
    "    # TODO: Sort the words found in `data` so that sorted_words[0] is the most frequently appearing word and\n",
    "    #       sorted_words[-1] is the least frequently appearing word.\n",
    "\n",
    "    sorted_words = dict(word_count.most_common())\n",
    "    sorted_words = list(sorted_words.keys())\n",
    "#     sorted_words = None\n",
    "    \n",
    "    word_dict = {} # This is what we are building, a dictionary that translates words into integers\n",
    "    for idx, word in enumerate(sorted_words[:vocab_size - 2]): # The -2 is so that we save room for the 'no word'\n",
    "        word_dict[word] = idx + 2                              # 'infrequent' labels\n",
    "        \n",
    "    return word_dict"
   ]
  },
  {
   "cell_type": "code",
   "execution_count": 13,
   "metadata": {},
   "outputs": [
    {
     "name": "stdout",
     "output_type": "stream",
     "text": [
      "{'movi': 2, 'film': 3, 'one': 4, 'like': 5, 'time': 6, 'good': 7, 'make': 8, 'charact': 9, 'get': 10, 'see': 11, 'watch': 12, 'stori': 13, 'even': 14, 'would': 15, 'realli': 16, 'well': 17, 'scene': 18, 'look': 19, 'show': 20, 'much': 21, 'end': 22, 'peopl': 23, 'bad': 24, 'go': 25, 'great': 26, 'also': 27, 'first': 28, 'love': 29, 'think': 30, 'way': 31, 'act': 32, 'play': 33, 'made': 34, 'thing': 35, 'could': 36, 'know': 37, 'say': 38, 'seem': 39, 'work': 40, 'plot': 41, 'two': 42, 'actor': 43, 'year': 44, 'come': 45, 'mani': 46, 'seen': 47, 'take': 48, 'want': 49, 'life': 50, 'never': 51, 'littl': 52, 'best': 53, 'tri': 54, 'man': 55, 'ever': 56, 'give': 57, 'better': 58, 'still': 59, 'perform': 60, 'find': 61, 'feel': 62, 'part': 63, 'back': 64, 'use': 65, 'someth': 66, 'director': 67, 'actual': 68, 'interest': 69, 'lot': 70, 'real': 71, 'old': 72, 'cast': 73, 'though': 74, 'live': 75, 'star': 76, 'enjoy': 77, 'guy': 78, 'anoth': 79, 'new': 80, 'role': 81, 'noth': 82, '10': 83, 'funni': 84, 'music': 85, 'point': 86, 'start': 87, 'set': 88, 'girl': 89, 'origin': 90, 'day': 91, 'world': 92, 'everi': 93, 'believ': 94, 'turn': 95, 'quit': 96, 'us': 97, 'direct': 98, 'thought': 99, 'fact': 100, 'minut': 101, 'horror': 102, 'kill': 103, 'action': 104, 'comedi': 105, 'pretti': 106, 'young': 107, 'wonder': 108, 'happen': 109, 'around': 110, 'got': 111, 'effect': 112, 'right': 113, 'long': 114, 'howev': 115, 'big': 116, 'line': 117, 'famili': 118, 'enough': 119, 'seri': 120, 'may': 121, 'need': 122, 'fan': 123, 'bit': 124, 'script': 125, 'beauti': 126, 'person': 127, 'becom': 128, 'without': 129, 'must': 130, 'alway': 131, 'friend': 132, 'tell': 133, 'reason': 134, 'saw': 135, 'last': 136, 'final': 137, 'kid': 138, 'almost': 139, 'put': 140, 'least': 141, 'sure': 142, 'done': 143, 'whole': 144, 'place': 145, 'complet': 146, 'kind': 147, 'expect': 148, 'differ': 149, 'shot': 150, 'far': 151, 'mean': 152, 'anyth': 153, 'book': 154, 'laugh': 155, 'might': 156, 'name': 157, 'sinc': 158, 'begin': 159, '2': 160, 'probabl': 161, 'woman': 162, 'help': 163, 'entertain': 164, 'let': 165, 'screen': 166, 'call': 167, 'tv': 168, 'moment': 169, 'away': 170, 'read': 171, 'yet': 172, 'rather': 173, 'worst': 174, 'run': 175, 'fun': 176, 'lead': 177, 'hard': 178, 'audienc': 179, 'idea': 180, 'anyon': 181, 'episod': 182, 'american': 183, 'found': 184, 'appear': 185, 'bore': 186, 'especi': 187, 'although': 188, 'hope': 189, 'keep': 190, 'cours': 191, 'anim': 192, 'job': 193, 'goe': 194, 'move': 195, 'sens': 196, 'dvd': 197, 'version': 198, 'war': 199, 'money': 200, 'someon': 201, 'mind': 202, 'mayb': 203, 'problem': 204, 'true': 205, 'hous': 206, 'everyth': 207, 'nice': 208, 'second': 209, 'rate': 210, 'three': 211, 'night': 212, 'face': 213, 'follow': 214, 'recommend': 215, 'main': 216, 'product': 217, 'worth': 218, 'leav': 219, 'human': 220, 'special': 221, 'excel': 222, 'togeth': 223, 'wast': 224, 'everyon': 225, 'sound': 226, 'john': 227, 'hand': 228, '1': 229, 'father': 230, 'later': 231, 'eye': 232, 'said': 233, 'view': 234, 'instead': 235, 'review': 236, 'boy': 237, 'high': 238, 'hour': 239, 'miss': 240, 'talk': 241, 'classic': 242, 'wife': 243, 'understand': 244, 'left': 245, 'care': 246, 'black': 247, 'death': 248, 'open': 249, 'murder': 250, 'write': 251, 'half': 252, 'head': 253, 'rememb': 254, 'chang': 255, 'viewer': 256, 'fight': 257, 'gener': 258, 'surpris': 259, 'short': 260, 'includ': 261, 'die': 262, 'fall': 263, 'less': 264, 'els': 265, 'entir': 266, 'piec': 267, 'involv': 268, 'pictur': 269, 'simpli': 270, 'power': 271, 'home': 272, 'top': 273, 'total': 274, 'usual': 275, 'budget': 276, 'attempt': 277, 'suppos': 278, 'releas': 279, 'hollywood': 280, 'terribl': 281, 'song': 282, 'men': 283, 'possibl': 284, 'featur': 285, 'portray': 286, 'disappoint': 287, 'poor': 288, '3': 289, 'coupl': 290, 'camera': 291, 'stupid': 292, 'dead': 293, 'wrong': 294, 'produc': 295, 'low': 296, 'video': 297, 'either': 298, 'aw': 299, 'definit': 300, 'except': 301, 'rest': 302, 'given': 303, 'absolut': 304, 'women': 305, 'lack': 306, 'word': 307, 'writer': 308, 'titl': 309, 'talent': 310, 'decid': 311, 'full': 312, 'perfect': 313, 'along': 314, 'style': 315, 'close': 316, 'truli': 317, 'school': 318, 'save': 319, 'emot': 320, 'sex': 321, 'age': 322, 'next': 323, 'bring': 324, 'mr': 325, 'case': 326, 'killer': 327, 'heart': 328, 'comment': 329, 'sort': 330, 'creat': 331, 'perhap': 332, 'came': 333, 'brother': 334, 'sever': 335, 'joke': 336, 'art': 337, 'dialogu': 338, 'game': 339, 'small': 340, 'base': 341, 'flick': 342, 'written': 343, 'sequenc': 344, 'meet': 345, 'earli': 346, 'often': 347, 'other': 348, 'mother': 349, 'develop': 350, 'humor': 351, 'actress': 352, 'consid': 353, 'dark': 354, 'guess': 355, 'amaz': 356, 'unfortun': 357, 'light': 358, 'lost': 359, 'exampl': 360, 'cinema': 361, 'drama': 362, 'ye': 363, 'white': 364, 'experi': 365, 'imagin': 366, 'mention': 367, 'stop': 368, 'natur': 369, 'forc': 370, 'manag': 371, 'felt': 372, 'present': 373, 'cut': 374, 'children': 375, 'fail': 376, 'son': 377, 'qualiti': 378, 'support': 379, 'car': 380, 'ask': 381, 'hit': 382, 'side': 383, 'voic': 384, 'extrem': 385, 'impress': 386, 'wors': 387, 'evil': 388, 'went': 389, 'stand': 390, 'certainli': 391, 'basic': 392, 'oh': 393, 'overal': 394, 'favorit': 395, 'horribl': 396, 'mysteri': 397, 'number': 398, 'type': 399, 'danc': 400, 'wait': 401, 'hero': 402, 'alreadi': 403, '5': 404, 'learn': 405, 'matter': 406, '4': 407, 'michael': 408, 'genr': 409, 'fine': 410, 'despit': 411, 'throughout': 412, 'walk': 413, 'success': 414, 'histori': 415, 'question': 416, 'zombi': 417, 'town': 418, 'relationship': 419, 'realiz': 420, 'past': 421, 'child': 422, 'daughter': 423, 'late': 424, 'b': 425, 'wish': 426, 'credit': 427, 'hate': 428, 'event': 429, 'theme': 430, 'touch': 431, 'citi': 432, 'today': 433, 'sometim': 434, 'behind': 435, 'god': 436, 'twist': 437, 'sit': 438, 'stay': 439, 'annoy': 440, 'deal': 441, 'abl': 442, 'rent': 443, 'pleas': 444, 'edit': 445, 'blood': 446, 'deserv': 447, 'anyway': 448, 'comic': 449, 'appar': 450, 'soon': 451, 'gave': 452, 'etc': 453, 'level': 454, 'slow': 455, 'chanc': 456, 'score': 457, 'bodi': 458, 'brilliant': 459, 'incred': 460, 'figur': 461, 'situat': 462, 'self': 463, 'major': 464, 'stuff': 465, 'decent': 466, 'element': 467, 'return': 468, 'dream': 469, 'obvious': 470, 'continu': 471, 'order': 472, 'pace': 473, 'ridicul': 474, 'happi': 475, 'add': 476, 'highli': 477, 'group': 478, 'thank': 479, 'ladi': 480, 'novel': 481, 'pain': 482, 'speak': 483, 'career': 484, 'shoot': 485, 'strang': 486, 'heard': 487, 'sad': 488, 'husband': 489, 'polic': 490, 'import': 491, 'break': 492, 'took': 493, 'cannot': 494, 'strong': 495, 'predict': 496, 'robert': 497, 'violenc': 498, 'hilari': 499, 'recent': 500, 'countri': 501, 'known': 502, 'particularli': 503, 'pick': 504, 'documentari': 505, 'season': 506, 'critic': 507, 'jame': 508, 'compar': 509, 'alon': 510, 'obviou': 511, 'told': 512, 'state': 513, 'visual': 514, 'rock': 515, 'theater': 516, 'exist': 517, 'offer': 518, 'opinion': 519, 'gore': 520, 'hold': 521, 'crap': 522, 'result': 523, 'room': 524, 'realiti': 525, 'hear': 526, 'effort': 527, 'clich': 528, 'thriller': 529, 'caus': 530, 'explain': 531, 'sequel': 532, 'serious': 533, 'king': 534, 'local': 535, 'ago': 536, 'hell': 537, 'none': 538, 'note': 539, 'allow': 540, 'sister': 541, 'david': 542, 'simpl': 543, 'femal': 544, 'deliv': 545, 'ok': 546, 'class': 547, 'convinc': 548, 'check': 549, 'suspens': 550, 'win': 551, 'oscar': 552, 'buy': 553, 'huge': 554, 'valu': 555, 'sexual': 556, 'cool': 557, 'scari': 558, 'similar': 559, 'excit': 560, 'exactli': 561, 'apart': 562, 'provid': 563, 'shown': 564, 'avoid': 565, 'seriou': 566, 'english': 567, 'whose': 568, 'taken': 569, 'cinematographi': 570, 'shock': 571, 'polit': 572, 'spoiler': 573, 'offic': 574, 'across': 575, 'middl': 576, 'street': 577, 'pass': 578, 'messag': 579, 'somewhat': 580, 'charm': 581, 'silli': 582, 'modern': 583, 'filmmak': 584, 'confus': 585, 'form': 586, 'tale': 587, 'singl': 588, 'jack': 589, 'mostli': 590, 'carri': 591, 'william': 592, 'attent': 593, 'sing': 594, 'five': 595, 'subject': 596, 'richard': 597, 'prove': 598, 'stage': 599, 'team': 600, 'cop': 601, 'unlik': 602, 'georg': 603, 'monster': 604, 'televis': 605, 'earth': 606, 'cover': 607, 'villain': 608, 'pay': 609, 'marri': 610, 'toward': 611, 'build': 612, 'pull': 613, 'parent': 614, 'due': 615, 'fill': 616, 'respect': 617, 'dialog': 618, 'four': 619, 'remind': 620, 'futur': 621, 'weak': 622, 'typic': 623, '7': 624, 'cheap': 625, 'intellig': 626, 'atmospher': 627, 'british': 628, 'clearli': 629, '80': 630, 'dog': 631, 'non': 632, 'paul': 633, '8': 634, 'artist': 635, 'knew': 636, 'fast': 637, 'crime': 638, 'easili': 639, 'escap': 640, 'adult': 641, 'doubt': 642, 'detail': 643, 'date': 644, 'romant': 645, 'member': 646, 'fire': 647, 'gun': 648, 'drive': 649, 'straight': 650, 'beyond': 651, 'fit': 652, 'attack': 653, 'imag': 654, 'upon': 655, 'posit': 656, 'whether': 657, 'fantast': 658, 'peter': 659, 'appreci': 660, 'aspect': 661, 'captur': 662, 'ten': 663, 'plan': 664, 'discov': 665, 'remain': 666, 'near': 667, 'period': 668, 'air': 669, 'realist': 670, 'mark': 671, 'red': 672, 'dull': 673, 'adapt': 674, 'within': 675, 'lose': 676, 'spend': 677, 'color': 678, 'materi': 679, 'chase': 680, 'mari': 681, 'storylin': 682, 'forget': 683, 'bunch': 684, 'clear': 685, 'lee': 686, 'victim': 687, 'nearli': 688, 'box': 689, 'york': 690, 'inspir': 691, 'match': 692, 'mess': 693, 'finish': 694, 'standard': 695, 'easi': 696, 'truth': 697, 'busi': 698, 'suffer': 699, 'bill': 700, 'space': 701, 'dramat': 702, 'western': 703, 'e': 704, 'list': 705, 'battl': 706, 'notic': 707, 'de': 708, 'french': 709, 'ad': 710, '9': 711, 'tom': 712, 'larg': 713, 'among': 714, 'eventu': 715, 'train': 716, 'accept': 717, 'agre': 718, 'spirit': 719, 'soundtrack': 720, 'third': 721, 'teenag': 722, 'adventur': 723, 'soldier': 724, 'suggest': 725, 'sorri': 726, 'famou': 727, 'drug': 728, 'babi': 729, 'normal': 730, 'cri': 731, 'troubl': 732, 'ultim': 733, 'contain': 734, 'certain': 735, 'cultur': 736, 'romanc': 737, 'rare': 738, 'lame': 739, 'somehow': 740, 'mix': 741, 'disney': 742, 'gone': 743, 'cartoon': 744, 'student': 745, 'reveal': 746, 'fear': 747, 'suck': 748, 'kept': 749, 'attract': 750, 'appeal': 751, 'premis': 752, 'greatest': 753, 'design': 754, 'secret': 755, 'shame': 756, 'throw': 757, 'copi': 758, 'scare': 759, 'wit': 760, 'america': 761, 'admit': 762, 'relat': 763, 'particular': 764, 'brought': 765, 'screenplay': 766, 'whatev': 767, 'pure': 768, '70': 769, 'averag': 770, 'harri': 771, 'master': 772, 'describ': 773, 'male': 774, 'treat': 775, '20': 776, 'fantasi': 777, 'issu': 778, 'warn': 779, 'inde': 780, 'forward': 781, 'background': 782, 'free': 783, 'project': 784, 'memor': 785, 'japanes': 786, 'poorli': 787, 'award': 788, 'locat': 789, 'amus': 790, 'potenti': 791, 'struggl': 792, 'magic': 793, 'weird': 794, 'societi': 795, 'okay': 796, 'imdb': 797, 'doctor': 798, 'accent': 799, 'water': 800, 'hot': 801, 'express': 802, '30': 803, 'alien': 804, 'dr': 805, 'odd': 806, 'crazi': 807, 'choic': 808, 'studio': 809, 'fiction': 810, 'becam': 811, 'control': 812, 'masterpiec': 813, 'difficult': 814, 'fli': 815, 'joe': 816, 'scream': 817, 'costum': 818, 'lover': 819, 'uniqu': 820, 'refer': 821, 'remak': 822, 'vampir': 823, 'girlfriend': 824, 'prison': 825, 'execut': 826, 'wear': 827, 'jump': 828, 'wood': 829, 'unless': 830, 'creepi': 831, 'cheesi': 832, 'superb': 833, 'otherwis': 834, 'parti': 835, 'roll': 836, 'ghost': 837, 'public': 838, 'mad': 839, 'depict': 840, 'moral': 841, 'badli': 842, 'earlier': 843, 'jane': 844, 'week': 845, 'fi': 846, 'dumb': 847, 'flaw': 848, 'grow': 849, 'sci': 850, 'deep': 851, 'maker': 852, 'cat': 853, 'connect': 854, 'older': 855, 'footag': 856, 'plenti': 857, 'bother': 858, 'outsid': 859, 'stick': 860, 'gay': 861, 'catch': 862, 'plu': 863, 'co': 864, 'popular': 865, 'equal': 866, 'social': 867, 'quickli': 868, 'disturb': 869, 'perfectli': 870, 'dress': 871, 'era': 872, '90': 873, 'mistak': 874, 'lie': 875, 'ride': 876, 'previou': 877, 'combin': 878, 'band': 879, 'concept': 880, 'surviv': 881, 'answer': 882, 'rich': 883, 'front': 884, 'sweet': 885, 'christma': 886, 'insid': 887, 'eat': 888, 'bare': 889, 'concern': 890, 'listen': 891, 'beat': 892, 'ben': 893, 'c': 894, 'serv': 895, 'term': 896, 'german': 897, 'la': 898, 'meant': 899, 'hardli': 900, 'stereotyp': 901, 'innoc': 902, 'law': 903, 'desper': 904, 'memori': 905, 'promis': 906, 'cute': 907, 'intent': 908, 'inform': 909, 'variou': 910, 'steal': 911, 'brain': 912, 'post': 913, 'tone': 914, 'island': 915, 'amount': 916, 'nuditi': 917, 'compani': 918, 'track': 919, 'claim': 920, 'store': 921, '50': 922, 'hair': 923, 'flat': 924, 'land': 925, 'univers': 926, 'fairli': 927, 'danger': 928, 'kick': 929, 'scott': 930, 'player': 931, 'plain': 932, 'crew': 933, 'step': 934, 'toni': 935, 'share': 936, 'tast': 937, 'centuri': 938, 'engag': 939, 'achiev': 940, 'travel': 941, 'cold': 942, 'rip': 943, 'suit': 944, 'record': 945, 'sadli': 946, 'manner': 947, 'spot': 948, 'wrote': 949, 'tension': 950, 'fascin': 951, 'intens': 952, 'familiar': 953, 'remark': 954, 'depth': 955, 'burn': 956, 'destroy': 957, 'histor': 958, 'sleep': 959, 'purpos': 960, 'languag': 961, 'ruin': 962, 'ignor': 963, 'delight': 964, 'italian': 965, 'unbeliev': 966, 'soul': 967, 'collect': 968, 'abil': 969, 'clever': 970, 'detect': 971, 'violent': 972, 'rape': 973, 'reach': 974, 'door': 975, 'trash': 976, 'scienc': 977, 'liter': 978, 'commun': 979, 'reveng': 980, 'caught': 981, 'creatur': 982, 'trip': 983, 'approach': 984, 'intrigu': 985, 'fashion': 986, 'paint': 987, 'skill': 988, 'introduc': 989, 'complex': 990, 'channel': 991, 'camp': 992, 'christian': 993, 'extra': 994, 'hole': 995, 'immedi': 996, 'mental': 997, 'ann': 998, 'limit': 999, '6': 1000, 'slightli': 1001, 'comput': 1002, 'mere': 1003, 'million': 1004, 'conclus': 1005, 'slasher': 1006, 'imposs': 1007, 'suddenli': 1008, 'teen': 1009, 'neither': 1010, 'crimin': 1011, 'physic': 1012, 'spent': 1013, 'nation': 1014, 'respons': 1015, 'planet': 1016, 'fake': 1017, 'receiv': 1018, 'blue': 1019, 'sick': 1020, 'bizarr': 1021, 'embarrass': 1022, 'indian': 1023, '15': 1024, 'ring': 1025, 'pop': 1026, 'drop': 1027, 'drag': 1028, 'haunt': 1029, 'pointless': 1030, 'suspect': 1031, 'search': 1032, 'edg': 1033, 'handl': 1034, 'biggest': 1035, 'common': 1036, 'hurt': 1037, 'arriv': 1038, 'faith': 1039, 'technic': 1040, 'angel': 1041, 'genuin': 1042, 'dad': 1043, 'awesom': 1044, 'solid': 1045, 'f': 1046, 'colleg': 1047, 'former': 1048, 'focu': 1049, 'van': 1050, 'count': 1051, 'heavi': 1052, 'tear': 1053, 'wall': 1054, 'rais': 1055, 'visit': 1056, 'younger': 1057, 'laughabl': 1058, 'fair': 1059, 'excus': 1060, 'sign': 1061, 'cult': 1062, 'key': 1063, 'motion': 1064, 'tough': 1065, 'super': 1066, 'desir': 1067, 'stun': 1068, 'addit': 1069, 'cloth': 1070, 'exploit': 1071, 'tortur': 1072, 'smith': 1073, 'race': 1074, 'davi': 1075, 'author': 1076, 'cross': 1077, 'jim': 1078, 'consist': 1079, 'minor': 1080, 'focus': 1081, 'compel': 1082, 'chemistri': 1083, 'commit': 1084, 'pathet': 1085, 'park': 1086, 'obsess': 1087, 'tradit': 1088, 'frank': 1089, 'grade': 1090, '60': 1091, 'asid': 1092, 'brutal': 1093, 'steve': 1094, 'somewher': 1095, 'opportun': 1096, 'depress': 1097, 'explor': 1098, 'rule': 1099, 'u': 1100, 'grant': 1101, 'honest': 1102, 'besid': 1103, 'dub': 1104, 'anti': 1105, 'intend': 1106, 'trailer': 1107, 'bar': 1108, 'longer': 1109, 'west': 1110, 'regard': 1111, 'scientist': 1112, 'decad': 1113, 'judg': 1114, 'silent': 1115, 'creativ': 1116, 'armi': 1117, 'wild': 1118, 'stewart': 1119, 'g': 1120, 'south': 1121, 'draw': 1122, 'road': 1123, 'govern': 1124, 'ex': 1125, 'boss': 1126, 'practic': 1127, 'gang': 1128, 'motiv': 1129, 'surprisingli': 1130, 'club': 1131, 'festiv': 1132, 'redeem': 1133, 'page': 1134, 'london': 1135, 'green': 1136, 'aliv': 1137, 'militari': 1138, 'display': 1139, 'idiot': 1140, 'machin': 1141, 'repeat': 1142, 'thrill': 1143, '100': 1144, 'nobodi': 1145, 'yeah': 1146, 'folk': 1147, '40': 1148, 'journey': 1149, 'garbag': 1150, 'smile': 1151, 'ground': 1152, 'tire': 1153, 'bought': 1154, 'mood': 1155, 'cost': 1156, 'sam': 1157, 'stone': 1158, 'mouth': 1159, 'noir': 1160, 'terrif': 1161, 'agent': 1162, 'utterli': 1163, 'requir': 1164, 'honestli': 1165, 'sexi': 1166, 'area': 1167, 'geniu': 1168, 'report': 1169, 'humour': 1170, 'glad': 1171, 'enter': 1172, 'investig': 1173, 'serial': 1174, 'passion': 1175, 'occasion': 1176, 'narr': 1177, 'climax': 1178, 'marriag': 1179, 'studi': 1180, 'industri': 1181, 'nowher': 1182, 'charli': 1183, 'center': 1184, 'ship': 1185, 'demon': 1186, 'hors': 1187, 'loos': 1188, 'bear': 1189, 'wow': 1190, 'hang': 1191, 'graphic': 1192, 'giant': 1193, 'admir': 1194, 'send': 1195, 'damn': 1196, 'loud': 1197, 'profession': 1198, 'subtl': 1199, 'nake': 1200, 'rel': 1201, 'blow': 1202, 'bottom': 1203, 'insult': 1204, 'batman': 1205, 'boyfriend': 1206, 'kelli': 1207, 'doubl': 1208, 'r': 1209, 'initi': 1210, 'frame': 1211, 'opera': 1212, 'gem': 1213, 'cinemat': 1214, 'drawn': 1215, 'church': 1216, 'affect': 1217, 'challeng': 1218, 'seek': 1219, 'nightmar': 1220, 'l': 1221, 'fulli': 1222, 'evid': 1223, 'j': 1224, 'arm': 1225, 'conflict': 1226, 'essenti': 1227, 'grace': 1228, 'christoph': 1229, 'wind': 1230, 'henri': 1231, 'narrat': 1232, 'assum': 1233, 'witch': 1234, 'push': 1235, 'hunt': 1236, 'chri': 1237, 'wise': 1238, 'nomin': 1239, 'repres': 1240, 'month': 1241, 'avail': 1242, 'affair': 1243, 'sceneri': 1244, 'hide': 1245, 'smart': 1246, 'justic': 1247, 'thu': 1248, 'bond': 1249, 'outstand': 1250, 'flashback': 1251, 'interview': 1252, 'satisfi': 1253, 'presenc': 1254, 'constantli': 1255, 'bed': 1256, 'central': 1257, 'iron': 1258, 'sell': 1259, 'content': 1260, 'gag': 1261, 'everybodi': 1262, 'slowli': 1263, 'hotel': 1264, 'hire': 1265, 'system': 1266, 'thrown': 1267, 'hey': 1268, 'individu': 1269, 'charl': 1270, 'adam': 1271, 'mediocr': 1272, 'jone': 1273, 'allen': 1274, 'billi': 1275, 'lesson': 1276, 'ray': 1277, 'cameo': 1278, 'photographi': 1279, 'pari': 1280, 'fellow': 1281, 'strike': 1282, 'independ': 1283, 'rise': 1284, 'absurd': 1285, 'brief': 1286, 'neg': 1287, 'impact': 1288, 'phone': 1289, 'ill': 1290, 'model': 1291, 'born': 1292, 'angl': 1293, 'spoil': 1294, 'fresh': 1295, 'likabl': 1296, 'abus': 1297, 'discuss': 1298, 'hill': 1299, 'sight': 1300, 'ahead': 1301, 'photograph': 1302, 'sent': 1303, 'blame': 1304, 'occur': 1305, 'shine': 1306, 'logic': 1307, 'bruce': 1308, 'mainli': 1309, 'skip': 1310, 'commerci': 1311, 'forev': 1312, 'segment': 1313, 'surround': 1314, 'held': 1315, 'teacher': 1316, 'blond': 1317, 'zero': 1318, 'resembl': 1319, 'summer': 1320, 'satir': 1321, 'trap': 1322, 'queen': 1323, 'fool': 1324, 'six': 1325, 'ball': 1326, 'twice': 1327, 'sub': 1328, 'tragedi': 1329, 'pack': 1330, 'reaction': 1331, 'bomb': 1332, 'will': 1333, 'protagonist': 1334, 'hospit': 1335, 'sport': 1336, 'mile': 1337, 'jerri': 1338, 'drink': 1339, 'vote': 1340, 'trust': 1341, 'mom': 1342, 'encount': 1343, 'plane': 1344, 'station': 1345, 'program': 1346, 'current': 1347, 'al': 1348, 'choos': 1349, 'martin': 1350, 'celebr': 1351, 'join': 1352, 'tragic': 1353, 'favourit': 1354, 'lord': 1355, 'field': 1356, 'round': 1357, 'vision': 1358, 'jean': 1359, 'robot': 1360, 'tie': 1361, 'arthur': 1362, 'random': 1363, 'fortun': 1364, 'roger': 1365, 'psycholog': 1366, 'intern': 1367, 'dread': 1368, 'epic': 1369, 'nonsens': 1370, 'prefer': 1371, 'improv': 1372, 'legend': 1373, 'formula': 1374, 'highlight': 1375, 'pleasur': 1376, 'dollar': 1377, '11': 1378, 'tape': 1379, 'wide': 1380, 'gorgeou': 1381, 'fox': 1382, 'thin': 1383, 'porn': 1384, 'object': 1385, 'ugli': 1386, 'influenc': 1387, 'buddi': 1388, 'nasti': 1389, 'prepar': 1390, 'ii': 1391, 'warm': 1392, 'reflect': 1393, 'supposedli': 1394, 'progress': 1395, 'worthi': 1396, 'youth': 1397, 'unusu': 1398, 'length': 1399, 'latter': 1400, 'crash': 1401, 'shop': 1402, 'seven': 1403, 'superior': 1404, 'childhood': 1405, 'theatr': 1406, 'remot': 1407, 'paid': 1408, 'pilot': 1409, 'funniest': 1410, 'disgust': 1411, 'fell': 1412, 'trick': 1413, 'castl': 1414, 'convers': 1415, 'rob': 1416, 'establish': 1417, 'gangster': 1418, 'disast': 1419, 'suicid': 1420, 'heaven': 1421, 'ident': 1422, 'disappear': 1423, 'mine': 1424, 'forgotten': 1425, 'tend': 1426, 'mask': 1427, 'singer': 1428, 'decis': 1429, 'heroin': 1430, 'partner': 1431, 'brian': 1432, 'desert': 1433, 'recogn': 1434, 'alan': 1435, 'ms': 1436, 'stuck': 1437, 'thoroughli': 1438, 'sky': 1439, 'p': 1440, 'accur': 1441, 'replac': 1442, 'market': 1443, 'clue': 1444, 'commentari': 1445, 'uncl': 1446, 'eddi': 1447, 'andi': 1448, 'seemingli': 1449, 'danni': 1450, 'devil': 1451, 'jackson': 1452, 'therefor': 1453, 'pair': 1454, 'that': 1455, 'refus': 1456, 'fault': 1457, 'fate': 1458, 'accid': 1459, 'ed': 1460, 'unit': 1461, 'river': 1462, 'afraid': 1463, 'tune': 1464, 'clean': 1465, 'stephen': 1466, 'hidden': 1467, 'russian': 1468, 'test': 1469, 'irrit': 1470, 'instanc': 1471, 'captain': 1472, 'convey': 1473, 'readi': 1474, 'quick': 1475, 'european': 1476, 'frustrat': 1477, 'insan': 1478, 'daniel': 1479, 'food': 1480, '1950': 1481, 'rescu': 1482, 'wed': 1483, 'chines': 1484, 'angri': 1485, 'dirti': 1486, 'lock': 1487, 'joy': 1488, 'price': 1489, 'steven': 1490, 'bland': 1491, 'cage': 1492, 'anymor': 1493, 'rang': 1494, 'wooden': 1495, 'jason': 1496, 'n': 1497, 'rush': 1498, 'news': 1499, 'board': 1500, 'worri': 1501, 'martial': 1502, '12': 1503, 'twenti': 1504, 'led': 1505, 'cgi': 1506, 'transform': 1507, 'hunter': 1508, 'symbol': 1509, 'onto': 1510, 'invent': 1511, 'johnni': 1512, 'sentiment': 1513, 'piti': 1514, 'x': 1515, 'attitud': 1516, 'explan': 1517, 'process': 1518, 'awar': 1519, 'owner': 1520, 'aim': 1521, 'energi': 1522, 'target': 1523, 'floor': 1524, 'necessari': 1525, 'favor': 1526, 'religi': 1527, 'opposit': 1528, 'chick': 1529, 'window': 1530, 'blind': 1531, 'insight': 1532, 'movement': 1533, 'deepli': 1534, 'possess': 1535, 'comparison': 1536, 'mountain': 1537, 'research': 1538, 'grand': 1539, 'whatsoev': 1540, 'rain': 1541, 'comed': 1542, 'shadow': 1543, 'began': 1544, 'bank': 1545, 'mid': 1546, 'parodi': 1547, 'princ': 1548, 'taylor': 1549, 'pre': 1550, 'credibl': 1551, 'friendship': 1552, 'weapon': 1553, 'flesh': 1554, 'teach': 1555, 'dougla': 1556, 'protect': 1557, 'terror': 1558, 'hint': 1559, 'bloodi': 1560, 'marvel': 1561, 'accord': 1562, 'watchabl': 1563, 'anybodi': 1564, 'load': 1565, 'leader': 1566, 'drunk': 1567, 'superman': 1568, 'brown': 1569, 'freddi': 1570, 'jeff': 1571, 'tim': 1572, 'appropri': 1573, 'hitler': 1574, 'seat': 1575, 'keaton': 1576, 'knock': 1577, 'unknown': 1578, 'villag': 1579, 'charg': 1580, 'media': 1581, 'england': 1582, 'unnecessari': 1583, 'empti': 1584, 'enemi': 1585, 'utter': 1586, 'strength': 1587, 'craft': 1588, 'perspect': 1589, 'buck': 1590, 'wave': 1591, 'dare': 1592, 'contrast': 1593, 'kiss': 1594, 'correct': 1595, 'nativ': 1596, 'ford': 1597, 'magnific': 1598, 'anywher': 1599, 'soap': 1600, 'knowledg': 1601, 'nazi': 1602, 'chill': 1603, 'speed': 1604, 'distract': 1605, 'ice': 1606, '1980': 1607, 'mission': 1608, 'breath': 1609, 'fred': 1610, 'joan': 1611, 'moon': 1612, 'crowd': 1613, 'jr': 1614, 'frighten': 1615, 'soft': 1616, 'kate': 1617, '000': 1618, 'nick': 1619, 'dan': 1620, 'dick': 1621, 'hundr': 1622, 'simon': 1623, 'radio': 1624, 'dozen': 1625, 'somebodi': 1626, 'thousand': 1627, 'shakespear': 1628, 'loss': 1629, 'academi': 1630, 'andrew': 1631, 'vehicl': 1632, 'root': 1633, 'quot': 1634, 'account': 1635, 'sum': 1636, 'leg': 1637, 'behavior': 1638, '1970': 1639, 'convent': 1640, 'gold': 1641, 'regular': 1642, 'pretenti': 1643, 'demand': 1644, 'worker': 1645, 'compet': 1646, 'explos': 1647, 'privat': 1648, 'lynch': 1649, 'notabl': 1650, 'japan': 1651, 'stretch': 1652, 'interpret': 1653, 'candi': 1654, 'constant': 1655, 'debut': 1656, 'tarzan': 1657, 'spi': 1658, 'prais': 1659, 'sea': 1660, 'translat': 1661, 'revolv': 1662, 'ass': 1663, 'sat': 1664, 'jesu': 1665, 'franc': 1666, 'quiet': 1667, 'failur': 1668, 'technolog': 1669, 'threaten': 1670, 'met': 1671, 'higher': 1672, 'aid': 1673, 'punch': 1674, 'kevin': 1675, 'toy': 1676, 'abandon': 1677, 'vh': 1678, 'interact': 1679, 'mike': 1680, 'bet': 1681, 'confront': 1682, 'separ': 1683, 'command': 1684, 'site': 1685, 'recal': 1686, 'belong': 1687, 'servic': 1688, 'gotten': 1689, 'techniqu': 1690, 'stunt': 1691, 'freak': 1692, 'foot': 1693, 'bug': 1694, 'cabl': 1695, 'jimmi': 1696, 'african': 1697, 'capabl': 1698, 'bright': 1699, 'fu': 1700, 'stock': 1701, 'clark': 1702, 'succeed': 1703, 'fat': 1704, 'boat': 1705, 'presid': 1706, 'structur': 1707, 'gene': 1708, 'spanish': 1709, 'paper': 1710, 'kidnap': 1711, 'factor': 1712, 'whilst': 1713, 'belief': 1714, 'attend': 1715, 'bob': 1716, 'tree': 1717, 'realis': 1718, 'complic': 1719, 'witti': 1720, 'realism': 1721, 'educ': 1722, 'finest': 1723, 'broken': 1724, 'santa': 1725, 'assist': 1726, 'determin': 1727, 'up': 1728, 'v': 1729, 'smoke': 1730, 'observ': 1731, 'depart': 1732, 'routin': 1733, 'fame': 1734, 'oper': 1735, 'lewi': 1736, 'rubbish': 1737, 'hat': 1738, 'domin': 1739, 'foreign': 1740, 'morgan': 1741, 'safe': 1742, 'advanc': 1743, 'lone': 1744, 'hook': 1745, 'kinda': 1746, 'rank': 1747, 'numer': 1748, 'shape': 1749, 'rose': 1750, 'shallow': 1751, 'washington': 1752, 'vs': 1753, 'civil': 1754, 'werewolf': 1755, 'gari': 1756, 'morn': 1757, 'ordinari': 1758, 'winner': 1759, 'kong': 1760, 'accomplish': 1761, 'whenev': 1762, 'peac': 1763, 'virtual': 1764, 'grab': 1765, 'luck': 1766, 'h': 1767, 'offens': 1768, 'patient': 1769, 'complain': 1770, 'welcom': 1771, 'contriv': 1772, 'bigger': 1773, 'unfunni': 1774, 'activ': 1775, 'con': 1776, 'dimension': 1777, 'pretend': 1778, 'trek': 1779, 'code': 1780, 'eric': 1781, 'wake': 1782, 'lesbian': 1783, 'flash': 1784, 'dri': 1785, 'cain': 1786, 'guard': 1787, 'dancer': 1788, 'manipul': 1789, 'corrupt': 1790, 'statu': 1791, 'albert': 1792, 'context': 1793, 'sourc': 1794, 'signific': 1795, 'speech': 1796, 'gain': 1797, 'awkward': 1798, '13': 1799, 'anthoni': 1800, 'psycho': 1801, 'corni': 1802, 'sean': 1803, 'clip': 1804, 'reli': 1805, 'religion': 1806, 'priest': 1807, 'curiou': 1808, 'w': 1809, 'theatric': 1810, 'advic': 1811, 'addict': 1812, 'flow': 1813, 'secur': 1814, 'specif': 1815, 'asian': 1816, 'jennif': 1817, 'howard': 1818, 'skin': 1819, 'comfort': 1820, 'promot': 1821, 'golden': 1822, 'organ': 1823, 'core': 1824, 'luke': 1825, 'lucki': 1826, 'cheat': 1827, 'cash': 1828, 'dislik': 1829, 'lower': 1830, 'associ': 1831, 'frequent': 1832, 'frankli': 1833, 'balanc': 1834, 'devic': 1835, 'contribut': 1836, 'regret': 1837, 'degre': 1838, 'spell': 1839, 'wing': 1840, 'lake': 1841, 'forgiv': 1842, 'sake': 1843, 'print': 1844, 'betti': 1845, 'mass': 1846, 'thoma': 1847, 'unexpect': 1848, 'gordon': 1849, 'crack': 1850, 'grown': 1851, 'unfold': 1852, 'construct': 1853, 'categori': 1854, 'amateur': 1855, 'depend': 1856, 'invit': 1857, 'matur': 1858, 'walter': 1859, 'condit': 1860, 'anna': 1861, 'honor': 1862, 'intellectu': 1863, 'grew': 1864, 'sudden': 1865, 'spectacular': 1866, 'sole': 1867, 'veteran': 1868, 'mirror': 1869, 'liner': 1870, 'grip': 1871, 'experienc': 1872, 'demonstr': 1873, 'meanwhil': 1874, 'freedom': 1875, 'overli': 1876, 'robin': 1877, 'gift': 1878, 'card': 1879, 'sheriff': 1880, 'crappi': 1881, 'drew': 1882, 'oliv': 1883, 'theori': 1884, 'subtitl': 1885, 'circumst': 1886, 'section': 1887, 'unabl': 1888, 'colour': 1889, 'brilliantli': 1890, 'pile': 1891, 'sheer': 1892, 'parker': 1893, 'cook': 1894, 'altern': 1895, 'matt': 1896, 'path': 1897, 'laughter': 1898, 'lawyer': 1899, 'relief': 1900, 'treatment': 1901, 'defin': 1902, 'sinatra': 1903, 'hall': 1904, 'wander': 1905, 'accident': 1906, 'captiv': 1907, 'dragon': 1908, 'hank': 1909, 'halloween': 1910, 'moor': 1911, 'gratuit': 1912, 'unintent': 1913, 'cowboy': 1914, 'wound': 1915, 'broadway': 1916, 'jacki': 1917, 'barbara': 1918, 'kung': 1919, 'wayn': 1920, 'k': 1921, 'winter': 1922, 'spoof': 1923, 'canadian': 1924, 'surreal': 1925, 'statement': 1926, 'cheer': 1927, 'gonna': 1928, 'treasur': 1929, 'fare': 1930, 'compos': 1931, 'fish': 1932, 'victor': 1933, 'sensit': 1934, 'woodi': 1935, 'emerg': 1936, 'unrealist': 1937, 'neighbor': 1938, 'driven': 1939, 'sympathet': 1940, 'ran': 1941, 'expos': 1942, 'topic': 1943, 'overlook': 1944, 'menac': 1945, 'authent': 1946, 'glass': 1947, 'handsom': 1948, 'michel': 1949, 'gross': 1950, 'ancient': 1951, 'chief': 1952, 'feet': 1953, 'contemporari': 1954, 'built': 1955, 'stranger': 1956, 'network': 1957, 'nevertheless': 1958, 'pleasant': 1959, 'russel': 1960, 'cinderella': 1961, 'comedian': 1962, 'endless': 1963, 'miser': 1964, 'underr': 1965, 'earn': 1966, 'consider': 1967, 'blockbust': 1968, 'letter': 1969, 'gori': 1970, 'solv': 1971, 'brook': 1972, 'switch': 1973, 'bullet': 1974, 'virgin': 1975, 'edward': 1976, 'convict': 1977, 'joseph': 1978, 'victoria': 1979, 'scenario': 1980, 'alex': 1981, '0': 1982, 'chosen': 1983, 'scale': 1984, 'cynic': 1985, 'gut': 1986, 'com': 1987, 'sword': 1988, 'curs': 1989, 'outrag': 1990, 'screenwrit': 1991, 'juli': 1992, 'uk': 1993, 'wrap': 1994, 'proper': 1995, 'driver': 1996, 'substanc': 1997, 'monkey': 1998, 'remov': 1999, 'par': 2000, 'bird': 2001, 'court': 2002, 'indic': 2003, 'roy': 2004, 'rental': 2005, 'consequ': 2006, 'nanci': 2007, 'grave': 2008, 'inevit': 2009, 'advertis': 2010, 'loser': 2011, 'naiv': 2012, 'brave': 2013, 'le': 2014, 'slap': 2015, 'bridg': 2016, 'invis': 2017, 'germani': 2018, 'fatal': 2019, 'ador': 2020, 'footbal': 2021, 'loui': 2022, 'anger': 2023, 'provok': 2024, 'chan': 2025, 'alcohol': 2026, 'anderson': 2027, 'ryan': 2028, 'stumbl': 2029, 'willi': 2030, 'professor': 2031, '1930': 2032, 'bat': 2033, 'sharp': 2034, 'assassin': 2035, 'australian': 2036, 'patrick': 2037, 'eight': 2038, 'amateurish': 2039, 'heck': 2040, 'deni': 2041, 'liber': 2042, 'refresh': 2043, 'cell': 2044, 'saturday': 2045, 'lousi': 2046, 'ape': 2047, 'trilog': 2048, 'strongli': 2049, 'sin': 2050, 'san': 2051, 'resid': 2052, 'justifi': 2053, 'vagu': 2054, 'creator': 2055, 'sympathi': 2056, 'terrifi': 2057, 'reput': 2058, 'defeat': 2059, 'mini': 2060, 'indi': 2061, 'tabl': 2062, 'endur': 2063, 'prevent': 2064, 'tediou': 2065, 'task': 2066, 'expert': 2067, 'offend': 2068, 'imit': 2069, 'basebal': 2070, 'rival': 2071, 'trial': 2072, 'employ': 2073, 'che': 2074, 'fairi': 2075, 'weekend': 2076, 'pitch': 2077, 'europ': 2078, 'beach': 2079, 'complaint': 2080, 'dig': 2081, 'max': 2082, 'risk': 2083, 'purchas': 2084, 'format': 2085, 'murphi': 2086, 'tini': 2087, 'hype': 2088, 'nois': 2089, 'harsh': 2090, 'bite': 2091, 'reminisc': 2092, 'glimps': 2093, 'titan': 2094, 'powel': 2095, 'prime': 2096, 'asleep': 2097, '14': 2098, 'fals': 2099, 'north': 2100, 'strip': 2101, 'till': 2102, 'revel': 2103, 'texa': 2104, 'destruct': 2105, 'africa': 2106, 'descript': 2107, 'surfac': 2108, 'excess': 2109, 'uninterest': 2110, 'semi': 2111, 'arrest': 2112, 'inner': 2113, 'sitcom': 2114, 'spin': 2115, 'controversi': 2116, 'maintain': 2117, 'twin': 2118, 'massiv': 2119, 'argu': 2120, 'makeup': 2121, 'hitchcock': 2122, 'dinosaur': 2123, 'kim': 2124, 'ludicr': 2125, 'ideal': 2126, 'insist': 2127, 'melodrama': 2128, 'reject': 2129, 'expens': 2130, 'stare': 2131, 'supernatur': 2132, 'nail': 2133, 'ala': 2134, 'host': 2135, 'ga': 2136, 'erot': 2137, 'press': 2138, 'subplot': 2139, 'atroci': 2140, 'forest': 2141, 'columbo': 2142, 'dude': 2143, 'presum': 2144, 'identifi': 2145, 'cant': 2146, 'notch': 2147, 'guest': 2148, 'crude': 2149, 'method': 2150, 'character': 2151, 'closer': 2152, 'forgett': 2153, 'plagu': 2154, 'beast': 2155, 'lion': 2156, 'landscap': 2157, 'ear': 2158, 'princess': 2159, 'border': 2160, 'foster': 2161, 'bound': 2162, 'jungl': 2163, 'previous': 2164, 'birth': 2165, 'aunt': 2166, 'urban': 2167, 'accus': 2168, 'storytel': 2169, 'damag': 2170, 'pacino': 2171, 'guid': 2172, 'thirti': 2173, 'emma': 2174, 'doll': 2175, 'nude': 2176, 'propaganda': 2177, 'jess': 2178, 'chose': 2179, 'mate': 2180, 'whoever': 2181, '25': 2182, 'mainstream': 2183, 'pet': 2184, 'warrior': 2185, 'upset': 2186, 'exact': 2187, 'friday': 2188, 'cooper': 2189, 'merit': 2190, 'latest': 2191, 'poster': 2192, 'gritti': 2193, 'deadli': 2194, 'size': 2195, 'corps': 2196, 'settl': 2197, 'buff': 2198, 'sun': 2199, 'rough': 2200, '1990': 2201, 'citizen': 2202, 'wilson': 2203, 'blend': 2204, 'contact': 2205, 'ton': 2206, 'contest': 2207, 'popul': 2208, 'warner': 2209, 'metal': 2210, 'pitt': 2211, 'mgm': 2212, 'bu': 2213, 'alic': 2214, 'overcom': 2215, 'environ': 2216, 'widow': 2217, 'select': 2218, 'rat': 2219, 'ted': 2220, 'link': 2221, 'particip': 2222, 'guilti': 2223, 'lift': 2224, 'revolut': 2225, 'afternoon': 2226, 'matrix': 2227, 'moron': 2228, 'corpor': 2229, '1960': 2230, 'johnson': 2231, 'accompani': 2232, 'exagger': 2233, 'corner': 2234, 'prostitut': 2235, 'sincer': 2236, 'multipl': 2237, 'holm': 2238, 'leagu': 2239, 'hood': 2240, 'clair': 2241, 'doom': 2242, 'instal': 2243, 'friendli': 2244, 'examin': 2245, 'lugosi': 2246, 'advis': 2247, 'grim': 2248, 'sunday': 2249, 'string': 2250, 'aka': 2251, 'junk': 2252, 'campi': 2253, 'hip': 2254, 'irish': 2255, 'defend': 2256, 'blah': 2257, 'varieti': 2258, 'rachel': 2259, 'confid': 2260, 'shut': 2261, 'shake': 2262, 'icon': 2263, 'pro': 2264, 'tight': 2265, 'goal': 2266, 'denni': 2267, 'jaw': 2268, 'medic': 2269, 'mexican': 2270, 'directli': 2271, 'sullivan': 2272, 'attach': 2273, 'breast': 2274, 'legendari': 2275, 'dean': 2276, 'bourn': 2277, 'terrorist': 2278, 'vietnam': 2279, 'sentenc': 2280, 'duke': 2281, 'sarah': 2282, 'prior': 2283, 'courag': 2284, 'truck': 2285, 'yell': 2286, 'nose': 2287, 'entri': 2288, 'proceed': 2289, 'hong': 2290, 'behav': 2291, 'un': 2292, 'donald': 2293, 'split': 2294, 'jerk': 2295, 'forth': 2296, 'borrow': 2297, 'stolen': 2298, 'gather': 2299, 'swim': 2300, 'unconvinc': 2301, 'everywher': 2302, 'lifetim': 2303, 'buri': 2304, 'concentr': 2305, 'confess': 2306, 'crush': 2307, 'california': 2308, 'spite': 2309, 'pan': 2310, 'julia': 2311, 'lip': 2312, 'deliveri': 2313, 'turkey': 2314, 'downright': 2315, 'hoffman': 2316, 'proud': 2317, 'offici': 2318, 'reward': 2319, 'quest': 2320, 'flight': 2321, 'china': 2322, 'freeman': 2323, 'fade': 2324, 'notori': 2325, 'lazi': 2326, 'fabul': 2327, 'sink': 2328, 'worthwhil': 2329, 'jail': 2330, 'betray': 2331, 'inept': 2332, 'sir': 2333, 'encourag': 2334, 'jon': 2335, 'survivor': 2336, 'retard': 2337, 'imageri': 2338, 'teeth': 2339, 'bag': 2340, 'storm': 2341, 'bell': 2342, 'relev': 2343, 'shower': 2344, 'cousin': 2345, 'lisa': 2346, 'susan': 2347, 'branagh': 2348, 'facial': 2349, 'trade': 2350, 'stab': 2351, 'quirki': 2352, 'summari': 2353, 'toler': 2354, 'alright': 2355, 'hugh': 2356, 'finger': 2357, 'tremend': 2358, 'bride': 2359, 'shark': 2360, 'mexico': 2361, 'ha': 2362, 'bitter': 2363, 'von': 2364, 'pose': 2365, 'hyster': 2366, 'blown': 2367, 'larri': 2368, 'address': 2369, 'christ': 2370, 'bone': 2371, 'scheme': 2372, 'afterward': 2373, 'ron': 2374, 'cruel': 2375, 'ned': 2376, 'tour': 2377, 'beg': 2378, 'distinct': 2379, 'thumb': 2380, 'feed': 2381, 'pursu': 2382, 'screw': 2383, 'snake': 2384, 'traci': 2385, 'swear': 2386, 'obscur': 2387, 'chair': 2388, 'mechan': 2389, 'occas': 2390, 'stomach': 2391, 'raw': 2392, 'photo': 2393, 'chain': 2394, 'holiday': 2395, 'hardi': 2396, 'argument': 2397, 'heavili': 2398, 'cabin': 2399, 'necessarili': 2400, 'render': 2401, 'resist': 2402, 'gruesom': 2403, 'southern': 2404, 'sidney': 2405, 'satan': 2406, 'understood': 2407, 'india': 2408, 'racist': 2409, 'philip': 2410, 'indulg': 2411, 'belov': 2412, 'tongu': 2413, 'integr': 2414, 'stalk': 2415, 'lay': 2416, 'obnoxi': 2417, 'fourth': 2418, 'outfit': 2419, 'midnight': 2420, 'forgot': 2421, 'pregnant': 2422, 'garden': 2423, '17': 2424, 'ticket': 2425, 'restor': 2426, 'deeper': 2427, 'carol': 2428, 'slapstick': 2429, 'inhabit': 2430, 'magazin': 2431, 'incid': 2432, 'shoe': 2433, 'brad': 2434, 'devot': 2435, 'lincoln': 2436, 'anticip': 2437, 'guarante': 2438, 'benefit': 2439, 'divorc': 2440, 'lili': 2441, 'elizabeth': 2442, 'disbelief': 2443, 'sandler': 2444, 'underground': 2445, 'maria': 2446, 'explod': 2447, 'cring': 2448, 'creation': 2449, 'bbc': 2450, 'princip': 2451, 'capit': 2452, 'greater': 2453, 'amazingli': 2454, 'mildli': 2455, 'slave': 2456, 'halfway': 2457, 'lesli': 2458, 'introduct': 2459, 'extraordinari': 2460, 'funnier': 2461, 'transfer': 2462, 'overwhelm': 2463, 'extent': 2464, 'punish': 2465, 'tap': 2466, 'text': 2467, 'wreck': 2468, 'enhanc': 2469, 'advantag': 2470, 'horrif': 2471, 'lane': 2472, 'error': 2473, 'lo': 2474, 'deliber': 2475, 'dynam': 2476, 'east': 2477, 'plant': 2478, 'preview': 2479, 'jessica': 2480, 'miscast': 2481, 'ensu': 2482, 'basi': 2483, 'sophist': 2484, 'vacat': 2485, '2000': 2486, 'appli': 2487, 'homosexu': 2488, 'miller': 2489, 'vincent': 2490, 'mansion': 2491, 'bollywood': 2492, 'extend': 2493, 'spoken': 2494, 'reed': 2495, 'elev': 2496, 'uncomfort': 2497, 'steel': 2498, 'via': 2499, 'sleazi': 2500, 'measur': 2501, 'dentist': 2502, 'alter': 2503, 'breathtak': 2504, 'savag': 2505, 'assign': 2506, 'cathol': 2507, 'fix': 2508, 'melt': 2509, 'stanley': 2510, 'blair': 2511, 'conceiv': 2512, 'mous': 2513, 'overact': 2514, 'hippi': 2515, 'daili': 2516, 'beer': 2517, 'goofi': 2518, 'inspector': 2519, 'oppos': 2520, 'nowaday': 2521, 'subsequ': 2522, 'burt': 2523, 'properli': 2524, 'everyday': 2525, 'sacrific': 2526, 'carpent': 2527, 'succe': 2528, 'circl': 2529, 'neck': 2530, 'laura': 2531, 'massacr': 2532, 'block': 2533, 'fallen': 2534, 'portrait': 2535, 'grey': 2536, 'access': 2537, 'pool': 2538, 'concert': 2539, 'lesser': 2540, 'seagal': 2541, 'mob': 2542, 'christi': 2543, 'fay': 2544, 'isol': 2545, 'jewish': 2546, 'react': 2547, 'usa': 2548, 'sinist': 2549, 'chees': 2550, 'relax': 2551, 'competit': 2552, 'jake': 2553, 'suitabl': 2554, 'creep': 2555, '2006': 2556, 'lyric': 2557, 'stink': 2558, 'appal': 2559, 'ironi': 2560, 'nine': 2561, 'nonetheless': 2562, 'immens': 2563, 'spiritu': 2564, 'chop': 2565, 'rage': 2566, 'showcas': 2567, 'needless': 2568, 'retir': 2569, 'franchis': 2570, 'shirt': 2571, 'navi': 2572, 'spring': 2573, 'nut': 2574, 'adopt': 2575, 'luci': 2576, 'user': 2577, 'reduc': 2578, 'sold': 2579, 'per': 2580, 'digit': 2581, 'bath': 2582, 'zone': 2583, 'bulli': 2584, 'asham': 2585, 'uninspir': 2586, 'stanwyck': 2587, 'jay': 2588, 'nurs': 2589, 'oddli': 2590, '1940': 2591, 'broadcast': 2592, '2001': 2593, 'laid': 2594, 'amongst': 2595, 'illustr': 2596, 'sutherland': 2597, 'upper': 2598, 'disguis': 2599, 'throat': 2600, 'fulfil': 2601, 'baker': 2602, 'stylish': 2603, 'aspir': 2604, 'brando': 2605, '18': 2606, 'pound': 2607, 'neighborhood': 2608, 'thief': 2609, 'endear': 2610, 'wanna': 2611, 'wwii': 2612, 'impli': 2613, 'em': 2614, 'pride': 2615, 'nobl': 2616, 'diseas': 2617, 'albeit': 2618, '16': 2619, 'rochest': 2620, 'dawn': 2621, 'distribut': 2622, 'shoulder': 2623, 'tens': 2624, 'shift': 2625, 'dinner': 2626, 'bo': 2627, 'cinematograph': 2628, 'prop': 2629, 'bett': 2630, 'coher': 2631, 'knife': 2632, 'silenc': 2633, 'contract': 2634, 'snow': 2635, 'poignant': 2636, 'shout': 2637, 'wash': 2638, 'forti': 2639, 'rebel': 2640, 'matthau': 2641, 'surf': 2642, 'function': 2643, 'horrend': 2644, 'cancel': 2645, 'instinct': 2646, 'duti': 2647, 'henc': 2648, 'eeri': 2649, 'proof': 2650, 'silver': 2651, 'mindless': 2652, 'height': 2653, 'internet': 2654, 'reunion': 2655, 'heat': 2656, 'chuck': 2657, 'derek': 2658, 'cannib': 2659, 'widmark': 2660, 'elvira': 2661, 'alik': 2662, 'premier': 2663, 'mill': 2664, 'greatli': 2665, 'repetit': 2666, 'incoher': 2667, 'torn': 2668, 'neat': 2669, 'etern': 2670, 'innov': 2671, 'glori': 2672, 'spielberg': 2673, 'absorb': 2674, 'pie': 2675, 'musician': 2676, 'elvi': 2677, 'bang': 2678, 'trite': 2679, 'britain': 2680, 'nelson': 2681, 'homag': 2682, 'lovabl': 2683, 'racism': 2684, 'blank': 2685, 'fbi': 2686, 'wealthi': 2687, 'redempt': 2688, 'crisi': 2689, 'itali': 2690, 'announc': 2691, 'precis': 2692, 'burton': 2693, 'infam': 2694, 'horrifi': 2695, 'diamond': 2696, 'flop': 2697, 'resolut': 2698, 'ensembl': 2699, 'happili': 2700, 'hammer': 2701, 'helen': 2702, 'parallel': 2703, 'pat': 2704, 'dedic': 2705, 'streisand': 2706, 'chaplin': 2707, 'wilder': 2708, 'oil': 2709, 'plastic': 2710, 'carter': 2711, 'broke': 2712, 'mar': 2713, 'cube': 2714, 'st': 2715, 'disagre': 2716, 'triumph': 2717, 'conclud': 2718, 'factori': 2719, 'weight': 2720, 'bush': 2721, 'own': 2722, 'chuckl': 2723, 'climb': 2724, 'row': 2725, 'fighter': 2726, 'march': 2727, 'rocket': 2728, 'vega': 2729, 'sensibl': 2730, 'dump': 2731, 'boot': 2732, 'mst3k': 2733, 'enorm': 2734, 'luca': 2735, 'unforgett': 2736, 'lust': 2737, 'meaning': 2738, 'wherea': 2739, 'kurt': 2740, 'dane': 2741, 'spare': 2742, 'thug': 2743, 'adequ': 2744, 'caricatur': 2745, 'difficulti': 2746, 'dear': 2747, 'brand': 2748, 'rap': 2749, 'stress': 2750, 'threat': 2751, 'bobbi': 2752, 'arnold': 2753, 'engin': 2754, 'fifti': 2755, 'butt': 2756, 'karloff': 2757, 'swing': 2758, 'elabor': 2759, 'ego': 2760, 'fest': 2761, 'secretari': 2762, 'barri': 2763, 'polish': 2764, 'homeless': 2765, 'flynn': 2766, 'arrog': 2767, 'journalist': 2768, 'hamlet': 2769, 'ralph': 2770, 'spike': 2771, 'grate': 2772, 'resort': 2773, 'puppet': 2774, 'induc': 2775, 'conspiraci': 2776, 'float': 2777, 'arrang': 2778, 'tool': 2779, 'fanci': 2780, 'unbear': 2781, 'simpson': 2782, 'basement': 2783, 'tribut': 2784, 'exercis': 2785, 'pig': 2786, 'choreograph': 2787, 'guilt': 2788, 'cruis': 2789, 'phillip': 2790, 'boll': 2791, 'muppet': 2792, 'toilet': 2793, 'fianc': 2794, 'file': 2795, 'korean': 2796, '24': 2797, 'ham': 2798, 'tower': 2799, 'editor': 2800, 'medium': 2801, 'item': 2802, 'puzzl': 2803, 'stan': 2804, 'ward': 2805, 'document': 2806, 'scarecrow': 2807, 'layer': 2808, 'slip': 2809, 'babe': 2810, 'territori': 2811, 'spark': 2812, 'librari': 2813, 'transit': 2814, 'minim': 2815, 'philosoph': 2816, 'inexplic': 2817, 'larger': 2818, 'denzel': 2819, 'slaughter': 2820, 'superfici': 2821, 'assur': 2822, 'persona': 2823, 'orient': 2824, 'glover': 2825, 'catherin': 2826, 'doc': 2827, 'portion': 2828, 'shi': 2829, 'ban': 2830, 'walken': 2831, 'sneak': 2832, 'curti': 2833, 'owe': 2834, 'pg': 2835, 'wolf': 2836, 'boredom': 2837, 'jet': 2838, 'dorothi': 2839, 'financi': 2840, 'jeremi': 2841, 'ambigu': 2842, 'profound': 2843, 'hudson': 2844, 'metaphor': 2845, 'backdrop': 2846, 'multi': 2847, 'cusack': 2848, 'whale': 2849, 'eleph': 2850, 'stiff': 2851, 'hack': 2852, 'birthday': 2853, 'elsewher': 2854, 'rave': 2855, 'viru': 2856, 'ultra': 2857, 'implaus': 2858, 'gadget': 2859, '2005': 2860, 'union': 2861, 'notion': 2862, 'urg': 2863, 'deriv': 2864, 'disc': 2865, 'poison': 2866, 'reader': 2867, 'eva': 2868, 'squar': 2869, 'distanc': 2870, 'canada': 2871, 'afford': 2872, 'pad': 2873, 'slight': 2874, 'eastwood': 2875, 'newspap': 2876, 'lloyd': 2877, 'superhero': 2878, 'hawk': 2879, '1st': 2880, 'bibl': 2881, 'spread': 2882, 'health': 2883, 'restaur': 2884, 'essenc': 2885, 'huh': 2886, 'sadist': 2887, 'cure': 2888, 'skit': 2889, 'charisma': 2890, 'button': 2891, 'drown': 2892, 'montag': 2893, 'heston': 2894, 'fetch': 2895, 'companion': 2896, 'scoobi': 2897, 'peak': 2898, 'dealt': 2899, 'estat': 2900, 'invest': 2901, 'maniac': 2902, 'muslim': 2903, 'lab': 2904, 'godfath': 2905, 'gradual': 2906, 'miik': 2907, 'gothic': 2908, 'subtleti': 2909, 'alli': 2910, 'ritter': 2911, 'kane': 2912, 'tea': 2913, 'servant': 2914, 'countless': 2915, 'cup': 2916, 'electr': 2917, 'elect': 2918, 'heroic': 2919, 'briefli': 2920, 'charismat': 2921, 'salli': 2922, 'iii': 2923, 'grandmoth': 2924, 'wannab': 2925, 'admittedli': 2926, 'nuanc': 2927, 'reel': 2928, 'neil': 2929, 'resourc': 2930, 'toss': 2931, 'cole': 2932, 'bud': 2933, 'tender': 2934, 'ingredi': 2935, 'pit': 2936, 'mild': 2937, 'pauli': 2938, 'kubrick': 2939, 'dawson': 2940, 'poverti': 2941, 'gate': 2942, 'label': 2943, 'stronger': 2944, 'stood': 2945, 'reev': 2946, 'punk': 2947, 'mafia': 2948, 'carrey': 2949, 'shall': 2950, 'smash': 2951, 'terri': 2952, 'assault': 2953, 'ian': 2954, 'astair': 2955, 'burst': 2956, 'useless': 2957, 'easier': 2958, 'tag': 2959, 'fond': 2960, 'updat': 2961, 'cox': 2962, 'cardboard': 2963, 'outcom': 2964, 'smooth': 2965, 'bakshi': 2966, 'samurai': 2967, 'fist': 2968, 'vari': 2969, 'vulner': 2970, 'sketch': 2971, 'melodramat': 2972, 'exchang': 2973, 'qualifi': 2974, 'divers': 2975, 'coincid': 2976, 'increasingli': 2977, 'rex': 2978, 'resolv': 2979, '2002': 2980, 'scratch': 2981, 'blast': 2982, 'reynold': 2983, 'tame': 2984, 'insert': 2985, 'suspend': 2986, 'brillianc': 2987, 'be': 2988, 'conveni': 2989, 'templ': 2990, 'luckili': 2991, 'meat': 2992, 'pin': 2993, 'fisher': 2994, 'strictli': 2995, 'walker': 2996, 'hamilton': 2997, 'soprano': 2998, 'coach': 2999, 'farm': 3000, 'nuclear': 3001, 'jami': 3002, 'ambiti': 3003, 'matthew': 3004, 'gotta': 3005, 'seventi': 3006, 'eccentr': 3007, 'spooki': 3008, 'kudo': 3009, 'recreat': 3010, 'closet': 3011, 'timeless': 3012, 'grasp': 3013, 'butcher': 3014, 'empir': 3015, 'struck': 3016, 'cave': 3017, 'convolut': 3018, 'clock': 3019, 'worthless': 3020, 'joey': 3021, 'ninja': 3022, 'discoveri': 3023, 'instantli': 3024, 'monk': 3025, 'revers': 3026, 'brosnan': 3027, 'miracl': 3028, 'partli': 3029, 'evok': 3030, 'seller': 3031, 'sidekick': 3032, 'pal': 3033, 'sloppi': 3034, 'wipe': 3035, 'declar': 3036, 'gray': 3037, 'cliff': 3038, 'communist': 3039, 'bleak': 3040, 'inconsist': 3041, 'norman': 3042, 'fifteen': 3043, 'selfish': 3044, 'mitchel': 3045, 'importantli': 3046, 'clown': 3047, 'eighti': 3048, 'cheek': 3049, 'websit': 3050, 'destin': 3051, 'stoog': 3052, 'piano': 3053, 'aforement': 3054, 'enthusiast': 3055, 'superbl': 3056, '45': 3057, 'chew': 3058, 'ho': 3059, 'psychiatrist': 3060, 'flawless': 3061, 'seed': 3062, 'lifestyl': 3063, 'farc': 3064, 'debat': 3065, 'australia': 3066, 'kitchen': 3067, 'abc': 3068, 'bash': 3069, 'dash': 3070, 'directori': 3071, 'splatter': 3072, 'regardless': 3073, 'anni': 3074, 'drivel': 3075, 'wrestl': 3076, 'slice': 3077, 'soviet': 3078, 'dire': 3079, 'emili': 3080, 'pressur': 3081, 'incompet': 3082, 'akshay': 3083, 'wick': 3084, 'chapter': 3085, 'curios': 3086, 'doo': 3087, 'increas': 3088, 'ken': 3089, 'boil': 3090, 'prize': 3091, 'recov': 3092, 'mann': 3093, 'lou': 3094, 'suppli': 3095, 'cameron': 3096, 'flower': 3097, 'distant': 3098, 'pleasantli': 3099, 'judi': 3100, 'cagney': 3101, 'artifici': 3102, 'duo': 3103, 'beaten': 3104, 'jar': 3105, 'helicopt': 3106, 'glow': 3107, 'blob': 3108, 'cia': 3109, 'seduc': 3110, 'dave': 3111, 'combat': 3112, 'laurel': 3113, 'eleg': 3114, 'goldberg': 3115, 'craven': 3116, 'psychot': 3117, 'splendid': 3118, 'ranger': 3119, 'web': 3120, 'craig': 3121, 'turner': 3122, 'perri': 3123, 'glenn': 3124, 'favour': 3125, 'francisco': 3126, 'drunken': 3127, 'panic': 3128, 'hop': 3129, 'ellen': 3130, 'plausibl': 3131, 'philosophi': 3132, 'shortli': 3133, 'flip': 3134, 'alexand': 3135, 'min': 3136, 'rid': 3137, 'wizard': 3138, 'modesti': 3139, 'hatr': 3140, '20th': 3141, 'gandhi': 3142, 'slightest': 3143, 'ruth': 3144, 'graduat': 3145, 'falk': 3146, 'fx': 3147, 'gentl': 3148, 'greek': 3149, 'tall': 3150, 'legal': 3151, 'we': 3152, 'fund': 3153, 'lend': 3154, 'unpleas': 3155, 'manhattan': 3156, 'preciou': 3157, 'felix': 3158, 'ocean': 3159, 'jealou': 3160, 'futurist': 3161, 'harm': 3162, 'holi': 3163, 'dracula': 3164, 'knight': 3165, 'bless': 3166, 'forbidden': 3167, 'reviv': 3168, 'nod': 3169, 'overdon': 3170, 'thread': 3171, 'mock': 3172, 'scientif': 3173, 'tank': 3174, 'digniti': 3175, 'childish': 3176, 'giallo': 3177, 'ami': 3178, 'explicit': 3179, 'mel': 3180, 'broad': 3181, '99': 3182, 'unwatch': 3183, 'yesterday': 3184, '2004': 3185, 'elderli': 3186, 'nerv': 3187, 'thick': 3188, 'fever': 3189, 'verhoeven': 3190, 'awe': 3191, 'awaken': 3192, 'repeatedli': 3193, 'margaret': 3194, 'torment': 3195, 'eve': 3196, 'pirat': 3197, 'absenc': 3198, 'acclaim': 3199, 'uniform': 3200, 'automat': 3201, 'timothi': 3202, 'politician': 3203, 'griffith': 3204, 'royal': 3205, 'roman': 3206, 'rivet': 3207, 'lean': 3208, 'ah': 3209, 'ambit': 3210, 'bin': 3211, 'launch': 3212, 'kay': 3213, 'romero': 3214, 'stiller': 3215, 'eas': 3216, 'custom': 3217, 'publish': 3218, 'stinker': 3219, 'warren': 3220, 'pulp': 3221, 'homicid': 3222, 'foul': 3223, 'phrase': 3224, 'bathroom': 3225, 'darker': 3226, 'transport': 3227, 'antic': 3228, 'tomato': 3229, 'termin': 3230, 'wallac': 3231, 'sunshin': 3232, 'crook': 3233, 'purpl': 3234, 'gabriel': 3235, 'pierc': 3236, 'choreographi': 3237, 'ought': 3238, 'sixti': 3239, '2003': 3240, 'horrid': 3241, 'viciou': 3242, 'eyr': 3243, 'marin': 3244, 'q': 3245, 'contrari': 3246, 'brazil': 3247, 'packag': 3248, 'coloni': 3249, 'prom': 3250, 'awak': 3251, 'donna': 3252, 'hollow': 3253, 'album': 3254, 'pray': 3255, 'kenneth': 3256, 'juvenil': 3257, 'rambo': 3258, 'li': 3259, 'revolutionari': 3260, 'evolv': 3261, 'karen': 3262, 'saint': 3263, 'stole': 3264, 'dose': 3265, 'overr': 3266, 'kapoor': 3267, 'ireland': 3268, 'twelv': 3269, 'boast': 3270, 'candid': 3271, 'conserv': 3272, 'ramon': 3273, 'defi': 3274, 'blade': 3275, 'option': 3276, 'nerd': 3277, 'beatti': 3278, 'mummi': 3279, 'mildr': 3280, 'natali': 3281, 'detract': 3282, 'funer': 3283, 'jazz': 3284, 'astonish': 3285, 'collabor': 3286, 'kirk': 3287, 'flame': 3288, 'trio': 3289, 'protest': 3290, 'global': 3291, 'fulci': 3292, 'confirm': 3293, 'altman': 3294, 'bull': 3295, 'destini': 3296, 'delici': 3297, 'audio': 3298, 'racial': 3299, 'yellow': 3300, 'blake': 3301, 'bottl': 3302, 'spit': 3303, 'leap': 3304, 'nicholson': 3305, 'enterpris': 3306, 'mystic': 3307, 'shade': 3308, 'tommi': 3309, 'whip': 3310, 'bedroom': 3311, 'popcorn': 3312, 'inherit': 3313, 'todd': 3314, 'harder': 3315, 'adolesc': 3316, 'meaningless': 3317, 'staff': 3318, 'visibl': 3319, 'neo': 3320, 'threw': 3321, 'enchant': 3322, 'merci': 3323, 'reunit': 3324, 'vivid': 3325, 'swedish': 3326, 'pseudo': 3327, 'fonda': 3328, 'altogeth': 3329, 'kennedi': 3330, 'edi': 3331, 'crocodil': 3332, 'synopsi': 3333, 'fanat': 3334, 'roommat': 3335, 'wire': 3336, 'moodi': 3337, 'ruthless': 3338, 'decor': 3339, 'leonard': 3340, 'reserv': 3341, 'atlanti': 3342, 'tip': 3343, 'respond': 3344, 'voight': 3345, 'befriend': 3346, 'jew': 3347, 'madonna': 3348, 'bust': 3349, 'lawrenc': 3350, 'lemmon': 3351, 'suspici': 3352, 'exhibit': 3353, 'await': 3354, 'uneven': 3355, 'rural': 3356, 'abysm': 3357, 'bargain': 3358, 'bradi': 3359, 'audit': 3360, 'chao': 3361, 'voyag': 3362, 'garner': 3363, 'unsettl': 3364, 'incident': 3365, 'bold': 3366, 'dimens': 3367, '2007': 3368, 'centr': 3369, 'holli': 3370, 'clumsi': 3371, 'ventur': 3372, 'carl': 3373, 'clint': 3374, 'palma': 3375, 'ant': 3376, 'humili': 3377, 'cd': 3378, '2nd': 3379, 'elimin': 3380, 'immigr': 3381, 'poetic': 3382, 'neglect': 3383, 'troop': 3384, 'tiger': 3385, 'echo': 3386, 'acknowledg': 3387, 'versu': 3388, 'lit': 3389, 'nearbi': 3390, 'daddi': 3391, 'wealth': 3392, 'characterist': 3393, 'mall': 3394, 'timon': 3395, 'trail': 3396, 'cuba': 3397, 'imperson': 3398, 'cari': 3399, 'hart': 3400, 'jeffrey': 3401, 'saga': 3402, 'paus': 3403, 'marshal': 3404, 'mickey': 3405, 'prejudic': 3406, 'celluloid': 3407, 'pun': 3408, 'infect': 3409, 'domest': 3410, 'mistaken': 3411, 'solo': 3412, 'repuls': 3413, 'homer': 3414, 'collaps': 3415, 'chest': 3416, 'undoubtedli': 3417, 'promin': 3418, 'pant': 3419, 'inan': 3420, 'gear': 3421, 'equip': 3422, 'hbo': 3423, 'coat': 3424, 'sore': 3425, 'apolog': 3426, 'assembl': 3427, 'ginger': 3428, 'leon': 3429, 'cake': 3430, 'tribe': 3431, 'milk': 3432, '1996': 3433, 'inappropri': 3434, 'coffe': 3435, 'interrupt': 3436, 'harvey': 3437, 'olivi': 3438, 'pen': 3439, 'brooklyn': 3440, 'humbl': 3441, 'pot': 3442, 'maggi': 3443, 'institut': 3444, 'highest': 3445, 'solut': 3446, 'trace': 3447, 'furthermor': 3448, 'airplan': 3449, 'polanski': 3450, 'colleagu': 3451, 'vulgar': 3452, 'embrac': 3453, 'primari': 3454, 'devast': 3455, 'colonel': 3456, 'florida': 3457, 'instant': 3458, 'retain': 3459, 'aveng': 3460, 'consum': 3461, 'exot': 3462, 'jenni': 3463, 'smaller': 3464, '3rd': 3465, 'outer': 3466, 'dian': 3467, 'gender': 3468, 'poke': 3469, 'linda': 3470, 'bowl': 3471, 'descend': 3472, 'strain': 3473, 'cope': 3474, 'disabl': 3475, 'rick': 3476, 'seduct': 3477, 'sale': 3478, 'ya': 3479, 'dutch': 3480, 'principl': 3481, 'godzilla': 3482, 'illog': 3483, '1999': 3484, 'wive': 3485, 'dud': 3486, 'yard': 3487, 'primarili': 3488, 'bubbl': 3489, 'beneath': 3490, 'devoid': 3491, 'gloriou': 3492, 'blatant': 3493, 'rabbit': 3494, 'cue': 3495, 'mixtur': 3496, 'secondli': 3497, 'dive': 3498, 'vast': 3499, 'inferior': 3500, 'scope': 3501, 'hal': 3502, 'lol': 3503, 'glamor': 3504, 'predecessor': 3505, 'gundam': 3506, 'aggress': 3507, 'trademark': 3508, 'pearl': 3509, 'alfr': 3510, 'museum': 3511, 'arab': 3512, 'april': 3513, 'countrysid': 3514, 'talki': 3515, 'simplist': 3516, 'invas': 3517, 'et': 3518, 'z': 3519, 'hideou': 3520, 'garbo': 3521, 'shirley': 3522, 'casual': 3523, 'streep': 3524, 'senseless': 3525, 'shelf': 3526, 'myer': 3527, 'breed': 3528, 'alert': 3529, 'disjoint': 3530, 'grinch': 3531, 'domino': 3532, 'mayor': 3533, 'mail': 3534, 'obtain': 3535, 'illeg': 3536, 'experiment': 3537, 'oz': 3538, 'khan': 3539, 'applaud': 3540, 'defens': 3541, 'loyal': 3542, 'sh': 3543, 'slide': 3544, 'hardcor': 3545, 'stellar': 3546, 'hopeless': 3547, 'acid': 3548, 'unhappi': 3549, 'maci': 3550, 'stir': 3551, 'rendit': 3552, 'boom': 3553, 'robberi': 3554, 'robinson': 3555, 'vanish': 3556, 'uwe': 3557, 'stack': 3558, 'disgrac': 3559, 'diana': 3560, 'fri': 3561, 'tenant': 3562, 'topless': 3563, 'amanda': 3564, 'blew': 3565, 'grandfath': 3566, 'counter': 3567, 'tempt': 3568, 'craze': 3569, 'berlin': 3570, 'spider': 3571, 'dismiss': 3572, 'wont': 3573, 'span': 3574, 'incomprehens': 3575, 'declin': 3576, 'hartley': 3577, 'soccer': 3578, 'dicken': 3579, 'emphasi': 3580, 'psychic': 3581, 'rifl': 3582, 'recruit': 3583, 'scroog': 3584, 'woo': 3585, 'riot': 3586, 'intim': 3587, 'goer': 3588, 'shaw': 3589, 'shed': 3590, 'revolt': 3591, 'wet': 3592, 'justin': 3593, 'niro': 3594, 'porno': 3595, 'ethnic': 3596, 'ration': 3597, 'resurrect': 3598, 'trashi': 3599, 'sympath': 3600, 'faster': 3601, 'parad': 3602, 'bitch': 3603, 'sibl': 3604, 'lumet': 3605, 'enlighten': 3606, 'steam': 3607, 'region': 3608, 'ballet': 3609, 'weakest': 3610, 'ensur': 3611, 'hesit': 3612, 'wheel': 3613, 'mario': 3614, 'nephew': 3615, 'partial': 3616, 'unreal': 3617, 'gap': 3618, 'honesti': 3619, 'jonathan': 3620, 'choru': 3621, 'immort': 3622, 'eager': 3623, 'biographi': 3624, 'commend': 3625, 'dealer': 3626, 'wendi': 3627, 'andr': 3628, '00': 3629, 'patriot': 3630, 'hopper': 3631, 'rider': 3632, 'worm': 3633, 'lena': 3634, 'feminist': 3635, 'slick': 3636, 'farmer': 3637, 'psychopath': 3638, 'repress': 3639, 'hung': 3640, 'victori': 3641, 'util': 3642, 'charlott': 3643, 'nostalg': 3644, 'wore': 3645, 'sappi': 3646, 'mutant': 3647, 'snap': 3648, 'leo': 3649, 'prequel': 3650, 'similarli': 3651, 'confin': 3652, 'composit': 3653, 'owen': 3654, 'franco': 3655, 'kingdom': 3656, 'sandra': 3657, 'safeti': 3658, 'blunt': 3659, 'morri': 3660, 'skull': 3661, 'properti': 3662, 'vice': 3663, 'macarthur': 3664, 'kyle': 3665, 'repli': 3666, 'latin': 3667, 'campbel': 3668, 'miseri': 3669, 'exit': 3670, 'thru': 3671, 'dalton': 3672, 'compens': 3673, 'hyde': 3674, 'heartbreak': 3675, 'rambl': 3676, 'farrel': 3677, 'drum': 3678, 'bergman': 3679, 'tail': 3680, 'tad': 3681, 'recycl': 3682, 'compass': 3683, 'bonu': 3684, 'whoopi': 3685, 'acquir': 3686, 'bow': 3687, 'valuabl': 3688, 'deed': 3689, 'despair': 3690, 'cg': 3691, 'snl': 3692, 'bumbl': 3693, 'nervou': 3694, 'rocki': 3695, 'rope': 3696, 'del': 3697, '1972': 3698, 'pattern': 3699, 'drain': 3700, 'dust': 3701, 'emperor': 3702, 'speci': 3703, 'strand': 3704, 'montana': 3705, 'slug': 3706, '35': 3707, 'carradin': 3708, 'rotten': 3709, 'rapist': 3710, 'tonight': 3711, 'bleed': 3712, 'gimmick': 3713, 'gal': 3714, 'airport': 3715, 'downhil': 3716, 'romp': 3717, 'martian': 3718, 'oppress': 3719, 'chess': 3720, 'pour': 3721, 'olli': 3722, 'wacki': 3723, 'orson': 3724, 'radic': 3725, 'contempl': 3726, 'mistress': 3727, 'da': 3728, 'percept': 3729, 'roth': 3730, 'slash': 3731, 'stilt': 3732, 'shelley': 3733, 'arc': 3734, 'pervert': 3735, 'attorney': 3736, 'edgar': 3737, 'dazzl': 3738, 'unpredict': 3739, 'arguabl': 3740, 'banal': 3741, 'pursuit': 3742, 'heal': 3743, 'programm': 3744, 'taught': 3745, '1983': 3746, 'mislead': 3747, 'tackl': 3748, 'tooth': 3749, 'champion': 3750, 'pervers': 3751, 'belt': 3752, 'melodi': 3753, 'preach': 3754, 'paltrow': 3755, 'raymond': 3756, 'maid': 3757, 'plight': 3758, 'conneri': 3759, 'cleverli': 3760, 'vengeanc': 3761, 'duval': 3762, 'bela': 3763, 'uplift': 3764, 'sensat': 3765, 'vocal': 3766, 'closest': 3767, 'graham': 3768, 'tiresom': 3769, 'chicken': 3770, 'orang': 3771, 'rubi': 3772, 'virginia': 3773, 'employe': 3774, 'marti': 3775, 'franki': 3776, 'passeng': 3777, 'gambl': 3778, 'mesmer': 3779, 'poem': 3780, 'dixon': 3781, 'engross': 3782, 'gerard': 3783, 'profan': 3784, 'tube': 3785, 'yawn': 3786, 'quarter': 3787, 'crystal': 3788, 'extens': 3789, 'outing': 3790, 'volum': 3791, 'mute': 3792, 'paranoia': 3793, 'convincingli': 3794, 'monologu': 3795, 'climact': 3796, 'numb': 3797, 'giggl': 3798, 'suffic': 3799, 'scottish': 3800, '1968': 3801, 'clone': 3802, 'calm': 3803, 'iran': 3804, 'secretli': 3805, 'habit': 3806, 'whine': 3807, 'bay': 3808, 'pokemon': 3809, 'amitabh': 3810, 'sirk': 3811, 'abraham': 3812, 'swallow': 3813, 'inject': 3814, 'lundgren': 3815, 'lowest': 3816, 'frankenstein': 3817, 'plod': 3818, 'ethan': 3819, 'poetri': 3820, 'septemb': 3821, 'expand': 3822, 'backward': 3823, 'profess': 3824, 'im': 3825, 'meander': 3826, 'underst': 3827, 'junior': 3828, 'linger': 3829, 'surpass': 3830, 'grotesqu': 3831, 'chicago': 3832, 'taxi': 3833, 'earl': 3834, 'abort': 3835, 'richardson': 3836, 'nichola': 3837, 'bend': 3838, 'austen': 3839, 'franci': 3840, 'fed': 3841, 'trend': 3842, 'dispos': 3843, 'spock': 3844, 'myth': 3845, 'hum': 3846, 'tourist': 3847, 'muddl': 3848, 'compliment': 3849, 'greedi': 3850, 'instrument': 3851, 'descent': 3852, 'waitress': 3853, 'nostalgia': 3854, 'stallon': 3855, 'simplic': 3856, 'der': 3857, 'eugen': 3858, 'household': 3859, 'literatur': 3860, 'spoke': 3861, 'rant': 3862, 'rubber': 3863, 'lure': 3864, 'cannon': 3865, 'econom': 3866, 'catchi': 3867, 'dysfunct': 3868, 'mundan': 3869, 'sue': 3870, 'occupi': 3871, 'omen': 3872, 'duck': 3873, 'firstli': 3874, 'phoni': 3875, 'louis': 3876, 'crucial': 3877, 'recognis': 3878, 'bacal': 3879, 'coast': 3880, 'hello': 3881, 'deaf': 3882, 'eaten': 3883, 'mankind': 3884, 'june': 3885, 'mortal': 3886, 'sissi': 3887, 'map': 3888, 'alongsid': 3889, 'irrelev': 3890, 'lang': 3891, 'furi': 3892, 'insur': 3893, 'carel': 3894, 'recognit': 3895, 'dement': 3896, 'stale': 3897, 'flee': 3898, 'randi': 3899, 'molli': 3900, 'dictat': 3901, 'damon': 3902, 'phantom': 3903, 'cent': 3904, 'equival': 3905, 'daisi': 3906, 'blackmail': 3907, 'drake': 3908, 'reign': 3909, 'grayson': 3910, 'damm': 3911, 'lengthi': 3912, 'freez': 3913, 'newli': 3914, 'wisdom': 3915, 'rude': 3916, 'bike': 3917, 'biko': 3918, 'twilight': 3919, 'likewis': 3920, 'loyalti': 3921, 'distinguish': 3922, 'labor': 3923, 'onlin': 3924, '1973': 3925, 'bump': 3926, 'heel': 3927, 'ashley': 3928, 'buffalo': 3929, 'antwon': 3930, 'cyborg': 3931, 'dreari': 3932, 'rooney': 3933, 'startl': 3934, 'exposur': 3935, 'unorigin': 3936, 'barrymor': 3937, 'sailor': 3938, 'interior': 3939, 'nineti': 3940, 'keith': 3941, 'ridden': 3942, 'analysi': 3943, 'provoc': 3944, 'inher': 3945, 'worn': 3946, 'basketbal': 3947, 'emphas': 3948, 'attribut': 3949, 'butler': 3950, 'incorpor': 3951, 'boxer': 3952, 'tunnel': 3953, 'approv': 3954, 'proce': 3955, 'pink': 3956, 'baddi': 3957, 'prey': 3958, 'vein': 3959, 'chronicl': 3960, 'robbin': 3961, 'millionair': 3962, 'meg': 3963, 'drift': 3964, 'mighti': 3965, 'substitut': 3966, 'indiffer': 3967, 'condemn': 3968, 'meyer': 3969, 'barrel': 3970, 'predat': 3971, 'julian': 3972, 'fleet': 3973, 'elm': 3974, 'degrad': 3975, 'undeni': 3976, 'unrel': 3977, 'hypnot': 3978, 'belushi': 3979, 'er': 3980, 'bunni': 3981, 'walsh': 3982, 'improvis': 3983, 'stalker': 3984, 'simmon': 3985, 'carla': 3986, 'nicol': 3987, 'underli': 3988, 'mormon': 3989, 'othello': 3990, 'enthusiasm': 3991, 'exquisit': 3992, 'alison': 3993, 'dolph': 3994, 'alarm': 3995, 'shove': 3996, 'firm': 3997, 'vital': 3998, 'marion': 3999, 'greed': 4000, 'mtv': 4001, 'agenda': 4002, 'priceless': 4003, 'palac': 4004, 'reid': 4005, 'novak': 4006, '3d': 4007, 'disord': 4008, 'unawar': 4009, 'warmth': 4010, 'errol': 4011, 'lampoon': 4012, 'nyc': 4013, 'edgi': 4014, 'watson': 4015, 'rukh': 4016, 'roof': 4017, 'hay': 4018, 'gestur': 4019, 'ponder': 4020, 'distort': 4021, 'simultan': 4022, 'thompson': 4023, 'israel': 4024, 'glanc': 4025, '13th': 4026, '1933': 4027, 'sergeant': 4028, 'pamela': 4029, 'petti': 4030, 'crown': 4031, 'coup': 4032, 'what': 4033, 'peck': 4034, 'drip': 4035, 'session': 4036, 'preserv': 4037, 'peril': 4038, 'randomli': 4039, 'angela': 4040, 'showdown': 4041, 'nun': 4042, 'campaign': 4043, 'unleash': 4044, 'eastern': 4045, 'beatl': 4046, 'championship': 4047, 'orlean': 4048, 'spain': 4049, 'profit': 4050, 'minimum': 4051, 'valentin': 4052, 'iraq': 4053, 'testament': 4054, 'cassidi': 4055, 'zizek': 4056, 'realm': 4057, 'crawl': 4058, 'stake': 4059, 'kurosawa': 4060, 'cream': 4061, 'scotland': 4062, 'buster': 4063, 'shootout': 4064, 'rout': 4065, 'represent': 4066, 'wig': 4067, 'empathi': 4068, 'cooki': 4069, 'perpetu': 4070, 'unimagin': 4071, 'brenda': 4072, 'restrain': 4073, 'climat': 4074, 'crow': 4075, 'reson': 4076, 'contradict': 4077, 'gentleman': 4078, 'valley': 4079, 'mon': 4080, 'miyazaki': 4081, '1984': 4082, 'calib': 4083, 'han': 4084, 'travesti': 4085, 'sabrina': 4086, 'exposit': 4087, 'regist': 4088, 'quinn': 4089, 'bro': 4090, 'stroke': 4091, 'jan': 4092, 'din': 4093, 'fido': 4094, 'tacki': 4095, 'crawford': 4096, 'abomin': 4097, 'unseen': 4098, 'sucker': 4099, 'absent': 4100, 'censor': 4101, '1997': 4102, 'businessman': 4103, 'sammi': 4104, 'monoton': 4105, 'traumat': 4106, 'unsatisfi': 4107, 'geek': 4108, 'josh': 4109, 'compromis': 4110, 'ustinov': 4111, 'warrant': 4112, 'perceiv': 4113, '1987': 4114, 'pole': 4115, 'femm': 4116, 'delic': 4117, 'demis': 4118, 'meryl': 4119, 'fuller': 4120, 'distress': 4121, 'derang': 4122, 'stargat': 4123, 'cloud': 4124, 'wax': 4125, 'pretens': 4126, 'spacey': 4127, 'soderbergh': 4128, 'baldwin': 4129, 'shoddi': 4130, 'painter': 4131, 'passabl': 4132, 'ross': 4133, 'dana': 4134, 'greg': 4135, 'shaki': 4136, 'mclaglen': 4137, 'darren': 4138, 'verbal': 4139, 'tech': 4140, 'tarantino': 4141, 'furiou': 4142, 'primit': 4143, 'anchor': 4144, 'reluct': 4145, 'seal': 4146, 'judgment': 4147, 'expedit': 4148, 'deniro': 4149, 'norm': 4150, 'valid': 4151, 'unravel': 4152, 'clash': 4153, 'wholli': 4154, 'correctli': 4155, 'fog': 4156, 'polici': 4157, 'dee': 4158, 'click': 4159, 'austin': 4160, 'accuraci': 4161, 'fenc': 4162, 'jewel': 4163, 'sid': 4164, 'nathan': 4165, 'antonioni': 4166, 'uncov': 4167, 'exclus': 4168, 'deceas': 4169, 'kumar': 4170, '1993': 4171, 'wretch': 4172, 'hallucin': 4173, 'conduct': 4174, 'joel': 4175, 'fart': 4176, '3000': 4177, 'malon': 4178, 'behold': 4179, 'debt': 4180, 'crippl': 4181, 'patienc': 4182, 'shanghai': 4183, 'darn': 4184, '1971': 4185, 'murray': 4186, 'clerk': 4187, 'sand': 4188, 'sheet': 4189, 'roller': 4190, 'fabric': 4191, 'trait': 4192, 'ritual': 4193, 'dreck': 4194, 'mode': 4195, '1995': 4196, 'tax': 4197, 'sustain': 4198, 'pocket': 4199, '2008': 4200, 'logan': 4201, 'unfair': 4202, 'enforc': 4203, 'fought': 4204, 'vanc': 4205, 'seldom': 4206, 'alec': 4207, 'wang': 4208, 'slam': 4209, 'nicola': 4210, 'bake': 4211, 'sunni': 4212, 'temper': 4213, 'preposter': 4214, 'technicolor': 4215, 'stuart': 4216, 'sweep': 4217, 'isabel': 4218, 'bridget': 4219, 'tactic': 4220, 'exhaust': 4221, 'helpless': 4222, 'robber': 4223, 'outlin': 4224, 'clau': 4225, 'preston': 4226, 'divid': 4227, 'penni': 4228, 'soup': 4229, 'pete': 4230, 'despis': 4231, 'grief': 4232, 'conscious': 4233, 'stark': 4234, 'guitar': 4235, 'shell': 4236, 'legaci': 4237, 'runner': 4238, 'schedul': 4239, 'critiqu': 4240, 'bias': 4241, 'rita': 4242, 'squad': 4243, 'canyon': 4244, 'phil': 4245, 'fundament': 4246, 'scriptwrit': 4247, 'delv': 4248, 'jacket': 4249, 'vomit': 4250, 'sentinel': 4251, 'propos': 4252, 'sniper': 4253, 'jodi': 4254, 'drove': 4255, 'passag': 4256, 'restrict': 4257, 'unexpectedli': 4258, 'gregori': 4259, 'lacklust': 4260, 'kansa': 4261, 'alicia': 4262, 'culmin': 4263, 'marc': 4264, 'boyl': 4265, 'rear': 4266, 'agenc': 4267, 'sugar': 4268, 'alley': 4269, 'inabl': 4270, 'downey': 4271, 'bloom': 4272, 'implic': 4273, 'russia': 4274, 'flair': 4275, 'rehash': 4276, 'palanc': 4277, 'newman': 4278, 'invad': 4279, 'cigarett': 4280, 'consciou': 4281, 'liberti': 4282, 'connor': 4283, 'wrench': 4284, '22': 4285, 'lush': 4286, 'vet': 4287, 'chainsaw': 4288, 'aesthet': 4289, 'ladder': 4290, 'cap': 4291, 'feat': 4292, 'rampag': 4293, '1936': 4294, 'bacon': 4295, 'tripe': 4296, 'karl': 4297, 'delet': 4298, 'rehears': 4299, 'asylum': 4300, 'arrow': 4301, 'behaviour': 4302, 'foxx': 4303, 'awhil': 4304, 'rod': 4305, 'pale': 4306, 'mccoy': 4307, 'horn': 4308, 'tendenc': 4309, 'improb': 4310, 'sharon': 4311, 'yeti': 4312, 'kolchak': 4313, 'shortcom': 4314, 'paramount': 4315, 'sung': 4316, 'newcom': 4317, 'suspicion': 4318, 'rhythm': 4319, 'suffici': 4320, 'scoop': 4321, 'hackney': 4322, 'aristocrat': 4323, 'prank': 4324, 'rumor': 4325, 'tomorrow': 4326, 'elit': 4327, 'coaster': 4328, 'financ': 4329, 'tasteless': 4330, 'wildli': 4331, 'underneath': 4332, '1988': 4333, 'wagner': 4334, 'conscienc': 4335, 'spice': 4336, 'loneli': 4337, '1920': 4338, 'hungri': 4339, 'filler': 4340, 'el': 4341, '1978': 4342, 'globe': 4343, 'lurk': 4344, 'amazon': 4345, 'fright': 4346, 'weav': 4347, 'basing': 4348, 'paradis': 4349, 'stream': 4350, '19th': 4351, 'minu': 4352, 'thunderbird': 4353, 'hulk': 4354, 'visitor': 4355, 'naughti': 4356, '75': 4357, 'curli': 4358, 'abrupt': 4359, 'grudg': 4360, 'beverli': 4361, 'leigh': 4362, 'ingeni': 4363, 'hopkin': 4364, 'paxton': 4365, 'chavez': 4366, 'rub': 4367, 'lectur': 4368, 'dirt': 4369, 'counterpart': 4370, 'smell': 4371, 'impos': 4372, 'standout': 4373, 'inmat': 4374, '1939': 4375, 'ram': 4376, 'worship': 4377, 'posey': 4378, 'secondari': 4379, 'bread': 4380, 'couch': 4381, 'springer': 4382, 'immers': 4383, 'straightforward': 4384, 'teas': 4385, 'heist': 4386, 'en': 4387, 'entranc': 4388, 'literari': 4389, 'quietli': 4390, 'recogniz': 4391, 'brit': 4392, 'chamberlain': 4393, 'atroc': 4394, 'minist': 4395, 'penn': 4396, 'cancer': 4397, 'wwe': 4398, '1989': 4399, 'choppi': 4400, 'tierney': 4401, 'iv': 4402, 'watcher': 4403, 'enthral': 4404, 'sassi': 4405, 'duel': 4406, 'transcend': 4407, 'heartfelt': 4408, 'attenborough': 4409, 'injuri': 4410, 'net': 4411, 'ratso': 4412, 'morbid': 4413, 'moreov': 4414, 'esther': 4415, 'cattl': 4416, 'variat': 4417, 'geni': 4418, 'bernard': 4419, 'entitl': 4420, 'policeman': 4421, 'clan': 4422, 'missil': 4423, 'ace': 4424, 'nemesi': 4425, 'yearn': 4426, 'sublim': 4427, 'quaid': 4428, 'misguid': 4429, '1986': 4430, 'nolan': 4431, 'skeptic': 4432, 'laurenc': 4433, 'lindsay': 4434, 'convert': 4435, 'bye': 4436, 'rosemari': 4437, 'mytholog': 4438, 'out': 4439, 'hk': 4440, 'cruelti': 4441, 'setup': 4442, 'poe': 4443, 'diari': 4444, 'carlito': 4445, 'egg': 4446, 'bean': 4447, 'puppi': 4448, 'characteris': 4449, 'buzz': 4450, 'kitti': 4451, 'brood': 4452, 'youngest': 4453, 'facil': 4454, 'obstacl': 4455, 'reliabl': 4456, 'graini': 4457, '1979': 4458, 'enabl': 4459, 'artsi': 4460, 'hopelessli': 4461, 'steadi': 4462, 'grin': 4463, 'spiral': 4464, 'moder': 4465, 'uncut': 4466, 'unexplain': 4467, 'tyler': 4468, 'kidman': 4469, 'vader': 4470, 'dont': 4471, 'despic': 4472, '1969': 4473, 'acquaint': 4474, 'athlet': 4475, 'decept': 4476, 'weather': 4477, 'sweat': 4478, 'disastr': 4479, 'bounc': 4480, 'exterior': 4481, 'narrow': 4482, 'patricia': 4483, 'oblig': 4484, 'brendan': 4485, 'kline': 4486, 'fuel': 4487, 'gillian': 4488, 'clueless': 4489, 'niec': 4490, 'hammi': 4491, 'spontan': 4492, 'christin': 4493, 'baffl': 4494, 'underworld': 4495, 'effici': 4496, 'bewar': 4497, 'martha': 4498, 'gina': 4499, 'bronson': 4500, 'hain': 4501, 'heap': 4502, 'preming': 4503, 'angst': 4504, 'taboo': 4505, 'viewpoint': 4506, 'injur': 4507, 'circu': 4508, 'fontain': 4509, 'virtu': 4510, '19': 4511, 'suprem': 4512, 'astound': 4513, 'analyz': 4514, 'shatter': 4515, 'biker': 4516, 'insipid': 4517, 'enlist': 4518, 'dilemma': 4519, 'housewif': 4520, 'hepburn': 4521, 'scar': 4522, 'tick': 4523, 'sooner': 4524, 'dandi': 4525, 'goof': 4526, 'rome': 4527, 'harmless': 4528, 'preachi': 4529, 'sleepwalk': 4530, 'loath': 4531, 'renaiss': 4532, 'outlaw': 4533, 'mayhem': 4534, 'uh': 4535, '73': 4536, 'trigger': 4537, 'mermaid': 4538, 'loi': 4539, 'lester': 4540, 'candl': 4541, 'headach': 4542, 'intric': 4543, 'stimul': 4544, 'macho': 4545, 'glorifi': 4546, 'overlong': 4547, 'dismal': 4548, 'boston': 4549, 'hooker': 4550, 'immatur': 4551, 'stair': 4552, 'hostag': 4553, 'foolish': 4554, 'tripl': 4555, 'contempt': 4556, 'salt': 4557, 'redund': 4558, 'camcord': 4559, 'surgeri': 4560, 'zoom': 4561, 'ariel': 4562, 'hokey': 4563, 'whore': 4564, 'bent': 4565, 'ebert': 4566, 'idol': 4567, 'corbett': 4568, 'amor': 4569, 'guin': 4570, 'gere': 4571, 'steer': 4572, 'dish': 4573, 'spade': 4574, 'filth': 4575, 'cassavet': 4576, 'claustrophob': 4577, 'scorses': 4578, 'fluff': 4579, 'oldest': 4580, 'slimi': 4581, 'phenomenon': 4582, 'sox': 4583, 'proport': 4584, 'strongest': 4585, 'dwarf': 4586, 'gabl': 4587, 'down': 4588, 'faint': 4589, 'mutual': 4590, 'nolt': 4591, 'zane': 4592, 'widescreen': 4593, 'shred': 4594, 'gasp': 4595, 'obligatori': 4596, 'flashi': 4597, 'schlock': 4598, 'messi': 4599, 'corman': 4600, 'conquer': 4601, 'perman': 4602, 'trivia': 4603, 'spinal': 4604, 'naschi': 4605, 'spree': 4606, '1976': 4607, 'remad': 4608, 'frantic': 4609, 'cow': 4610, 'shield': 4611, 'keen': 4612, 'flag': 4613, 'assert': 4614, 'antagonist': 4615, '1981': 4616, 'rhyme': 4617, 'muscl': 4618, 'flirt': 4619, 'mount': 4620, 'harold': 4621, 'transplant': 4622, 'cush': 4623, 'preced': 4624, 'alvin': 4625, 'fascist': 4626, 'cohen': 4627, 'joker': 4628, 'margin': 4629, 'radiat': 4630, 'beard': 4631, 'astronaut': 4632, 'www': 4633, 'barn': 4634, 'triangl': 4635, 'claud': 4636, 'scandal': 4637, 'strive': 4638, 'sensual': 4639, '1945': 4640, 'discern': 4641, 'info': 4642, '28': 4643, 'persuad': 4644, 'off': 4645, 'carey': 4646, 'neurot': 4647, 'danish': 4648, 'inflict': 4649, 'divin': 4650, 'archiv': 4651, 'brush': 4652, 'bachelor': 4653, 'mobil': 4654, 'interestingli': 4655, 'repris': 4656, 'someday': 4657, 'mol': 4658, 'aborigin': 4659, 'resum': 4660, 'instruct': 4661, 'bitten': 4662, 'deer': 4663, 'departur': 4664, 'wield': 4665, 'vaniti': 4666, 'flock': 4667, 'ritchi': 4668, '95': 4669, 'raj': 4670, 'fishburn': 4671, 'boob': 4672, 'hara': 4673, 'heartwarm': 4674, 'senior': 4675, 'kathryn': 4676, 'ish': 4677, 'biblic': 4678, 'cb': 4679, 'europa': 4680, 'hapless': 4681, 'bate': 4682, 'hilar': 4683, 'banter': 4684, 'timberlak': 4685, 'cycl': 4686, 'melissa': 4687, 'pacif': 4688, 'proclaim': 4689, 'cliffhang': 4690, 'cher': 4691, 'loretta': 4692, 'pixar': 4693, 'dame': 4694, 'harrison': 4695, 'anton': 4696, 'prophet': 4697, 'carlo': 4698, 'jade': 4699, 'traffic': 4700, 'dylan': 4701, 'parson': 4702, 'hug': 4703, 'axe': 4704, 'submit': 4705, 'dim': 4706, 'undermin': 4707, 'clad': 4708, 'mobster': 4709, 'miracul': 4710, 'luka': 4711, 'frontier': 4712, 'fragil': 4713, 'artwork': 4714, 'wendigo': 4715, 'colin': 4716, 'recit': 4717, 'vibrant': 4718, 'neill': 4719, 'earnest': 4720, 'helm': 4721, 'casino': 4722, 'rot': 4723, 'pickford': 4724, 'bondag': 4725, 'breakfast': 4726, 'legitim': 4727, 'eli': 4728, 'isra': 4729, 'nope': 4730, 'blatantli': 4731, 'venom': 4732, 'northern': 4733, 'articl': 4734, 'orphan': 4735, 'toronto': 4736, 'milo': 4737, 'antholog': 4738, 'redneck': 4739, 'trier': 4740, 'lui': 4741, 'mathieu': 4742, 'misfortun': 4743, 'token': 4744, 'uma': 4745, 'feast': 4746, 'wardrob': 4747, 'cerebr': 4748, 'http': 4749, 'electron': 4750, 'pc': 4751, 'vile': 4752, 'akin': 4753, 'marlon': 4754, 'static': 4755, 'jordan': 4756, 'illus': 4757, 'rooki': 4758, 'holocaust': 4759, 'choke': 4760, 'alexandr': 4761, 'foil': 4762, 'seedi': 4763, 'aris': 4764, 'estrang': 4765, 'razor': 4766, 'lucil': 4767, 'sicken': 4768, 'winchest': 4769, 'vanessa': 4770, 'bikini': 4771, 'mason': 4772, 'jo': 4773, 'shepherd': 4774, 'flavor': 4775, 'clinic': 4776, 'glare': 4777, 'peer': 4778, 'dudley': 4779, 'styliz': 4780, 'ideolog': 4781, 'comprehend': 4782, 'frog': 4783, 'audrey': 4784, 'affleck': 4785, 'smack': 4786, 'deem': 4787, 'swept': 4788, 'magician': 4789, 'highway': 4790, 'wrestler': 4791, 'fifth': 4792, 'feminin': 4793, 'outdat': 4794, 'linear': 4795, 'leather': 4796, 'abund': 4797, 'howl': 4798, 'turd': 4799, 'nightclub': 4800, 'psych': 4801, 'disregard': 4802, 'shorter': 4803, 'huston': 4804, 'cartoonish': 4805, 'oppon': 4806, 'retriev': 4807, 'charlton': 4808, 'ceremoni': 4809, 'knightley': 4810, 'tack': 4811, 'gilbert': 4812, 'gunga': 4813, 'boyer': 4814, 'braveheart': 4815, '4th': 4816, 'mitch': 4817, 'moe': 4818, 'bastard': 4819, 'compris': 4820, 'greet': 4821, 'corn': 4822, 'lavish': 4823, 'salman': 4824, 'lifeless': 4825, '1991': 4826, 'collector': 4827, 'energet': 4828, 'spawn': 4829, 'conrad': 4830, 'potter': 4831, 'sleaz': 4832, 'whack': 4833, 'toe': 4834, 'phenomen': 4835, 'monument': 4836, 'summar': 4837, 'deliver': 4838, 'snatch': 4839, 'btw': 4840, 'plate': 4841, 'boo': 4842, 'spine': 4843, 'cemeteri': 4844, 'uniformli': 4845, 'cuban': 4846, 'newer': 4847, 'chip': 4848, 'lighter': 4849, 'client': 4850, 'tara': 4851, 'bogu': 4852, '1994': 4853, 'einstein': 4854, 'senat': 4855, 'durat': 4856, 'breakdown': 4857, 'evolut': 4858, 'goldsworthi': 4859, 'outright': 4860, 'inaccuraci': 4861, '1974': 4862, 'trauma': 4863, 'neatli': 4864, 'firmli': 4865, 'bulk': 4866, 'clara': 4867, 'jule': 4868, 'appl': 4869, 'eleven': 4870, 'pronounc': 4871, 'alleg': 4872, 'creek': 4873, 'healthi': 4874, 'armstrong': 4875, 'jedi': 4876, 'randolph': 4877, 'wtf': 4878, 'gilliam': 4879, 'occup': 4880, 'spectacl': 4881, 'ie': 4882, 'evelyn': 4883, 'sorrow': 4884, 'replay': 4885, 'cecil': 4886, '1977': 4887, 'historian': 4888, 'belli': 4889, 'embark': 4890, 'nina': 4891, 'luxuri': 4892, 'constitut': 4893, 'mcqueen': 4894, 'fluid': 4895, 'kent': 4896, 'judd': 4897, 'lex': 4898, 'bori': 4899, 'undead': 4900, 'undertak': 4901, 'kazan': 4902, 'jare': 4903, 'ol': 4904, 'liu': 4905, 'jam': 4906, 'capot': 4907, 'signal': 4908, 'comb': 4909, 'goldblum': 4910, 'galaxi': 4911, 'spray': 4912, 'meal': 4913, 'relentless': 4914, 'paula': 4915, 'walt': 4916, 'unattract': 4917, 'pioneer': 4918, 'mum': 4919, 'lauren': 4920, 'curtain': 4921, 'knee': 4922, 'pepper': 4923, 'forgiven': 4924, 'inclus': 4925, 'basket': 4926, 'vain': 4927, 'aussi': 4928, 'abound': 4929, '1985': 4930, 'tokyo': 4931, 'genet': 4932, 'palm': 4933, 'porter': 4934, 'groan': 4935, 'sacrif': 4936, 'bsg': 4937, 'unsuspect': 4938, 'inaccur': 4939, 'miami': 4940, 'truman': 4941, 'conan': 4942, 'cape': 4943, 'comprehens': 4944, 'kiddi': 4945, 'blur': 4946, 'fruit': 4947, 'ash': 4948, 'roar': 4949, 'vignett': 4950, 'carmen': 4951, 'decapit': 4952, 'congratul': 4953, 'sidewalk': 4954, 'subtli': 4955, 'poker': 4956, 'miniseri': 4957, 'propheci': 4958, 'antonio': 4959, 'rosario': 4960, 'id': 4961, 'lanc': 4962, 'bait': 4963, 'handicap': 4964, 'substanti': 4965, 'omin': 4966, 'dubiou': 4967, 'modest': 4968, 'scariest': 4969, 'ghetto': 4970, 'playboy': 4971, 'turtl': 4972, 'rapidli': 4973, 'weari': 4974, 'incorrect': 4975, 'drone': 4976, 'weaker': 4977, 'optimist': 4978, 'spill': 4979, 'monti': 4980, 'assort': 4981, 'mice': 4982, 'profil': 4983, 'motorcycl': 4984, 'vastli': 4985, 'victorian': 4986, 'macabr': 4987, 'ingrid': 4988, '21st': 4989, 'frontal': 4990, 'orchestr': 4991, 'verg': 4992, 'sparkl': 4993, 'hostil': 4994, 'detach': 4995, 'reincarn': 4996, 'bravo': 4997, 'epitom': 4998, 'bach': 4999}\n"
     ]
    }
   ],
   "source": [
    "word_dict = build_dict(train_X)\n",
    "print(word_dict)"
   ]
  },
  {
   "cell_type": "markdown",
   "metadata": {},
   "source": [
    "**Question:** What are the five most frequently appearing (tokenized) words in the training set? Does it makes sense that these words appear frequently in the training set?"
   ]
  },
  {
   "cell_type": "markdown",
   "metadata": {},
   "source": [
    "**Answer:** 'movi', 'film', 'one','like', 'time'- they are not full words which is interesting."
   ]
  },
  {
   "cell_type": "code",
   "execution_count": 14,
   "metadata": {},
   "outputs": [
    {
     "name": "stdout",
     "output_type": "stream",
     "text": [
      "['movi', 'film', 'one', 'like', 'time']\n"
     ]
    }
   ],
   "source": [
    "# TODO: Use this space to determine the five most frequently appearing words in the training set.\n",
    "keylist= list(word_dict.keys())\n",
    "print(keylist[0:5])"
   ]
  },
  {
   "cell_type": "markdown",
   "metadata": {},
   "source": [
    "### Save `word_dict`\n",
    "\n",
    "Later on when we construct an endpoint which processes a submitted review we will need to make use of the `word_dict` which we have created. As such, we will save it to a file now for future use."
   ]
  },
  {
   "cell_type": "code",
   "execution_count": 15,
   "metadata": {},
   "outputs": [],
   "source": [
    "data_dir = '../data/pytorch' # The folder we will use for storing data\n",
    "if not os.path.exists(data_dir): # Make sure that the folder exists\n",
    "    os.makedirs(data_dir)"
   ]
  },
  {
   "cell_type": "code",
   "execution_count": 16,
   "metadata": {},
   "outputs": [],
   "source": [
    "with open(os.path.join(data_dir, 'word_dict.pkl'), \"wb\") as f:\n",
    "    pickle.dump(word_dict, f)"
   ]
  },
  {
   "cell_type": "markdown",
   "metadata": {},
   "source": [
    "### Transform the reviews\n",
    "\n",
    "Now that we have our word dictionary which allows us to transform the words appearing in the reviews into integers, it is time to make use of it and convert our reviews to their integer sequence representation, making sure to pad or truncate to a fixed length, which in our case is `500`."
   ]
  },
  {
   "cell_type": "code",
   "execution_count": 17,
   "metadata": {},
   "outputs": [],
   "source": [
    "def convert_and_pad(word_dict, sentence, pad=500):\n",
    "    NOWORD = 0 # We will use 0 to represent the 'no word' category\n",
    "    INFREQ = 1 # and we use 1 to represent the infrequent words, i.e., words not appearing in word_dict\n",
    "    \n",
    "    working_sentence = [NOWORD] * pad\n",
    "    \n",
    "    for word_index, word in enumerate(sentence[:pad]):\n",
    "        if word in word_dict:\n",
    "            working_sentence[word_index] = word_dict[word]\n",
    "        else:\n",
    "            working_sentence[word_index] = INFREQ\n",
    "            \n",
    "    return working_sentence, min(len(sentence), pad)\n",
    "\n",
    "def convert_and_pad_data(word_dict, data, pad=500):\n",
    "    result = []\n",
    "    lengths = []\n",
    "    \n",
    "    for sentence in data:\n",
    "        converted, leng = convert_and_pad(word_dict, sentence, pad)\n",
    "        result.append(converted)\n",
    "        lengths.append(leng)\n",
    "        \n",
    "    return np.array(result), np.array(lengths)"
   ]
  },
  {
   "cell_type": "code",
   "execution_count": 18,
   "metadata": {},
   "outputs": [],
   "source": [
    "train_X, train_X_len = convert_and_pad_data(word_dict, train_X)\n",
    "test_X, test_X_len = convert_and_pad_data(word_dict, test_X)"
   ]
  },
  {
   "cell_type": "markdown",
   "metadata": {},
   "source": [
    "As a quick check to make sure that things are working as intended, check to see what one of the reviews in the training set looks like after having been processeed. Does this look reasonable? What is the length of a review in the training set?"
   ]
  },
  {
   "cell_type": "code",
   "execution_count": 19,
   "metadata": {},
   "outputs": [
    {
     "name": "stdout",
     "output_type": "stream",
     "text": [
      "[[ 181   80  460 ...    0    0    0]\n",
      " [ 161   53  505 ...    0    0    0]\n",
      " [  36  173  164 ...    0    0    0]\n",
      " ...\n",
      " [   1 1183 2707 ...    0    0    0]\n",
      " [ 209 2288 1642 ...    0    0    0]\n",
      " [1716    1   11 ...    0    0    0]]\n"
     ]
    }
   ],
   "source": [
    "# Use this cell to examine one of the processed reviews to make sure everything is working as intended.\n",
    "print(train_X)"
   ]
  },
  {
   "cell_type": "markdown",
   "metadata": {},
   "source": [
    "**Question:** In the cells above we use the `preprocess_data` and `convert_and_pad_data` methods to process both the training and testing set. Why or why not might this be a problem?"
   ]
  },
  {
   "cell_type": "markdown",
   "metadata": {},
   "source": [
    "**Answer:** Preprocess_data helps us to clean and prepare the data for the model. The convert_and_pad_data function allows us convert the output to a uniform standard size which can be passed to the next step. If there is an issue with the preparation technique then this will be passed on to the test and the training data. However in doing so , both will be affected equaly meaning if there was any systematic error it would be shared by both."
   ]
  },
  {
   "cell_type": "markdown",
   "metadata": {},
   "source": [
    "## Step 3: Upload the data to S3\n",
    "\n",
    "As in the XGBoost notebook, we will need to upload the training dataset to S3 in order for our training code to access it. For now we will save it locally and we will upload to S3 later on.\n",
    "\n",
    "### Save the processed training dataset locally\n",
    "\n",
    "It is important to note the format of the data that we are saving as we will need to know it when we write the training code. In our case, each row of the dataset has the form `label`, `length`, `review[500]` where `review[500]` is a sequence of `500` integers representing the words in the review."
   ]
  },
  {
   "cell_type": "code",
   "execution_count": 20,
   "metadata": {},
   "outputs": [],
   "source": [
    "import pandas as pd\n",
    "    \n",
    "pd.concat([pd.DataFrame(train_y), pd.DataFrame(train_X_len), pd.DataFrame(train_X)], axis=1) \\\n",
    "        .to_csv(os.path.join(data_dir, 'train.csv'), header=False, index=False)"
   ]
  },
  {
   "cell_type": "markdown",
   "metadata": {},
   "source": [
    "### Uploading the training data\n",
    "\n",
    "\n",
    "Next, we need to upload the training data to the SageMaker default S3 bucket so that we can provide access to it while training our model."
   ]
  },
  {
   "cell_type": "code",
   "execution_count": 21,
   "metadata": {},
   "outputs": [],
   "source": [
    "import sagemaker\n",
    "\n",
    "sagemaker_session = sagemaker.Session()\n",
    "\n",
    "bucket = sagemaker_session.default_bucket()\n",
    "prefix = 'sagemaker/sentiment_rnn'\n",
    "\n",
    "role = sagemaker.get_execution_role()"
   ]
  },
  {
   "cell_type": "code",
   "execution_count": 22,
   "metadata": {},
   "outputs": [],
   "source": [
    "input_data = sagemaker_session.upload_data(path=data_dir, bucket=bucket, key_prefix=prefix)"
   ]
  },
  {
   "cell_type": "markdown",
   "metadata": {},
   "source": [
    "**NOTE:** The cell above uploads the entire contents of our data directory. This includes the `word_dict.pkl` file. This is fortunate as we will need this later on when we create an endpoint that accepts an arbitrary review. For now, we will just take note of the fact that it resides in the data directory (and so also in the S3 training bucket) and that we will need to make sure it gets saved in the model directory."
   ]
  },
  {
   "cell_type": "markdown",
   "metadata": {},
   "source": [
    "## Step 4: Build and Train the PyTorch Model\n",
    "\n",
    "In the XGBoost notebook we discussed what a model is in the SageMaker framework. In particular, a model comprises three objects\n",
    "\n",
    " - Model Artifacts,\n",
    " - Training Code, and\n",
    " - Inference Code,\n",
    " \n",
    "each of which interact with one another. In the XGBoost example we used training and inference code that was provided by Amazon. Here we will still be using containers provided by Amazon with the added benefit of being able to include our own custom code.\n",
    "\n",
    "We will start by implementing our own neural network in PyTorch along with a training script. For the purposes of this project we have provided the necessary model object in the `model.py` file, inside of the `train` folder. You can see the provided implementation by running the cell below."
   ]
  },
  {
   "cell_type": "code",
   "execution_count": 23,
   "metadata": {},
   "outputs": [
    {
     "name": "stdout",
     "output_type": "stream",
     "text": [
      "\u001b[34mimport\u001b[39;49;00m \u001b[04m\u001b[36mtorch.nn\u001b[39;49;00m \u001b[34mas\u001b[39;49;00m \u001b[04m\u001b[36mnn\u001b[39;49;00m\r\n",
      "\r\n",
      "\u001b[34mclass\u001b[39;49;00m \u001b[04m\u001b[32mLSTMClassifier\u001b[39;49;00m(nn.Module):\r\n",
      "    \u001b[33m\"\"\"\u001b[39;49;00m\r\n",
      "\u001b[33m    This is the simple RNN model we will be using to perform Sentiment Analysis.\u001b[39;49;00m\r\n",
      "\u001b[33m    \"\"\"\u001b[39;49;00m\r\n",
      "\r\n",
      "    \u001b[34mdef\u001b[39;49;00m \u001b[32m__init__\u001b[39;49;00m(\u001b[36mself\u001b[39;49;00m, embedding_dim, hidden_dim, vocab_size):\r\n",
      "        \u001b[33m\"\"\"\u001b[39;49;00m\r\n",
      "\u001b[33m        Initialize the model by settingg up the various layers.\u001b[39;49;00m\r\n",
      "\u001b[33m        \"\"\"\u001b[39;49;00m\r\n",
      "        \u001b[36msuper\u001b[39;49;00m(LSTMClassifier, \u001b[36mself\u001b[39;49;00m).\u001b[32m__init__\u001b[39;49;00m()\r\n",
      "\r\n",
      "        \u001b[36mself\u001b[39;49;00m.embedding = nn.Embedding(vocab_size, embedding_dim, padding_idx=\u001b[34m0\u001b[39;49;00m)\r\n",
      "        \u001b[36mself\u001b[39;49;00m.lstm = nn.LSTM(embedding_dim, hidden_dim)\r\n",
      "        \u001b[36mself\u001b[39;49;00m.dense = nn.Linear(in_features=hidden_dim, out_features=\u001b[34m1\u001b[39;49;00m)\r\n",
      "        \u001b[36mself\u001b[39;49;00m.sig = nn.Sigmoid()\r\n",
      "        \r\n",
      "        \u001b[36mself\u001b[39;49;00m.word_dict = \u001b[36mNone\u001b[39;49;00m\r\n",
      "\r\n",
      "    \u001b[34mdef\u001b[39;49;00m \u001b[32mforward\u001b[39;49;00m(\u001b[36mself\u001b[39;49;00m, x):\r\n",
      "        \u001b[33m\"\"\"\u001b[39;49;00m\r\n",
      "\u001b[33m        Perform a forward pass of our model on some input.\u001b[39;49;00m\r\n",
      "\u001b[33m        \"\"\"\u001b[39;49;00m\r\n",
      "        x = x.t()\r\n",
      "        lengths = x[\u001b[34m0\u001b[39;49;00m,:]\r\n",
      "        reviews = x[\u001b[34m1\u001b[39;49;00m:,:]\r\n",
      "        embeds = \u001b[36mself\u001b[39;49;00m.embedding(reviews)\r\n",
      "        lstm_out, _ = \u001b[36mself\u001b[39;49;00m.lstm(embeds)\r\n",
      "        out = \u001b[36mself\u001b[39;49;00m.dense(lstm_out)\r\n",
      "        out = out[lengths - \u001b[34m1\u001b[39;49;00m, \u001b[36mrange\u001b[39;49;00m(\u001b[36mlen\u001b[39;49;00m(lengths))]\r\n",
      "        \u001b[34mreturn\u001b[39;49;00m \u001b[36mself\u001b[39;49;00m.sig(out.squeeze())\r\n"
     ]
    }
   ],
   "source": [
    "!pygmentize train/model.py"
   ]
  },
  {
   "cell_type": "markdown",
   "metadata": {},
   "source": [
    "The important takeaway from the implementation provided is that there are three parameters that we may wish to tweak to improve the performance of our model. These are the embedding dimension, the hidden dimension and the size of the vocabulary. We will likely want to make these parameters configurable in the training script so that if we wish to modify them we do not need to modify the script itself. We will see how to do this later on. To start we will write some of the training code in the notebook so that we can more easily diagnose any issues that arise.\n",
    "\n",
    "First we will load a small portion of the training data set to use as a sample. It would be very time consuming to try and train the model completely in the notebook as we do not have access to a gpu and the compute instance that we are using is not particularly powerful. However, we can work on a small bit of the data to get a feel for how our training script is behaving."
   ]
  },
  {
   "cell_type": "code",
   "execution_count": 24,
   "metadata": {},
   "outputs": [],
   "source": [
    "import torch\n",
    "import torch.utils.data\n",
    "\n",
    "# Read in only the first 250 rows\n",
    "train_sample = pd.read_csv(os.path.join(data_dir, 'train.csv'), header=None, names=None, nrows=250)\n",
    "\n",
    "# Turn the input pandas dataframe into tensors\n",
    "train_sample_y = torch.from_numpy(train_sample[[0]].values).float().squeeze()\n",
    "train_sample_X = torch.from_numpy(train_sample.drop([0], axis=1).values).long()\n",
    "\n",
    "# Build the dataset\n",
    "train_sample_ds = torch.utils.data.TensorDataset(train_sample_X, train_sample_y)\n",
    "# Build the dataloader\n",
    "train_sample_dl = torch.utils.data.DataLoader(train_sample_ds, batch_size=50)"
   ]
  },
  {
   "cell_type": "markdown",
   "metadata": {},
   "source": [
    "### (TODO) Writing the training method\n",
    "\n",
    "Next we need to write the training code itself. This should be very similar to training methods that you have written before to train PyTorch models. We will leave any difficult aspects such as model saving / loading and parameter loading until a little later."
   ]
  },
  {
   "cell_type": "code",
   "execution_count": 25,
   "metadata": {},
   "outputs": [],
   "source": [
    "def train(model, train_loader, epochs, optimizer, loss_fn, device):\n",
    "    for epoch in range(1, epochs + 1):\n",
    "        model.train()\n",
    "        total_loss = 0\n",
    "        for batch in train_loader:         \n",
    "            batch_X, batch_y = batch\n",
    "            \n",
    "            batch_X = batch_X.to(device)\n",
    "            batch_y = batch_y.to(device)\n",
    "            \n",
    "            # TODO: Complete this train method to train the model provided.\n",
    "            \n",
    "            # model.zero_grad()\n",
    "            optimizer.zero_grad()\n",
    "            output = model(batch_X)\n",
    "            loss = loss_fn(output, batch_y)\n",
    "            loss.backward()\n",
    "            optimizer.step()\n",
    "            \n",
    "            total_loss += loss.data.item()\n",
    "        print(\"Epoch: {}, BCELoss: {}\".format(epoch, total_loss / len(train_loader)))"
   ]
  },
  {
   "cell_type": "markdown",
   "metadata": {},
   "source": [
    "Supposing we have the training method above, we will test that it is working by writing a bit of code in the notebook that executes our training method on the small sample training set that we loaded earlier. The reason for doing this in the notebook is so that we have an opportunity to fix any errors that arise early when they are easier to diagnose."
   ]
  },
  {
   "cell_type": "code",
   "execution_count": 26,
   "metadata": {},
   "outputs": [
    {
     "name": "stdout",
     "output_type": "stream",
     "text": [
      "Epoch: 1, BCELoss: 0.6927541136741638\n",
      "Epoch: 2, BCELoss: 0.6838156938552856\n",
      "Epoch: 3, BCELoss: 0.6762415170669556\n",
      "Epoch: 4, BCELoss: 0.6676650285720825\n",
      "Epoch: 5, BCELoss: 0.6569079518318176\n"
     ]
    }
   ],
   "source": [
    "import torch.optim as optim\n",
    "from train.model import LSTMClassifier\n",
    "\n",
    "device = torch.device(\"cuda\" if torch.cuda.is_available() else \"cpu\")\n",
    "model = LSTMClassifier(32, 100, 5000).to(device)\n",
    "optimizer = optim.Adam(model.parameters())\n",
    "loss_fn = torch.nn.BCELoss()\n",
    "\n",
    "train(model, train_sample_dl, 5, optimizer, loss_fn, device)"
   ]
  },
  {
   "cell_type": "markdown",
   "metadata": {},
   "source": [
    "In order to construct a PyTorch model using SageMaker we must provide SageMaker with a training script. We may optionally include a directory which will be copied to the container and from which our training code will be run. When the training container is executed it will check the uploaded directory (if there is one) for a `requirements.txt` file and install any required Python libraries, after which the training script will be run."
   ]
  },
  {
   "cell_type": "markdown",
   "metadata": {},
   "source": [
    "### (TODO) Training the model\n",
    "\n",
    "When a PyTorch model is constructed in SageMaker, an entry point must be specified. This is the Python file which will be executed when the model is trained. Inside of the `train` directory is a file called `train.py` which has been provided and which contains most of the necessary code to train our model. The only thing that is missing is the implementation of the `train()` method which you wrote earlier in this notebook.\n",
    "\n",
    "**TODO**: Copy the `train()` method written above and paste it into the `train/train.py` file where required.\n",
    "\n",
    "The way that SageMaker passes hyperparameters to the training script is by way of arguments. These arguments can then be parsed and used in the training script. To see how this is done take a look at the provided `train/train.py` file."
   ]
  },
  {
   "cell_type": "code",
   "execution_count": 27,
   "metadata": {},
   "outputs": [],
   "source": [
    "from sagemaker.pytorch import PyTorch\n",
    "\n",
    "estimator = PyTorch(entry_point=\"train.py\",\n",
    "                    source_dir=\"train\",\n",
    "                    role=role,\n",
    "                    framework_version='0.4.0',\n",
    "                    train_instance_count=1,\n",
    "                    train_instance_type='ml.p2.xlarge',\n",
    "                    hyperparameters={\n",
    "                        'epochs': 10,\n",
    "                        'hidden_dim': 200,\n",
    "                    })"
   ]
  },
  {
   "cell_type": "code",
   "execution_count": 28,
   "metadata": {},
   "outputs": [
    {
     "name": "stdout",
     "output_type": "stream",
     "text": [
      "2020-04-14 19:58:32 Starting - Starting the training job...\n",
      "2020-04-14 19:58:34 Starting - Launching requested ML instances...\n",
      "2020-04-14 19:59:32 Starting - Preparing the instances for training.........\n",
      "2020-04-14 20:00:34 Downloading - Downloading input data...\n",
      "2020-04-14 20:01:13 Training - Downloading the training image...\n",
      "2020-04-14 20:01:55 Training - Training image download completed. Training in progress.\u001b[34mbash: cannot set terminal process group (-1): Inappropriate ioctl for device\u001b[0m\n",
      "\u001b[34mbash: no job control in this shell\u001b[0m\n",
      "\u001b[34m2020-04-14 20:01:56,422 sagemaker-containers INFO     Imported framework sagemaker_pytorch_container.training\u001b[0m\n",
      "\u001b[34m2020-04-14 20:01:56,449 sagemaker_pytorch_container.training INFO     Block until all host DNS lookups succeed.\u001b[0m\n",
      "\u001b[34m2020-04-14 20:01:59,485 sagemaker_pytorch_container.training INFO     Invoking user training script.\u001b[0m\n",
      "\u001b[34m2020-04-14 20:01:59,780 sagemaker-containers INFO     Module train does not provide a setup.py. \u001b[0m\n",
      "\u001b[34mGenerating setup.py\u001b[0m\n",
      "\u001b[34m2020-04-14 20:01:59,780 sagemaker-containers INFO     Generating setup.cfg\u001b[0m\n",
      "\u001b[34m2020-04-14 20:01:59,780 sagemaker-containers INFO     Generating MANIFEST.in\u001b[0m\n",
      "\u001b[34m2020-04-14 20:01:59,781 sagemaker-containers INFO     Installing module with the following command:\u001b[0m\n",
      "\u001b[34m/usr/bin/python -m pip install -U . -r requirements.txt\u001b[0m\n",
      "\u001b[34mProcessing /opt/ml/code\u001b[0m\n",
      "\u001b[34mCollecting pandas (from -r requirements.txt (line 1))\u001b[0m\n",
      "\u001b[34m  Downloading https://files.pythonhosted.org/packages/74/24/0cdbf8907e1e3bc5a8da03345c23cbed7044330bb8f73bb12e711a640a00/pandas-0.24.2-cp35-cp35m-manylinux1_x86_64.whl (10.0MB)\u001b[0m\n",
      "\u001b[34mCollecting numpy (from -r requirements.txt (line 2))\n",
      "  Downloading https://files.pythonhosted.org/packages/ff/18/c0b937e2f84095ae230196899e56d1d7d76c8e8424fb235ed7e5bb6d68af/numpy-1.18.2-cp35-cp35m-manylinux1_x86_64.whl (20.0MB)\u001b[0m\n",
      "\u001b[34mCollecting nltk (from -r requirements.txt (line 3))\n",
      "  Downloading https://files.pythonhosted.org/packages/92/75/ce35194d8e3022203cca0d2f896dbb88689f9b3fce8e9f9cff942913519d/nltk-3.5.zip (1.4MB)\u001b[0m\n",
      "\u001b[34mCollecting beautifulsoup4 (from -r requirements.txt (line 4))\n",
      "  Downloading https://files.pythonhosted.org/packages/e8/b5/7bb03a696f2c9b7af792a8f51b82974e51c268f15e925fc834876a4efa0b/beautifulsoup4-4.9.0-py3-none-any.whl (109kB)\u001b[0m\n",
      "\u001b[34mCollecting html5lib (from -r requirements.txt (line 5))\n",
      "  Downloading https://files.pythonhosted.org/packages/a5/62/bbd2be0e7943ec8504b517e62bab011b4946e1258842bc159e5dfde15b96/html5lib-1.0.1-py2.py3-none-any.whl (117kB)\u001b[0m\n",
      "\u001b[34mRequirement already satisfied, skipping upgrade: python-dateutil>=2.5.0 in /usr/local/lib/python3.5/dist-packages (from pandas->-r requirements.txt (line 1)) (2.7.5)\u001b[0m\n",
      "\u001b[34mCollecting pytz>=2011k (from pandas->-r requirements.txt (line 1))\n",
      "  Downloading https://files.pythonhosted.org/packages/e7/f9/f0b53f88060247251bf481fa6ea62cd0d25bf1b11a87888e53ce5b7c8ad2/pytz-2019.3-py2.py3-none-any.whl (509kB)\u001b[0m\n",
      "\u001b[34mRequirement already satisfied, skipping upgrade: click in /usr/local/lib/python3.5/dist-packages (from nltk->-r requirements.txt (line 3)) (7.0)\u001b[0m\n",
      "\u001b[34mCollecting joblib (from nltk->-r requirements.txt (line 3))\n",
      "  Downloading https://files.pythonhosted.org/packages/28/5c/cf6a2b65a321c4a209efcdf64c2689efae2cb62661f8f6f4bb28547cf1bf/joblib-0.14.1-py2.py3-none-any.whl (294kB)\u001b[0m\n",
      "\u001b[34mCollecting regex (from nltk->-r requirements.txt (line 3))\n",
      "  Downloading https://files.pythonhosted.org/packages/4c/e7/eee73c42c1193fecc0e91361a163cbb8dfbea62c3db7618ad986e5b43a14/regex-2020.4.4.tar.gz (695kB)\u001b[0m\n",
      "\u001b[34mCollecting tqdm (from nltk->-r requirements.txt (line 3))\n",
      "  Downloading https://files.pythonhosted.org/packages/4a/1c/6359be64e8301b84160f6f6f7936bbfaaa5e9a4eab6cbc681db07600b949/tqdm-4.45.0-py2.py3-none-any.whl (60kB)\u001b[0m\n",
      "\u001b[34mCollecting soupsieve>1.2 (from beautifulsoup4->-r requirements.txt (line 4))\n",
      "  Downloading https://files.pythonhosted.org/packages/05/cf/ea245e52f55823f19992447b008bcbb7f78efc5960d77f6c34b5b45b36dd/soupsieve-2.0-py2.py3-none-any.whl\u001b[0m\n",
      "\u001b[34mRequirement already satisfied, skipping upgrade: six>=1.9 in /usr/local/lib/python3.5/dist-packages (from html5lib->-r requirements.txt (line 5)) (1.11.0)\u001b[0m\n",
      "\u001b[34mCollecting webencodings (from html5lib->-r requirements.txt (line 5))\n",
      "  Downloading https://files.pythonhosted.org/packages/f4/24/2a3e3df732393fed8b3ebf2ec078f05546de641fe1b667ee316ec1dcf3b7/webencodings-0.5.1-py2.py3-none-any.whl\u001b[0m\n",
      "\u001b[34mBuilding wheels for collected packages: nltk, train, regex\n",
      "  Running setup.py bdist_wheel for nltk: started\u001b[0m\n",
      "\u001b[34m  Running setup.py bdist_wheel for nltk: finished with status 'done'\n",
      "  Stored in directory: /root/.cache/pip/wheels/ae/8c/3f/b1fe0ba04555b08b57ab52ab7f86023639a526d8bc8d384306\n",
      "  Running setup.py bdist_wheel for train: started\n",
      "  Running setup.py bdist_wheel for train: finished with status 'done'\n",
      "  Stored in directory: /tmp/pip-ephem-wheel-cache-avllh013/wheels/35/24/16/37574d11bf9bde50616c67372a334f94fa8356bc7164af8ca3\n",
      "  Running setup.py bdist_wheel for regex: started\u001b[0m\n",
      "\u001b[34m  Running setup.py bdist_wheel for regex: finished with status 'done'\n",
      "  Stored in directory: /root/.cache/pip/wheels/e6/9b/ae/2972da29cc7759b71dee015813b7c6931917d6a51e64ed5e79\u001b[0m\n",
      "\u001b[34mSuccessfully built nltk train regex\u001b[0m\n",
      "\u001b[34mInstalling collected packages: pytz, numpy, pandas, joblib, regex, tqdm, nltk, soupsieve, beautifulsoup4, webencodings, html5lib, train\n",
      "  Found existing installation: numpy 1.15.4\n",
      "    Uninstalling numpy-1.15.4:\u001b[0m\n",
      "\u001b[34m      Successfully uninstalled numpy-1.15.4\u001b[0m\n",
      "\u001b[34mSuccessfully installed beautifulsoup4-4.9.0 html5lib-1.0.1 joblib-0.14.1 nltk-3.5 numpy-1.18.2 pandas-0.24.2 pytz-2019.3 regex-2020.4.4 soupsieve-2.0 tqdm-4.45.0 train-1.0.0 webencodings-0.5.1\u001b[0m\n",
      "\u001b[34mYou are using pip version 18.1, however version 20.0.2 is available.\u001b[0m\n",
      "\u001b[34mYou should consider upgrading via the 'pip install --upgrade pip' command.\u001b[0m\n",
      "\u001b[34m2020-04-14 20:02:22,996 sagemaker-containers INFO     Invoking user script\n",
      "\u001b[0m\n",
      "\u001b[34mTraining Env:\n",
      "\u001b[0m\n",
      "\u001b[34m{\n",
      "    \"output_dir\": \"/opt/ml/output\",\n",
      "    \"num_cpus\": 4,\n",
      "    \"hosts\": [\n",
      "        \"algo-1\"\n",
      "    ],\n",
      "    \"current_host\": \"algo-1\",\n",
      "    \"additional_framework_parameters\": {},\n",
      "    \"framework_module\": \"sagemaker_pytorch_container.training:main\",\n",
      "    \"model_dir\": \"/opt/ml/model\",\n",
      "    \"module_name\": \"train\",\n",
      "    \"channel_input_dirs\": {\n",
      "        \"training\": \"/opt/ml/input/data/training\"\n",
      "    },\n",
      "    \"num_gpus\": 1,\n",
      "    \"module_dir\": \"s3://sagemaker-eu-west-1-386544671958/sagemaker-pytorch-2020-04-14-19-58-32-288/source/sourcedir.tar.gz\",\n",
      "    \"job_name\": \"sagemaker-pytorch-2020-04-14-19-58-32-288\",\n",
      "    \"input_config_dir\": \"/opt/ml/input/config\",\n",
      "    \"input_data_config\": {\n",
      "        \"training\": {\n",
      "            \"RecordWrapperType\": \"None\",\n",
      "            \"S3DistributionType\": \"FullyReplicated\",\n",
      "            \"TrainingInputMode\": \"File\"\n",
      "        }\n",
      "    },\n",
      "    \"log_level\": 20,\n",
      "    \"output_intermediate_dir\": \"/opt/ml/output/intermediate\",\n",
      "    \"resource_config\": {\n",
      "        \"network_interface_name\": \"eth0\",\n",
      "        \"current_host\": \"algo-1\",\n",
      "        \"hosts\": [\n",
      "            \"algo-1\"\n",
      "        ]\n",
      "    },\n",
      "    \"user_entry_point\": \"train.py\",\n",
      "    \"hyperparameters\": {\n",
      "        \"epochs\": 10,\n",
      "        \"hidden_dim\": 200\n",
      "    },\n",
      "    \"output_data_dir\": \"/opt/ml/output/data\",\n",
      "    \"input_dir\": \"/opt/ml/input\",\n",
      "    \"network_interface_name\": \"eth0\"\u001b[0m\n",
      "\u001b[34m}\n",
      "\u001b[0m\n",
      "\u001b[34mEnvironment variables:\n",
      "\u001b[0m\n",
      "\u001b[34mSM_MODULE_NAME=train\u001b[0m\n",
      "\u001b[34mPYTHONPATH=/usr/local/bin:/usr/lib/python35.zip:/usr/lib/python3.5:/usr/lib/python3.5/plat-x86_64-linux-gnu:/usr/lib/python3.5/lib-dynload:/usr/local/lib/python3.5/dist-packages:/usr/lib/python3/dist-packages\u001b[0m\n",
      "\u001b[34mSM_TRAINING_ENV={\"additional_framework_parameters\":{},\"channel_input_dirs\":{\"training\":\"/opt/ml/input/data/training\"},\"current_host\":\"algo-1\",\"framework_module\":\"sagemaker_pytorch_container.training:main\",\"hosts\":[\"algo-1\"],\"hyperparameters\":{\"epochs\":10,\"hidden_dim\":200},\"input_config_dir\":\"/opt/ml/input/config\",\"input_data_config\":{\"training\":{\"RecordWrapperType\":\"None\",\"S3DistributionType\":\"FullyReplicated\",\"TrainingInputMode\":\"File\"}},\"input_dir\":\"/opt/ml/input\",\"job_name\":\"sagemaker-pytorch-2020-04-14-19-58-32-288\",\"log_level\":20,\"model_dir\":\"/opt/ml/model\",\"module_dir\":\"s3://sagemaker-eu-west-1-386544671958/sagemaker-pytorch-2020-04-14-19-58-32-288/source/sourcedir.tar.gz\",\"module_name\":\"train\",\"network_interface_name\":\"eth0\",\"num_cpus\":4,\"num_gpus\":1,\"output_data_dir\":\"/opt/ml/output/data\",\"output_dir\":\"/opt/ml/output\",\"output_intermediate_dir\":\"/opt/ml/output/intermediate\",\"resource_config\":{\"current_host\":\"algo-1\",\"hosts\":[\"algo-1\"],\"network_interface_name\":\"eth0\"},\"user_entry_point\":\"train.py\"}\u001b[0m\n",
      "\u001b[34mSM_LOG_LEVEL=20\u001b[0m\n",
      "\u001b[34mSM_INPUT_DATA_CONFIG={\"training\":{\"RecordWrapperType\":\"None\",\"S3DistributionType\":\"FullyReplicated\",\"TrainingInputMode\":\"File\"}}\u001b[0m\n",
      "\u001b[34mSM_USER_ARGS=[\"--epochs\",\"10\",\"--hidden_dim\",\"200\"]\u001b[0m\n",
      "\u001b[34mSM_USER_ENTRY_POINT=train.py\u001b[0m\n",
      "\u001b[34mSM_OUTPUT_INTERMEDIATE_DIR=/opt/ml/output/intermediate\u001b[0m\n",
      "\u001b[34mSM_MODEL_DIR=/opt/ml/model\u001b[0m\n",
      "\u001b[34mSM_NETWORK_INTERFACE_NAME=eth0\u001b[0m\n",
      "\u001b[34mSM_CURRENT_HOST=algo-1\u001b[0m\n",
      "\u001b[34mSM_CHANNEL_TRAINING=/opt/ml/input/data/training\u001b[0m\n",
      "\u001b[34mSM_INPUT_CONFIG_DIR=/opt/ml/input/config\u001b[0m\n",
      "\u001b[34mSM_FRAMEWORK_MODULE=sagemaker_pytorch_container.training:main\u001b[0m\n",
      "\u001b[34mSM_HPS={\"epochs\":10,\"hidden_dim\":200}\u001b[0m\n",
      "\u001b[34mSM_NUM_GPUS=1\u001b[0m\n",
      "\u001b[34mSM_HP_HIDDEN_DIM=200\u001b[0m\n",
      "\u001b[34mSM_NUM_CPUS=4\u001b[0m\n",
      "\u001b[34mSM_RESOURCE_CONFIG={\"current_host\":\"algo-1\",\"hosts\":[\"algo-1\"],\"network_interface_name\":\"eth0\"}\u001b[0m\n",
      "\u001b[34mSM_HP_EPOCHS=10\u001b[0m\n",
      "\u001b[34mSM_OUTPUT_DATA_DIR=/opt/ml/output/data\u001b[0m\n",
      "\u001b[34mSM_HOSTS=[\"algo-1\"]\u001b[0m\n",
      "\u001b[34mSM_FRAMEWORK_PARAMS={}\u001b[0m\n",
      "\u001b[34mSM_INPUT_DIR=/opt/ml/input\u001b[0m\n",
      "\u001b[34mSM_OUTPUT_DIR=/opt/ml/output\u001b[0m\n",
      "\u001b[34mSM_CHANNELS=[\"training\"]\u001b[0m\n",
      "\u001b[34mSM_MODULE_DIR=s3://sagemaker-eu-west-1-386544671958/sagemaker-pytorch-2020-04-14-19-58-32-288/source/sourcedir.tar.gz\n",
      "\u001b[0m\n",
      "\u001b[34mInvoking script with the following command:\n",
      "\u001b[0m\n",
      "\u001b[34m/usr/bin/python -m train --epochs 10 --hidden_dim 200\n",
      "\n",
      "\u001b[0m\n",
      "\u001b[34mUsing device cuda.\u001b[0m\n",
      "\u001b[34mGet train data loader.\u001b[0m\n"
     ]
    },
    {
     "name": "stdout",
     "output_type": "stream",
     "text": [
      "\u001b[34mModel loaded with embedding_dim 32, hidden_dim 200, vocab_size 5000.\u001b[0m\n",
      "\u001b[34mEpoch: 1, BCELoss: 0.675913140481832\u001b[0m\n",
      "\u001b[34mEpoch: 2, BCELoss: 0.625956114457578\u001b[0m\n",
      "\u001b[34mEpoch: 3, BCELoss: 0.5585513650154581\u001b[0m\n",
      "\u001b[34mEpoch: 4, BCELoss: 0.4704475354175178\u001b[0m\n",
      "\u001b[34mEpoch: 5, BCELoss: 0.40635582743858806\u001b[0m\n",
      "\u001b[34mEpoch: 6, BCELoss: 0.3647628256252834\u001b[0m\n",
      "\u001b[34mEpoch: 7, BCELoss: 0.33124489686927017\u001b[0m\n",
      "\u001b[34mEpoch: 8, BCELoss: 0.31607967736769693\u001b[0m\n",
      "\u001b[34mEpoch: 9, BCELoss: 0.29824968837961857\u001b[0m\n",
      "\n",
      "2020-04-14 20:05:35 Uploading - Uploading generated training model\n",
      "2020-04-14 20:05:35 Completed - Training job completed\n",
      "\u001b[34mEpoch: 10, BCELoss: 0.29047343226111666\u001b[0m\n",
      "\u001b[34m2020-04-14 20:05:25,890 sagemaker-containers INFO     Reporting training SUCCESS\u001b[0m\n",
      "Training seconds: 301\n",
      "Billable seconds: 301\n"
     ]
    }
   ],
   "source": [
    "estimator.fit({'training': input_data})"
   ]
  },
  {
   "cell_type": "markdown",
   "metadata": {},
   "source": [
    "## Step 5: Testing the model\n",
    "\n",
    "As mentioned at the top of this notebook, we will be testing this model by first deploying it and then sending the testing data to the deployed endpoint. We will do this so that we can make sure that the deployed model is working correctly.\n",
    "\n",
    "## Step 6: Deploy the model for testing\n",
    "\n",
    "Now that we have trained our model, we would like to test it to see how it performs. Currently our model takes input of the form `review_length, review[500]` where `review[500]` is a sequence of `500` integers which describe the words present in the review, encoded using `word_dict`. Fortunately for us, SageMaker provides built-in inference code for models with simple inputs such as this.\n",
    "\n",
    "There is one thing that we need to provide, however, and that is a function which loads the saved model. This function must be called `model_fn()` and takes as its only parameter a path to the directory where the model artifacts are stored. This function must also be present in the python file which we specified as the entry point. In our case the model loading function has been provided and so no changes need to be made.\n",
    "\n",
    "**NOTE**: When the built-in inference code is run it must import the `model_fn()` method from the `train.py` file. This is why the training code is wrapped in a main guard ( ie, `if __name__ == '__main__':` )\n",
    "\n",
    "Since we don't need to change anything in the code that was uploaded during training, we can simply deploy the current model as-is.\n",
    "\n",
    "**NOTE:** When deploying a model you are asking SageMaker to launch an compute instance that will wait for data to be sent to it. As a result, this compute instance will continue to run until *you* shut it down. This is important to know since the cost of a deployed endpoint depends on how long it has been running for.\n",
    "\n",
    "In other words **If you are no longer using a deployed endpoint, shut it down!**\n",
    "\n",
    "**TODO:** Deploy the trained model."
   ]
  },
  {
   "cell_type": "code",
   "execution_count": 29,
   "metadata": {},
   "outputs": [
    {
     "name": "stdout",
     "output_type": "stream",
     "text": [
      "-------------!"
     ]
    }
   ],
   "source": [
    "# TODO: Deploy the trained model\n",
    "predictor = estimator.deploy(initial_instance_count=1, instance_type='ml.m4.xlarge')"
   ]
  },
  {
   "cell_type": "markdown",
   "metadata": {},
   "source": [
    "## Step 7 - Use the model for testing\n",
    "\n",
    "Once deployed, we can read in the test data and send it off to our deployed model to get some results. Once we collect all of the results we can determine how accurate our model is."
   ]
  },
  {
   "cell_type": "code",
   "execution_count": 30,
   "metadata": {},
   "outputs": [],
   "source": [
    "test_X = pd.concat([pd.DataFrame(test_X_len), pd.DataFrame(test_X)], axis=1)"
   ]
  },
  {
   "cell_type": "code",
   "execution_count": 31,
   "metadata": {},
   "outputs": [],
   "source": [
    "# We split the data into chunks and send each chunk seperately, accumulating the results.\n",
    "\n",
    "def predict(data, rows=512):\n",
    "    split_array = np.array_split(data, int(data.shape[0] / float(rows) + 1))\n",
    "    predictions = np.array([])\n",
    "    for array in split_array:\n",
    "        predictions = np.append(predictions, predictor.predict(array))\n",
    "    \n",
    "    return predictions"
   ]
  },
  {
   "cell_type": "code",
   "execution_count": 32,
   "metadata": {},
   "outputs": [],
   "source": [
    "predictions = predict(test_X.values)\n",
    "predictions = [round(num) for num in predictions]"
   ]
  },
  {
   "cell_type": "code",
   "execution_count": 33,
   "metadata": {},
   "outputs": [
    {
     "data": {
      "text/plain": [
       "0.85512"
      ]
     },
     "execution_count": 33,
     "metadata": {},
     "output_type": "execute_result"
    }
   ],
   "source": [
    "from sklearn.metrics import accuracy_score\n",
    "accuracy_score(test_y, predictions)"
   ]
  },
  {
   "cell_type": "markdown",
   "metadata": {},
   "source": [
    "**Question:** How does this model compare to the XGBoost model you created earlier? Why might these two models perform differently on this dataset? Which do *you* think is better for sentiment analysis?"
   ]
  },
  {
   "cell_type": "markdown",
   "metadata": {},
   "source": [
    "**Answer:** The method used here works best for scrapping HTML data whereas XGBoost perhaps works better when you have more numerically based parameters "
   ]
  },
  {
   "cell_type": "markdown",
   "metadata": {},
   "source": [
    "### (TODO) More testing\n",
    "\n",
    "We now have a trained model which has been deployed and which we can send processed reviews to and which returns the predicted sentiment. However, ultimately we would like to be able to send our model an unprocessed review. That is, we would like to send the review itself as a string. For example, suppose we wish to send the following review to our model."
   ]
  },
  {
   "cell_type": "code",
   "execution_count": 34,
   "metadata": {},
   "outputs": [],
   "source": [
    "test_review = 'The simplest pleasures in life are the best, and this film is one of them. Combining a rather basic storyline of love and adventure this movie transcends the usual weekend fair with wit and unmitigated charm.'"
   ]
  },
  {
   "cell_type": "markdown",
   "metadata": {},
   "source": [
    "The question we now need to answer is, how do we send this review to our model?\n",
    "\n",
    "Recall in the first section of this notebook we did a bunch of data processing to the IMDb dataset. In particular, we did two specific things to the provided reviews.\n",
    " - Removed any html tags and stemmed the input\n",
    " - Encoded the review as a sequence of integers using `word_dict`\n",
    " \n",
    "In order process the review we will need to repeat these two steps.\n",
    "\n",
    "**TODO**: Using the `review_to_words` and `convert_and_pad` methods from section one, convert `test_review` into a numpy array `test_data` suitable to send to our model. Remember that our model expects input of the form `review_length, review[500]`."
   ]
  },
  {
   "cell_type": "code",
   "execution_count": 35,
   "metadata": {},
   "outputs": [],
   "source": [
    "# TODO: Convert test_review into a form usable by the model and save the results in test_data\n",
    "\n",
    "test_data = review_to_words(test_review)\n",
    "test_data = [np.array(convert_and_pad(word_dict, test_data)[0])]"
   ]
  },
  {
   "cell_type": "markdown",
   "metadata": {},
   "source": [
    "Now that we have processed the review, we can send the resulting array to our model to predict the sentiment of the review."
   ]
  },
  {
   "cell_type": "code",
   "execution_count": 36,
   "metadata": {},
   "outputs": [
    {
     "data": {
      "text/plain": [
       "array(0.5824255, dtype=float32)"
      ]
     },
     "execution_count": 36,
     "metadata": {},
     "output_type": "execute_result"
    }
   ],
   "source": [
    "predictor.predict(test_data)"
   ]
  },
  {
   "cell_type": "markdown",
   "metadata": {},
   "source": [
    "Since the return value of our model is close to `1`, we can be certain that the review we submitted is positive."
   ]
  },
  {
   "cell_type": "markdown",
   "metadata": {},
   "source": [
    "### Delete the endpoint\n",
    "\n",
    "Of course, just like in the XGBoost notebook, once we've deployed an endpoint it continues to run until we tell it to shut down. Since we are done using our endpoint for now, we can delete it."
   ]
  },
  {
   "cell_type": "code",
   "execution_count": 37,
   "metadata": {},
   "outputs": [],
   "source": [
    "estimator.delete_endpoint()"
   ]
  },
  {
   "cell_type": "markdown",
   "metadata": {},
   "source": [
    "## Step 6 (again) - Deploy the model for the web app\n",
    "\n",
    "Now that we know that our model is working, it's time to create some custom inference code so that we can send the model a review which has not been processed and have it determine the sentiment of the review.\n",
    "\n",
    "As we saw above, by default the estimator which we created, when deployed, will use the entry script and directory which we provided when creating the model. However, since we now wish to accept a string as input and our model expects a processed review, we need to write some custom inference code.\n",
    "\n",
    "We will store the code that we write in the `serve` directory. Provided in this directory is the `model.py` file that we used to construct our model, a `utils.py` file which contains the `review_to_words` and `convert_and_pad` pre-processing functions which we used during the initial data processing, and `predict.py`, the file which will contain our custom inference code. Note also that `requirements.txt` is present which will tell SageMaker what Python libraries are required by our custom inference code.\n",
    "\n",
    "When deploying a PyTorch model in SageMaker, you are expected to provide four functions which the SageMaker inference container will use.\n",
    " - `model_fn`: This function is the same function that we used in the training script and it tells SageMaker how to load our model.\n",
    " - `input_fn`: This function receives the raw serialized input that has been sent to the model's endpoint and its job is to de-serialize and make the input available for the inference code.\n",
    " - `output_fn`: This function takes the output of the inference code and its job is to serialize this output and return it to the caller of the model's endpoint.\n",
    " - `predict_fn`: The heart of the inference script, this is where the actual prediction is done and is the function which you will need to complete.\n",
    "\n",
    "For the simple website that we are constructing during this project, the `input_fn` and `output_fn` methods are relatively straightforward. We only require being able to accept a string as input and we expect to return a single value as output. You might imagine though that in a more complex application the input or output may be image data or some other binary data which would require some effort to serialize.\n",
    "\n",
    "### (TODO) Writing inference code\n",
    "\n",
    "Before writing our custom inference code, we will begin by taking a look at the code which has been provided."
   ]
  },
  {
   "cell_type": "code",
   "execution_count": 38,
   "metadata": {},
   "outputs": [
    {
     "name": "stdout",
     "output_type": "stream",
     "text": [
      "\u001b[34mimport\u001b[39;49;00m \u001b[04m\u001b[36margparse\u001b[39;49;00m\r\n",
      "\u001b[34mimport\u001b[39;49;00m \u001b[04m\u001b[36mjson\u001b[39;49;00m\r\n",
      "\u001b[34mimport\u001b[39;49;00m \u001b[04m\u001b[36mos\u001b[39;49;00m\r\n",
      "\u001b[34mimport\u001b[39;49;00m \u001b[04m\u001b[36mpickle\u001b[39;49;00m\r\n",
      "\u001b[34mimport\u001b[39;49;00m \u001b[04m\u001b[36msys\u001b[39;49;00m\r\n",
      "\u001b[34mimport\u001b[39;49;00m \u001b[04m\u001b[36msagemaker_containers\u001b[39;49;00m\r\n",
      "\u001b[34mimport\u001b[39;49;00m \u001b[04m\u001b[36mpandas\u001b[39;49;00m \u001b[34mas\u001b[39;49;00m \u001b[04m\u001b[36mpd\u001b[39;49;00m\r\n",
      "\u001b[34mimport\u001b[39;49;00m \u001b[04m\u001b[36mnumpy\u001b[39;49;00m \u001b[34mas\u001b[39;49;00m \u001b[04m\u001b[36mnp\u001b[39;49;00m\r\n",
      "\u001b[34mimport\u001b[39;49;00m \u001b[04m\u001b[36mtorch\u001b[39;49;00m\r\n",
      "\u001b[34mimport\u001b[39;49;00m \u001b[04m\u001b[36mtorch.nn\u001b[39;49;00m \u001b[34mas\u001b[39;49;00m \u001b[04m\u001b[36mnn\u001b[39;49;00m\r\n",
      "\u001b[34mimport\u001b[39;49;00m \u001b[04m\u001b[36mtorch.optim\u001b[39;49;00m \u001b[34mas\u001b[39;49;00m \u001b[04m\u001b[36moptim\u001b[39;49;00m\r\n",
      "\u001b[34mimport\u001b[39;49;00m \u001b[04m\u001b[36mtorch.utils.data\u001b[39;49;00m\r\n",
      "\r\n",
      "\u001b[34mfrom\u001b[39;49;00m \u001b[04m\u001b[36mmodel\u001b[39;49;00m \u001b[34mimport\u001b[39;49;00m LSTMClassifier\r\n",
      "\r\n",
      "\u001b[34mfrom\u001b[39;49;00m \u001b[04m\u001b[36mutils\u001b[39;49;00m \u001b[34mimport\u001b[39;49;00m review_to_words, convert_and_pad\r\n",
      "\r\n",
      "\u001b[34mdef\u001b[39;49;00m \u001b[32mmodel_fn\u001b[39;49;00m(model_dir):\r\n",
      "    \u001b[33m\"\"\"Load the PyTorch model from the `model_dir` directory.\"\"\"\u001b[39;49;00m\r\n",
      "    \u001b[34mprint\u001b[39;49;00m(\u001b[33m\"\u001b[39;49;00m\u001b[33mLoading model.\u001b[39;49;00m\u001b[33m\"\u001b[39;49;00m)\r\n",
      "\r\n",
      "    \u001b[37m# First, load the parameters used to create the model.\u001b[39;49;00m\r\n",
      "    model_info = {}\r\n",
      "    model_info_path = os.path.join(model_dir, \u001b[33m'\u001b[39;49;00m\u001b[33mmodel_info.pth\u001b[39;49;00m\u001b[33m'\u001b[39;49;00m)\r\n",
      "    \u001b[34mwith\u001b[39;49;00m \u001b[36mopen\u001b[39;49;00m(model_info_path, \u001b[33m'\u001b[39;49;00m\u001b[33mrb\u001b[39;49;00m\u001b[33m'\u001b[39;49;00m) \u001b[34mas\u001b[39;49;00m f:\r\n",
      "        model_info = torch.load(f)\r\n",
      "\r\n",
      "    \u001b[34mprint\u001b[39;49;00m(\u001b[33m\"\u001b[39;49;00m\u001b[33mmodel_info: {}\u001b[39;49;00m\u001b[33m\"\u001b[39;49;00m.format(model_info))\r\n",
      "\r\n",
      "    \u001b[37m# Determine the device and construct the model.\u001b[39;49;00m\r\n",
      "    device = torch.device(\u001b[33m\"\u001b[39;49;00m\u001b[33mcuda\u001b[39;49;00m\u001b[33m\"\u001b[39;49;00m \u001b[34mif\u001b[39;49;00m torch.cuda.is_available() \u001b[34melse\u001b[39;49;00m \u001b[33m\"\u001b[39;49;00m\u001b[33mcpu\u001b[39;49;00m\u001b[33m\"\u001b[39;49;00m)\r\n",
      "    model = LSTMClassifier(model_info[\u001b[33m'\u001b[39;49;00m\u001b[33membedding_dim\u001b[39;49;00m\u001b[33m'\u001b[39;49;00m], model_info[\u001b[33m'\u001b[39;49;00m\u001b[33mhidden_dim\u001b[39;49;00m\u001b[33m'\u001b[39;49;00m], model_info[\u001b[33m'\u001b[39;49;00m\u001b[33mvocab_size\u001b[39;49;00m\u001b[33m'\u001b[39;49;00m])\r\n",
      "\r\n",
      "    \u001b[37m# Load the store model parameters.\u001b[39;49;00m\r\n",
      "    model_path = os.path.join(model_dir, \u001b[33m'\u001b[39;49;00m\u001b[33mmodel.pth\u001b[39;49;00m\u001b[33m'\u001b[39;49;00m)\r\n",
      "    \u001b[34mwith\u001b[39;49;00m \u001b[36mopen\u001b[39;49;00m(model_path, \u001b[33m'\u001b[39;49;00m\u001b[33mrb\u001b[39;49;00m\u001b[33m'\u001b[39;49;00m) \u001b[34mas\u001b[39;49;00m f:\r\n",
      "        model.load_state_dict(torch.load(f))\r\n",
      "\r\n",
      "    \u001b[37m# Load the saved word_dict.\u001b[39;49;00m\r\n",
      "    word_dict_path = os.path.join(model_dir, \u001b[33m'\u001b[39;49;00m\u001b[33mword_dict.pkl\u001b[39;49;00m\u001b[33m'\u001b[39;49;00m)\r\n",
      "    \u001b[34mwith\u001b[39;49;00m \u001b[36mopen\u001b[39;49;00m(word_dict_path, \u001b[33m'\u001b[39;49;00m\u001b[33mrb\u001b[39;49;00m\u001b[33m'\u001b[39;49;00m) \u001b[34mas\u001b[39;49;00m f:\r\n",
      "        model.word_dict = pickle.load(f)\r\n",
      "\r\n",
      "    model.to(device).eval()\r\n",
      "\r\n",
      "    \u001b[34mprint\u001b[39;49;00m(\u001b[33m\"\u001b[39;49;00m\u001b[33mDone loading model.\u001b[39;49;00m\u001b[33m\"\u001b[39;49;00m)\r\n",
      "    \u001b[34mreturn\u001b[39;49;00m model\r\n",
      "\r\n",
      "\u001b[34mdef\u001b[39;49;00m \u001b[32minput_fn\u001b[39;49;00m(serialized_input_data, content_type):\r\n",
      "    \u001b[34mprint\u001b[39;49;00m(\u001b[33m'\u001b[39;49;00m\u001b[33mDeserializing the input data.\u001b[39;49;00m\u001b[33m'\u001b[39;49;00m)\r\n",
      "    \u001b[34mif\u001b[39;49;00m content_type == \u001b[33m'\u001b[39;49;00m\u001b[33mtext/plain\u001b[39;49;00m\u001b[33m'\u001b[39;49;00m:\r\n",
      "        data = serialized_input_data.decode(\u001b[33m'\u001b[39;49;00m\u001b[33mutf-8\u001b[39;49;00m\u001b[33m'\u001b[39;49;00m)\r\n",
      "        \u001b[34mreturn\u001b[39;49;00m data\r\n",
      "    \u001b[34mraise\u001b[39;49;00m \u001b[36mException\u001b[39;49;00m(\u001b[33m'\u001b[39;49;00m\u001b[33mRequested unsupported ContentType in content_type: \u001b[39;49;00m\u001b[33m'\u001b[39;49;00m + content_type)\r\n",
      "\r\n",
      "\u001b[34mdef\u001b[39;49;00m \u001b[32moutput_fn\u001b[39;49;00m(prediction_output, accept):\r\n",
      "    \u001b[34mprint\u001b[39;49;00m(\u001b[33m'\u001b[39;49;00m\u001b[33mSerializing the generated output.\u001b[39;49;00m\u001b[33m'\u001b[39;49;00m)\r\n",
      "    \u001b[34mreturn\u001b[39;49;00m \u001b[36mstr\u001b[39;49;00m(prediction_output)\r\n",
      "\r\n",
      "\u001b[34mdef\u001b[39;49;00m \u001b[32mpredict_fn\u001b[39;49;00m(input_data, model):\r\n",
      "    \u001b[34mprint\u001b[39;49;00m(\u001b[33m'\u001b[39;49;00m\u001b[33mInferring sentiment of input data.\u001b[39;49;00m\u001b[33m'\u001b[39;49;00m)\r\n",
      "\r\n",
      "    device = torch.device(\u001b[33m\"\u001b[39;49;00m\u001b[33mcuda\u001b[39;49;00m\u001b[33m\"\u001b[39;49;00m \u001b[34mif\u001b[39;49;00m torch.cuda.is_available() \u001b[34melse\u001b[39;49;00m \u001b[33m\"\u001b[39;49;00m\u001b[33mcpu\u001b[39;49;00m\u001b[33m\"\u001b[39;49;00m)\r\n",
      "    \r\n",
      "    \u001b[34mif\u001b[39;49;00m model.word_dict \u001b[35mis\u001b[39;49;00m \u001b[36mNone\u001b[39;49;00m:\r\n",
      "        \u001b[34mraise\u001b[39;49;00m \u001b[36mException\u001b[39;49;00m(\u001b[33m'\u001b[39;49;00m\u001b[33mModel has not been loaded properly, no word_dict.\u001b[39;49;00m\u001b[33m'\u001b[39;49;00m)\r\n",
      "    \r\n",
      "    \u001b[37m# TODO: Process input_data so that it is ready to be sent to our model.\u001b[39;49;00m\r\n",
      "    \u001b[37m#       You should produce two variables:\u001b[39;49;00m\r\n",
      "    \u001b[37m#         data_X   - A sequence of length 500 which represents the converted review\u001b[39;49;00m\r\n",
      "    \u001b[37m#         data_len - The length of the review\u001b[39;49;00m\r\n",
      "    words = review_to_words(input_data)\r\n",
      "    data_X, data_len = convert_and_pad(model.word_dict, words)\r\n",
      "\r\n",
      "\u001b[37m#     data_X = None\u001b[39;49;00m\r\n",
      "\u001b[37m#     data_len = None\u001b[39;49;00m\r\n",
      "\r\n",
      "    \u001b[37m# Using data_X and data_len we construct an appropriate input tensor. Remember\u001b[39;49;00m\r\n",
      "    \u001b[37m# that our model expects input data of the form 'len, review[500]'.\u001b[39;49;00m\r\n",
      "    data_pack = np.hstack((data_len, data_X))\r\n",
      "    data_pack = data_pack.reshape(\u001b[34m1\u001b[39;49;00m, -\u001b[34m1\u001b[39;49;00m)\r\n",
      "    \r\n",
      "    data = torch.from_numpy(data_pack)\r\n",
      "    data = data.to(device)\r\n",
      "\r\n",
      "    \u001b[37m# Make sure to put the model into evaluation mode\u001b[39;49;00m\r\n",
      "    model.eval()\r\n",
      "\r\n",
      "    \u001b[37m# TODO: Compute the result of applying the model to the input data. The variable `result` should\u001b[39;49;00m\r\n",
      "    \u001b[37m#       be a numpy array which contains a single integer which is either 1 or 0\u001b[39;49;00m\r\n",
      "    \u001b[34mwith\u001b[39;49;00m torch.no_grad():\r\n",
      "        output = model.forward(data)\r\n",
      "\r\n",
      "    output = output.cpu()\r\n",
      "    result = \u001b[36mint\u001b[39;49;00m(np.round(output.numpy()))\r\n",
      "\r\n",
      "\u001b[37m#     result = None\u001b[39;49;00m\r\n",
      "\r\n",
      "    \u001b[34mreturn\u001b[39;49;00m result\r\n"
     ]
    }
   ],
   "source": [
    "!pygmentize serve/predict.py"
   ]
  },
  {
   "cell_type": "markdown",
   "metadata": {},
   "source": [
    "As mentioned earlier, the `model_fn` method is the same as the one provided in the training code and the `input_fn` and `output_fn` methods are very simple and your task will be to complete the `predict_fn` method. Make sure that you save the completed file as `predict.py` in the `serve` directory.\n",
    "\n",
    "**TODO**: Complete the `predict_fn()` method in the `serve/predict.py` file."
   ]
  },
  {
   "cell_type": "markdown",
   "metadata": {},
   "source": [
    "### Deploying the model\n",
    "\n",
    "Now that the custom inference code has been written, we will create and deploy our model. To begin with, we need to construct a new PyTorchModel object which points to the model artifacts created during training and also points to the inference code that we wish to use. Then we can call the deploy method to launch the deployment container.\n",
    "\n",
    "**NOTE**: The default behaviour for a deployed PyTorch model is to assume that any input passed to the predictor is a `numpy` array. In our case we want to send a string so we need to construct a simple wrapper around the `RealTimePredictor` class to accomodate simple strings. In a more complicated situation you may want to provide a serialization object, for example if you wanted to sent image data."
   ]
  },
  {
   "cell_type": "code",
   "execution_count": 39,
   "metadata": {},
   "outputs": [
    {
     "name": "stdout",
     "output_type": "stream",
     "text": [
      "-------------!"
     ]
    }
   ],
   "source": [
    "from sagemaker.predictor import RealTimePredictor\n",
    "from sagemaker.pytorch import PyTorchModel\n",
    "\n",
    "class StringPredictor(RealTimePredictor):\n",
    "    def __init__(self, endpoint_name, sagemaker_session):\n",
    "        super(StringPredictor, self).__init__(endpoint_name, sagemaker_session, content_type='text/plain')\n",
    "\n",
    "model = PyTorchModel(model_data=estimator.model_data,\n",
    "                     role = role,\n",
    "                     framework_version='0.4.0',\n",
    "                     entry_point='predict.py',\n",
    "                     source_dir='serve',\n",
    "                     predictor_cls=StringPredictor)\n",
    "predictor = model.deploy(initial_instance_count=1, instance_type='ml.m4.xlarge')"
   ]
  },
  {
   "cell_type": "markdown",
   "metadata": {},
   "source": [
    "### Testing the model\n",
    "\n",
    "Now that we have deployed our model with the custom inference code, we should test to see if everything is working. Here we test our model by loading the first `250` positive and negative reviews and send them to the endpoint, then collect the results. The reason for only sending some of the data is that the amount of time it takes for our model to process the input and then perform inference is quite long and so testing the entire data set would be prohibitive."
   ]
  },
  {
   "cell_type": "code",
   "execution_count": 40,
   "metadata": {},
   "outputs": [],
   "source": [
    "import glob\n",
    "\n",
    "def test_reviews(data_dir='../data/aclImdb', stop=250):\n",
    "    \n",
    "    results = []\n",
    "    ground = []\n",
    "    \n",
    "    # We make sure to test both positive and negative reviews    \n",
    "    for sentiment in ['pos', 'neg']:\n",
    "        \n",
    "        path = os.path.join(data_dir, 'test', sentiment, '*.txt')\n",
    "        files = glob.glob(path)\n",
    "        \n",
    "        files_read = 0\n",
    "        \n",
    "        print('Starting ', sentiment, ' files')\n",
    "        \n",
    "        # Iterate through the files and send them to the predictor\n",
    "        for f in files:\n",
    "            with open(f) as review:\n",
    "                # First, we store the ground truth (was the review positive or negative)\n",
    "                if sentiment == 'pos':\n",
    "                    ground.append(1)\n",
    "                else:\n",
    "                    ground.append(0)\n",
    "                # Read in the review and convert to 'utf-8' for transmission via HTTP\n",
    "                review_input = review.read().encode('utf-8')\n",
    "                # Send the review to the predictor and store the results\n",
    "                results.append(int(float(predictor.predict(review_input))))\n",
    "                \n",
    "            # Sending reviews to our endpoint one at a time takes a while so we\n",
    "            # only send a small number of reviews\n",
    "            files_read += 1\n",
    "            if files_read == stop:\n",
    "                break\n",
    "            \n",
    "    return ground, results"
   ]
  },
  {
   "cell_type": "code",
   "execution_count": 41,
   "metadata": {},
   "outputs": [
    {
     "name": "stdout",
     "output_type": "stream",
     "text": [
      "Starting  pos  files\n",
      "Starting  neg  files\n"
     ]
    }
   ],
   "source": [
    "ground, results = test_reviews()"
   ]
  },
  {
   "cell_type": "code",
   "execution_count": 42,
   "metadata": {},
   "outputs": [
    {
     "data": {
      "text/plain": [
       "0.85"
      ]
     },
     "execution_count": 42,
     "metadata": {},
     "output_type": "execute_result"
    }
   ],
   "source": [
    "from sklearn.metrics import accuracy_score\n",
    "accuracy_score(ground, results)"
   ]
  },
  {
   "cell_type": "markdown",
   "metadata": {},
   "source": [
    "As an additional test, we can try sending the `test_review` that we looked at earlier."
   ]
  },
  {
   "cell_type": "code",
   "execution_count": 43,
   "metadata": {},
   "outputs": [
    {
     "data": {
      "text/plain": [
       "b'1'"
      ]
     },
     "execution_count": 43,
     "metadata": {},
     "output_type": "execute_result"
    }
   ],
   "source": [
    "predictor.predict(test_review)"
   ]
  },
  {
   "cell_type": "markdown",
   "metadata": {},
   "source": [
    "Now that we know our endpoint is working as expected, we can set up the web page that will interact with it. If you don't have time to finish the project now, make sure to skip down to the end of this notebook and shut down your endpoint. You can deploy it again when you come back."
   ]
  },
  {
   "cell_type": "markdown",
   "metadata": {},
   "source": [
    "## Step 7 (again): Use the model for the web app\n",
    "\n",
    "> **TODO:** This entire section and the next contain tasks for you to complete, mostly using the AWS console.\n",
    "\n",
    "So far we have been accessing our model endpoint by constructing a predictor object which uses the endpoint and then just using the predictor object to perform inference. What if we wanted to create a web app which accessed our model? The way things are set up currently makes that not possible since in order to access a SageMaker endpoint the app would first have to authenticate with AWS using an IAM role which included access to SageMaker endpoints. However, there is an easier way! We just need to use some additional AWS services.\n",
    "\n",
    "<img src=\"Web App Diagram.svg\">\n",
    "\n",
    "The diagram above gives an overview of how the various services will work together. On the far right is the model which we trained above and which is deployed using SageMaker. On the far left is our web app that collects a user's movie review, sends it off and expects a positive or negative sentiment in return.\n",
    "\n",
    "In the middle is where some of the magic happens. We will construct a Lambda function, which you can think of as a straightforward Python function that can be executed whenever a specified event occurs. We will give this function permission to send and recieve data from a SageMaker endpoint.\n",
    "\n",
    "Lastly, the method we will use to execute the Lambda function is a new endpoint that we will create using API Gateway. This endpoint will be a url that listens for data to be sent to it. Once it gets some data it will pass that data on to the Lambda function and then return whatever the Lambda function returns. Essentially it will act as an interface that lets our web app communicate with the Lambda function.\n",
    "\n",
    "### Setting up a Lambda function\n",
    "\n",
    "The first thing we are going to do is set up a Lambda function. This Lambda function will be executed whenever our public API has data sent to it. When it is executed it will receive the data, perform any sort of processing that is required, send the data (the review) to the SageMaker endpoint we've created and then return the result.\n",
    "\n",
    "#### Part A: Create an IAM Role for the Lambda function\n",
    "\n",
    "Since we want the Lambda function to call a SageMaker endpoint, we need to make sure that it has permission to do so. To do this, we will construct a role that we can later give the Lambda function.\n",
    "\n",
    "Using the AWS Console, navigate to the **IAM** page and click on **Roles**. Then, click on **Create role**. Make sure that the **AWS service** is the type of trusted entity selected and choose **Lambda** as the service that will use this role, then click **Next: Permissions**.\n",
    "\n",
    "In the search box type `sagemaker` and select the check box next to the **AmazonSageMakerFullAccess** policy. Then, click on **Next: Review**.\n",
    "\n",
    "Lastly, give this role a name. Make sure you use a name that you will remember later on, for example `LambdaSageMakerRole`. Then, click on **Create role**.\n",
    "\n",
    "#### Part B: Create a Lambda function\n",
    "\n",
    "Now it is time to actually create the Lambda function.\n",
    "\n",
    "Using the AWS Console, navigate to the AWS Lambda page and click on **Create a function**. When you get to the next page, make sure that **Author from scratch** is selected. Now, name your Lambda function, using a name that you will remember later on, for example `sentiment_analysis_func`. Make sure that the **Python 3.6** runtime is selected and then choose the role that you created in the previous part. Then, click on **Create Function**.\n",
    "\n",
    "On the next page you will see some information about the Lambda function you've just created. If you scroll down you should see an editor in which you can write the code that will be executed when your Lambda function is triggered. In our example, we will use the code below. \n",
    "\n",
    "```python\n",
    "# We need to use the low-level library to interact with SageMaker since the SageMaker API\n",
    "# is not available natively through Lambda.\n",
    "import boto3\n",
    "\n",
    "def lambda_handler(event, context):\n",
    "\n",
    "    # The SageMaker runtime is what allows us to invoke the endpoint that we've created.\n",
    "    runtime = boto3.Session().client('sagemaker-runtime')\n",
    "\n",
    "    # Now we use the SageMaker runtime to invoke our endpoint, sending the review we were given\n",
    "    response = runtime.invoke_endpoint(EndpointName = '**ENDPOINT NAME HERE**',    # The name of the endpoint we created\n",
    "                                       ContentType = 'text/plain',                 # The data format that is expected\n",
    "                                       Body = event['body'])                       # The actual review\n",
    "\n",
    "    # The response is an HTTP response whose body contains the result of our inference\n",
    "    result = response['Body'].read().decode('utf-8')\n",
    "\n",
    "    return {\n",
    "        'statusCode' : 200,\n",
    "        'headers' : { 'Content-Type' : 'text/plain', 'Access-Control-Allow-Origin' : '*' },\n",
    "        'body' : result\n",
    "    }\n",
    "```\n",
    "\n",
    "Once you have copy and pasted the code above into the Lambda code editor, replace the `**ENDPOINT NAME HERE**` portion with the name of the endpoint that we deployed earlier. You can determine the name of the endpoint using the code cell below."
   ]
  },
  {
   "cell_type": "code",
   "execution_count": 44,
   "metadata": {},
   "outputs": [
    {
     "data": {
      "text/plain": [
       "'sagemaker-pytorch-2020-04-14-20-22-49-293'"
      ]
     },
     "execution_count": 44,
     "metadata": {},
     "output_type": "execute_result"
    }
   ],
   "source": [
    "predictor.endpoint"
   ]
  },
  {
   "cell_type": "markdown",
   "metadata": {},
   "source": [
    "Once you have added the endpoint name to the Lambda function, click on **Save**. Your Lambda function is now up and running. Next we need to create a way for our web app to execute the Lambda function.\n",
    "\n",
    "### Setting up API Gateway\n",
    "\n",
    "Now that our Lambda function is set up, it is time to create a new API using API Gateway that will trigger the Lambda function we have just created.\n",
    "\n",
    "Using AWS Console, navigate to **Amazon API Gateway** and then click on **Get started**.\n",
    "\n",
    "On the next page, make sure that **New API** is selected and give the new api a name, for example, `sentiment_analysis_api`. Then, click on **Create API**.\n",
    "\n",
    "Now we have created an API, however it doesn't currently do anything. What we want it to do is to trigger the Lambda function that we created earlier.\n",
    "\n",
    "Select the **Actions** dropdown menu and click **Create Method**. A new blank method will be created, select its dropdown menu and select **POST**, then click on the check mark beside it.\n",
    "\n",
    "For the integration point, make sure that **Lambda Function** is selected and click on the **Use Lambda Proxy integration**. This option makes sure that the data that is sent to the API is then sent directly to the Lambda function with no processing. It also means that the return value must be a proper response object as it will also not be processed by API Gateway.\n",
    "\n",
    "Type the name of the Lambda function you created earlier into the **Lambda Function** text entry box and then click on **Save**. Click on **OK** in the pop-up box that then appears, giving permission to API Gateway to invoke the Lambda function you created.\n",
    "\n",
    "The last step in creating the API Gateway is to select the **Actions** dropdown and click on **Deploy API**. You will need to create a new Deployment stage and name it anything you like, for example `prod`.\n",
    "\n",
    "You have now successfully set up a public API to access your SageMaker model. Make sure to copy or write down the URL provided to invoke your newly created public API as this will be needed in the next step. This URL can be found at the top of the page, highlighted in blue next to the text **Invoke URL**."
   ]
  },
  {
   "cell_type": "markdown",
   "metadata": {},
   "source": [
    "## Step 4: Deploying our web app\n",
    "\n",
    "Now that we have a publicly available API, we can start using it in a web app. For our purposes, we have provided a simple static html file which can make use of the public api you created earlier.\n",
    "\n",
    "In the `website` folder there should be a file called `index.html`. Download the file to your computer and open that file up in a text editor of your choice. There should be a line which contains **\\*\\*REPLACE WITH PUBLIC API URL\\*\\***. Replace this string with the url that you wrote down in the last step and then save the file.\n",
    "\n",
    "Now, if you open `index.html` on your local computer, your browser will behave as a local web server and you can use the provided site to interact with your SageMaker model.\n",
    "\n",
    "If you'd like to go further, you can host this html file anywhere you'd like, for example using github or hosting a static site on Amazon's S3. Once you have done this you can share the link with anyone you'd like and have them play with it too!\n",
    "\n",
    "> **Important Note** In order for the web app to communicate with the SageMaker endpoint, the endpoint has to actually be deployed and running. This means that you are paying for it. Make sure that the endpoint is running when you want to use the web app but that you shut it down when you don't need it, otherwise you will end up with a surprisingly large AWS bill.\n",
    "\n",
    "**TODO:** Make sure that you include the edited `index.html` file in your project submission."
   ]
  },
  {
   "cell_type": "markdown",
   "metadata": {},
   "source": [
    "Now that your web app is working, trying playing around with it and see how well it works.\n",
    "\n",
    "**Question**: Give an example of a review that you entered into your web app. What was the predicted sentiment of your example review?"
   ]
  },
  {
   "cell_type": "markdown",
   "metadata": {},
   "source": [
    "**Answer:**\n",
    "\"I didn't like it that much, I think there could have been improvements made to the costume, screenplay and acting.\"\n",
    "- Predicted as Negative"
   ]
  },
  {
   "cell_type": "markdown",
   "metadata": {},
   "source": [
    "### Delete the endpoint\n",
    "\n",
    "Remember to always shut down your endpoint if you are no longer using it. You are charged for the length of time that the endpoint is running so if you forget and leave it on you could end up with an unexpectedly large bill."
   ]
  },
  {
   "cell_type": "code",
   "execution_count": 45,
   "metadata": {},
   "outputs": [],
   "source": [
    "predictor.delete_endpoint()"
   ]
  },
  {
   "cell_type": "code",
   "execution_count": null,
   "metadata": {},
   "outputs": [],
   "source": []
  },
  {
   "cell_type": "code",
   "execution_count": null,
   "metadata": {},
   "outputs": [],
   "source": []
  }
 ],
 "metadata": {
  "kernelspec": {
   "display_name": "conda_pytorch_p36",
   "language": "python",
   "name": "conda_pytorch_p36"
  },
  "language_info": {
   "codemirror_mode": {
    "name": "ipython",
    "version": 3
   },
   "file_extension": ".py",
   "mimetype": "text/x-python",
   "name": "python",
   "nbconvert_exporter": "python",
   "pygments_lexer": "ipython3",
   "version": "3.6.5"
  }
 },
 "nbformat": 4,
 "nbformat_minor": 2
}
